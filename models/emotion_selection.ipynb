{
 "cells": [
  {
   "cell_type": "code",
   "execution_count": 1,
   "metadata": {},
   "outputs": [],
   "source": [
    "import pandas as pd\n",
    "import pickle\n",
    "from tqdm import tqdm\n",
    "tqdm.pandas()"
   ]
  },
  {
   "cell_type": "code",
   "execution_count": 2,
   "metadata": {},
   "outputs": [],
   "source": [
    "DIR_new = 'C:\\\\Users\\\\jesse\\\\Desktop\\\\Honors Project\\\\'\n",
    "\n",
    "with open(DIR_new+ 'ya_reviews.pkl', 'rb') as f:\n",
    "    reviews = pickle.load(f)"
   ]
  },
  {
   "cell_type": "markdown",
   "metadata": {},
   "source": [
    "## Emotion Extraction of Reviews"
   ]
  },
  {
   "cell_type": "code",
   "execution_count": 5,
   "metadata": {},
   "outputs": [],
   "source": [
    "tester = reviews.head(10)"
   ]
  },
  {
   "cell_type": "code",
   "execution_count": 9,
   "metadata": {},
   "outputs": [
    {
     "name": "stderr",
     "output_type": "stream",
     "text": [
      "C:\\Users\\jesse\\AppData\\Local\\Temp\\ipykernel_14424\\3997915532.py:3: SettingWithCopyWarning: \n",
      "A value is trying to be set on a copy of a slice from a DataFrame.\n",
      "Try using .loc[row_indexer,col_indexer] = value instead\n",
      "\n",
      "See the caveats in the documentation: https://pandas.pydata.org/pandas-docs/stable/user_guide/indexing.html#returning-a-view-versus-a-copy\n",
      "  tester['review_text'] = tester['review_text'].astype(str)\n",
      "100%|██████████| 10/10 [00:00<00:00, 552.03it/s]\n",
      "C:\\Users\\jesse\\AppData\\Local\\Temp\\ipykernel_14424\\3997915532.py:4: SettingWithCopyWarning: \n",
      "A value is trying to be set on a copy of a slice from a DataFrame.\n",
      "Try using .loc[row_indexer,col_indexer] = value instead\n",
      "\n",
      "See the caveats in the documentation: https://pandas.pydata.org/pandas-docs/stable/user_guide/indexing.html#returning-a-view-versus-a-copy\n",
      "  tester['nrclex'] = tester['review_text'].progress_apply(nrclex)\n"
     ]
    }
   ],
   "source": [
    "from nrclex import NRCLex as nrc\n",
    "\n",
    "tester['review_text'] = tester['review_text'].astype(str)\n",
    "tester['nrclex'] = tester['review_text'].progress_apply(nrclex)"
   ]
  },
  {
   "cell_type": "code",
   "execution_count": 7,
   "metadata": {},
   "outputs": [
    {
     "name": "stderr",
     "output_type": "stream",
     "text": [
      "[nltk_data] Downloading package stopwords to\n",
      "[nltk_data]     C:\\Users\\jesse\\AppData\\Roaming\\nltk_data...\n",
      "[nltk_data]   Package stopwords is already up-to-date!\n",
      "[nltk_data] Downloading package punkt to\n",
      "[nltk_data]     C:\\Users\\jesse\\AppData\\Roaming\\nltk_data...\n",
      "[nltk_data]   Package punkt is already up-to-date!\n",
      "[nltk_data] Downloading package wordnet to\n",
      "[nltk_data]     C:\\Users\\jesse\\AppData\\Roaming\\nltk_data...\n",
      "[nltk_data]   Package wordnet is already up-to-date!\n",
      "100%|██████████| 10/10 [00:09<00:00,  1.02it/s]\n",
      "C:\\Users\\jesse\\AppData\\Local\\Temp\\ipykernel_14424\\2069988320.py:3: SettingWithCopyWarning: \n",
      "A value is trying to be set on a copy of a slice from a DataFrame.\n",
      "Try using .loc[row_indexer,col_indexer] = value instead\n",
      "\n",
      "See the caveats in the documentation: https://pandas.pydata.org/pandas-docs/stable/user_guide/indexing.html#returning-a-view-versus-a-copy\n",
      "  tester['text2emotion'] = tester['review_text'].progress_apply(lambda x: te.get_emotion(x))\n"
     ]
    }
   ],
   "source": [
    "import text2emotion as te\n",
    "\n",
    "tester['text2emotion'] = tester['review_text'].progress_apply(lambda x: te.get_emotion(x))"
   ]
  },
  {
   "cell_type": "code",
   "execution_count": 10,
   "metadata": {},
   "outputs": [
    {
     "data": {
      "text/html": [
       "<div>\n",
       "<style scoped>\n",
       "    .dataframe tbody tr th:only-of-type {\n",
       "        vertical-align: middle;\n",
       "    }\n",
       "\n",
       "    .dataframe tbody tr th {\n",
       "        vertical-align: top;\n",
       "    }\n",
       "\n",
       "    .dataframe thead th {\n",
       "        text-align: right;\n",
       "    }\n",
       "</style>\n",
       "<table border=\"1\" class=\"dataframe\">\n",
       "  <thead>\n",
       "    <tr style=\"text-align: right;\">\n",
       "      <th></th>\n",
       "      <th>book_id</th>\n",
       "      <th>review_id</th>\n",
       "      <th>rating</th>\n",
       "      <th>review_text</th>\n",
       "      <th>n_votes</th>\n",
       "      <th>n_comments</th>\n",
       "      <th>all_caps</th>\n",
       "      <th>review_text_lemmatized</th>\n",
       "      <th>tokenized</th>\n",
       "      <th>bigrams</th>\n",
       "      <th>trigrams</th>\n",
       "      <th>text2emotion</th>\n",
       "      <th>nrclex</th>\n",
       "    </tr>\n",
       "  </thead>\n",
       "  <tbody>\n",
       "    <tr>\n",
       "      <th>0</th>\n",
       "      <td>2767052</td>\n",
       "      <td>248c011811e945eca861b5c31a549291</td>\n",
       "      <td>5</td>\n",
       "      <td>I cracked and finally picked this up. Very enj...</td>\n",
       "      <td>24</td>\n",
       "      <td>25</td>\n",
       "      <td>0</td>\n",
       "      <td>i crack and finally pick this up very enjoyabl...</td>\n",
       "      <td>[crack, finally, pick, enjoyable, quick, not, ...</td>\n",
       "      <td>[(crack, finally), (finally, pick), (pick, enj...</td>\n",
       "      <td>[(crack, finally, pick), (finally, pick, enjoy...</td>\n",
       "      <td>{'Happy': 0.3, 'Angry': 0.1, 'Surprise': 0.13,...</td>\n",
       "      <td>[(positive, 0.2)]</td>\n",
       "    </tr>\n",
       "    <tr>\n",
       "      <th>1</th>\n",
       "      <td>23302416</td>\n",
       "      <td>84c0936a0f9868f38e75d2f9a5cb761e</td>\n",
       "      <td>5</td>\n",
       "      <td>I read this book because my fifth grade son wa...</td>\n",
       "      <td>0</td>\n",
       "      <td>0</td>\n",
       "      <td>0</td>\n",
       "      <td>i read this book because my fifth grade son be...</td>\n",
       "      <td>[fifth, grade, son, require, glad, !, experien...</td>\n",
       "      <td>[(fifth, grade), (grade, son), (son, require),...</td>\n",
       "      <td>[(fifth, grade, son), (grade, son, require), (...</td>\n",
       "      <td>{'Happy': 0.75, 'Angry': 0.0, 'Surprise': 0.0,...</td>\n",
       "      <td>[(trust, 0.2857142857142857), (positive, 0.285...</td>\n",
       "    </tr>\n",
       "    <tr>\n",
       "      <th>2</th>\n",
       "      <td>18053080</td>\n",
       "      <td>785c8db878f4009da9741dea51f641da</td>\n",
       "      <td>4</td>\n",
       "      <td>Though the book started out slow and only star...</td>\n",
       "      <td>0</td>\n",
       "      <td>0</td>\n",
       "      <td>0</td>\n",
       "      <td>though the book start out slow and only start ...</td>\n",
       "      <td>[start, slow, start, interesting, towards, 100...</td>\n",
       "      <td>[(start, slow), (slow, start), (start, interes...</td>\n",
       "      <td>[(start, slow, start), (slow, start, interesti...</td>\n",
       "      <td>{'Happy': 0.5, 'Angry': 0.0, 'Surprise': 0.0, ...</td>\n",
       "      <td>[(positive, 1.0)]</td>\n",
       "    </tr>\n",
       "    <tr>\n",
       "      <th>3</th>\n",
       "      <td>17383543</td>\n",
       "      <td>34dc3c45d07e82718b05e73167259aef</td>\n",
       "      <td>2</td>\n",
       "      <td>*Update - 10/27/13* - After some sleep, I thin...</td>\n",
       "      <td>0</td>\n",
       "      <td>0</td>\n",
       "      <td>0</td>\n",
       "      <td>after some sleep i think about allegiant overa...</td>\n",
       "      <td>[sleep, think, allegiant, overall, without, in...</td>\n",
       "      <td>[(sleep, think), (think, allegiant), (allegian...</td>\n",
       "      <td>[(sleep, think, allegiant), (think, allegiant,...</td>\n",
       "      <td>{'Happy': 0.03, 'Angry': 0.16, 'Surprise': 0.1...</td>\n",
       "      <td>[(positive, 0.4358974358974359)]</td>\n",
       "    </tr>\n",
       "    <tr>\n",
       "      <th>4</th>\n",
       "      <td>16651458</td>\n",
       "      <td>d8d6b590780256fef7ae4a9550fe3e0d</td>\n",
       "      <td>5</td>\n",
       "      <td>This is a moving, heartbreaking, view into a l...</td>\n",
       "      <td>0</td>\n",
       "      <td>0</td>\n",
       "      <td>0</td>\n",
       "      <td>this be a move heartbreaking view into a life ...</td>\n",
       "      <td>[move, heartbreaking, view, life, obese, 16, o...</td>\n",
       "      <td>[(move, heartbreaking), (heartbreaking, view),...</td>\n",
       "      <td>[(move, heartbreaking, view), (heartbreaking, ...</td>\n",
       "      <td>{'Happy': 0.17, 'Angry': 0.0, 'Surprise': 0.0,...</td>\n",
       "      <td>[(positive, 0.3125)]</td>\n",
       "    </tr>\n",
       "    <tr>\n",
       "      <th>5</th>\n",
       "      <td>10782699</td>\n",
       "      <td>972ce1267de0213e3032c685386890e6</td>\n",
       "      <td>5</td>\n",
       "      <td>I never thought I would enjoy a zombie books w...</td>\n",
       "      <td>0</td>\n",
       "      <td>0</td>\n",
       "      <td>0</td>\n",
       "      <td>i never think i would enjoy a zombie book with...</td>\n",
       "      <td>[never, think, enjoy, zombie, mix, romance, am...</td>\n",
       "      <td>[(never, think), (think, enjoy), (enjoy, zombi...</td>\n",
       "      <td>[(never, think, enjoy), (think, enjoy, zombie)...</td>\n",
       "      <td>{'Happy': 0.3, 'Angry': 0.0, 'Surprise': 0.2, ...</td>\n",
       "      <td>[(positive, 0.2916666666666667)]</td>\n",
       "    </tr>\n",
       "    <tr>\n",
       "      <th>6</th>\n",
       "      <td>7260188</td>\n",
       "      <td>21063e8930ec28bc54e76f932aa30ce1</td>\n",
       "      <td>5</td>\n",
       "      <td>What a great ending to the trilogy!! The secon...</td>\n",
       "      <td>0</td>\n",
       "      <td>0</td>\n",
       "      <td>0</td>\n",
       "      <td>what a great end to the trilogy ! ! the second...</td>\n",
       "      <td>[great, end, trilogy, !, !, second, good, awes...</td>\n",
       "      <td>[(great, end), (end, trilogy), (trilogy, !), (...</td>\n",
       "      <td>[(great, end, trilogy), (end, trilogy, !), (tr...</td>\n",
       "      <td>{'Happy': 0.33, 'Angry': 0.17, 'Surprise': 0.1...</td>\n",
       "      <td>[(anticipation, 1.0)]</td>\n",
       "    </tr>\n",
       "    <tr>\n",
       "      <th>7</th>\n",
       "      <td>6148028</td>\n",
       "      <td>a19c6c44a40a88c8ff825f40118a9c7c</td>\n",
       "      <td>5</td>\n",
       "      <td>LOVED IT!!</td>\n",
       "      <td>0</td>\n",
       "      <td>0</td>\n",
       "      <td>1</td>\n",
       "      <td>love it ! !</td>\n",
       "      <td>[love, !, !]</td>\n",
       "      <td>[(love, !), (!, !)]</td>\n",
       "      <td>[(love, !, !)]</td>\n",
       "      <td>{'Happy': 1.0, 'Angry': 0.0, 'Surprise': 0.0, ...</td>\n",
       "      <td>[(fear, 0.0), (anger, 0.0), (anticip, 0.0), (t...</td>\n",
       "    </tr>\n",
       "    <tr>\n",
       "      <th>8</th>\n",
       "      <td>2767052</td>\n",
       "      <td>c52e231744768e9d7f939d1cbeb87666</td>\n",
       "      <td>5</td>\n",
       "      <td>Exciting, fun, entertaining! :)</td>\n",
       "      <td>0</td>\n",
       "      <td>0</td>\n",
       "      <td>0</td>\n",
       "      <td>excite fun entertaining !</td>\n",
       "      <td>[excite, fun, entertaining, !]</td>\n",
       "      <td>[(excite, fun), (fun, entertaining), (entertai...</td>\n",
       "      <td>[(excite, fun, entertaining), (fun, entertaini...</td>\n",
       "      <td>{'Happy': 0.5, 'Angry': 0.0, 'Surprise': 0.0, ...</td>\n",
       "      <td>[(positive, 0.3333333333333333), (joy, 0.33333...</td>\n",
       "    </tr>\n",
       "    <tr>\n",
       "      <th>9</th>\n",
       "      <td>13206828</td>\n",
       "      <td>1d5b64fe0408bb5e1824d14631ccb5ee</td>\n",
       "      <td>5</td>\n",
       "      <td>LET'S JUST SAY I AM SO THANKFUL I HAVE THE NEX...</td>\n",
       "      <td>0</td>\n",
       "      <td>0</td>\n",
       "      <td>1</td>\n",
       "      <td>let u just say i be so thankful i have the nex...</td>\n",
       "      <td>[let, u, thankful, beside]</td>\n",
       "      <td>[(let, u), (u, thankful), (thankful, beside)]</td>\n",
       "      <td>[(let, u, thankful), (u, thankful, beside)]</td>\n",
       "      <td>{'Happy': 1.0, 'Angry': 0.0, 'Surprise': 0.0, ...</td>\n",
       "      <td>[(fear, 0.0), (anger, 0.0), (anticip, 0.0), (t...</td>\n",
       "    </tr>\n",
       "  </tbody>\n",
       "</table>\n",
       "</div>"
      ],
      "text/plain": [
       "    book_id                         review_id  rating  \\\n",
       "0   2767052  248c011811e945eca861b5c31a549291       5   \n",
       "1  23302416  84c0936a0f9868f38e75d2f9a5cb761e       5   \n",
       "2  18053080  785c8db878f4009da9741dea51f641da       4   \n",
       "3  17383543  34dc3c45d07e82718b05e73167259aef       2   \n",
       "4  16651458  d8d6b590780256fef7ae4a9550fe3e0d       5   \n",
       "5  10782699  972ce1267de0213e3032c685386890e6       5   \n",
       "6   7260188  21063e8930ec28bc54e76f932aa30ce1       5   \n",
       "7   6148028  a19c6c44a40a88c8ff825f40118a9c7c       5   \n",
       "8   2767052  c52e231744768e9d7f939d1cbeb87666       5   \n",
       "9  13206828  1d5b64fe0408bb5e1824d14631ccb5ee       5   \n",
       "\n",
       "                                         review_text  n_votes  n_comments  \\\n",
       "0  I cracked and finally picked this up. Very enj...       24          25   \n",
       "1  I read this book because my fifth grade son wa...        0           0   \n",
       "2  Though the book started out slow and only star...        0           0   \n",
       "3  *Update - 10/27/13* - After some sleep, I thin...        0           0   \n",
       "4  This is a moving, heartbreaking, view into a l...        0           0   \n",
       "5  I never thought I would enjoy a zombie books w...        0           0   \n",
       "6  What a great ending to the trilogy!! The secon...        0           0   \n",
       "7                                         LOVED IT!!        0           0   \n",
       "8                    Exciting, fun, entertaining! :)        0           0   \n",
       "9  LET'S JUST SAY I AM SO THANKFUL I HAVE THE NEX...        0           0   \n",
       "\n",
       "   all_caps                             review_text_lemmatized  \\\n",
       "0         0  i crack and finally pick this up very enjoyabl...   \n",
       "1         0  i read this book because my fifth grade son be...   \n",
       "2         0  though the book start out slow and only start ...   \n",
       "3         0  after some sleep i think about allegiant overa...   \n",
       "4         0  this be a move heartbreaking view into a life ...   \n",
       "5         0  i never think i would enjoy a zombie book with...   \n",
       "6         0  what a great end to the trilogy ! ! the second...   \n",
       "7         1                                        love it ! !   \n",
       "8         0                          excite fun entertaining !   \n",
       "9         1  let u just say i be so thankful i have the nex...   \n",
       "\n",
       "                                           tokenized  \\\n",
       "0  [crack, finally, pick, enjoyable, quick, not, ...   \n",
       "1  [fifth, grade, son, require, glad, !, experien...   \n",
       "2  [start, slow, start, interesting, towards, 100...   \n",
       "3  [sleep, think, allegiant, overall, without, in...   \n",
       "4  [move, heartbreaking, view, life, obese, 16, o...   \n",
       "5  [never, think, enjoy, zombie, mix, romance, am...   \n",
       "6  [great, end, trilogy, !, !, second, good, awes...   \n",
       "7                                       [love, !, !]   \n",
       "8                     [excite, fun, entertaining, !]   \n",
       "9                         [let, u, thankful, beside]   \n",
       "\n",
       "                                             bigrams  \\\n",
       "0  [(crack, finally), (finally, pick), (pick, enj...   \n",
       "1  [(fifth, grade), (grade, son), (son, require),...   \n",
       "2  [(start, slow), (slow, start), (start, interes...   \n",
       "3  [(sleep, think), (think, allegiant), (allegian...   \n",
       "4  [(move, heartbreaking), (heartbreaking, view),...   \n",
       "5  [(never, think), (think, enjoy), (enjoy, zombi...   \n",
       "6  [(great, end), (end, trilogy), (trilogy, !), (...   \n",
       "7                                [(love, !), (!, !)]   \n",
       "8  [(excite, fun), (fun, entertaining), (entertai...   \n",
       "9      [(let, u), (u, thankful), (thankful, beside)]   \n",
       "\n",
       "                                            trigrams  \\\n",
       "0  [(crack, finally, pick), (finally, pick, enjoy...   \n",
       "1  [(fifth, grade, son), (grade, son, require), (...   \n",
       "2  [(start, slow, start), (slow, start, interesti...   \n",
       "3  [(sleep, think, allegiant), (think, allegiant,...   \n",
       "4  [(move, heartbreaking, view), (heartbreaking, ...   \n",
       "5  [(never, think, enjoy), (think, enjoy, zombie)...   \n",
       "6  [(great, end, trilogy), (end, trilogy, !), (tr...   \n",
       "7                                     [(love, !, !)]   \n",
       "8  [(excite, fun, entertaining), (fun, entertaini...   \n",
       "9        [(let, u, thankful), (u, thankful, beside)]   \n",
       "\n",
       "                                        text2emotion  \\\n",
       "0  {'Happy': 0.3, 'Angry': 0.1, 'Surprise': 0.13,...   \n",
       "1  {'Happy': 0.75, 'Angry': 0.0, 'Surprise': 0.0,...   \n",
       "2  {'Happy': 0.5, 'Angry': 0.0, 'Surprise': 0.0, ...   \n",
       "3  {'Happy': 0.03, 'Angry': 0.16, 'Surprise': 0.1...   \n",
       "4  {'Happy': 0.17, 'Angry': 0.0, 'Surprise': 0.0,...   \n",
       "5  {'Happy': 0.3, 'Angry': 0.0, 'Surprise': 0.2, ...   \n",
       "6  {'Happy': 0.33, 'Angry': 0.17, 'Surprise': 0.1...   \n",
       "7  {'Happy': 1.0, 'Angry': 0.0, 'Surprise': 0.0, ...   \n",
       "8  {'Happy': 0.5, 'Angry': 0.0, 'Surprise': 0.0, ...   \n",
       "9  {'Happy': 1.0, 'Angry': 0.0, 'Surprise': 0.0, ...   \n",
       "\n",
       "                                              nrclex  \n",
       "0                                  [(positive, 0.2)]  \n",
       "1  [(trust, 0.2857142857142857), (positive, 0.285...  \n",
       "2                                  [(positive, 1.0)]  \n",
       "3                   [(positive, 0.4358974358974359)]  \n",
       "4                               [(positive, 0.3125)]  \n",
       "5                   [(positive, 0.2916666666666667)]  \n",
       "6                              [(anticipation, 1.0)]  \n",
       "7  [(fear, 0.0), (anger, 0.0), (anticip, 0.0), (t...  \n",
       "8  [(positive, 0.3333333333333333), (joy, 0.33333...  \n",
       "9  [(fear, 0.0), (anger, 0.0), (anticip, 0.0), (t...  "
      ]
     },
     "execution_count": 10,
     "metadata": {},
     "output_type": "execute_result"
    }
   ],
   "source": [
    "tester"
   ]
  },
  {
   "cell_type": "markdown",
   "metadata": {},
   "source": [
    "### Lexicon - \"Emotion Based Literature Classification\""
   ]
  },
  {
   "cell_type": "code",
   "execution_count": null,
   "metadata": {},
   "outputs": [],
   "source": [
    "# from nltk.stem import WordNetLemmatizer\n",
    "# lemmatizer = WordNetLemmatizer()\n",
    "\n",
    "# with open('emotions.txt', 'r') as file:\n",
    "#     with open('lemmatized_emotions.txt', 'w') as outfile:\n",
    "#         for line in file:\n",
    "#             clear_line = line.replace('\\n', '').replace(',', '').replace(\"'\", '').strip()\n",
    "#             word, emotion = clear_line.split(':')\n",
    "#             lemmatized_word = lemmatizer.lemmatize(word, pos='v')\n",
    "#             outfile.write(f\"'{lemmatized_word}': '{emotion.strip()}',\\n\")"
   ]
  },
  {
   "cell_type": "code",
   "execution_count": 17,
   "metadata": {},
   "outputs": [
    {
     "name": "stderr",
     "output_type": "stream",
     "text": [
      "100%|██████████| 2388654/2388654 [00:47<00:00, 50552.67it/s]\n",
      "100%|██████████| 10/10 [00:00<00:00, 9834.24it/s]\n",
      "C:\\Users\\jesse\\AppData\\Local\\Temp\\ipykernel_14424\\411465043.py:12: SettingWithCopyWarning: \n",
      "A value is trying to be set on a copy of a slice from a DataFrame.\n",
      "Try using .loc[row_indexer,col_indexer] = value instead\n",
      "\n",
      "See the caveats in the documentation: https://pandas.pydata.org/pandas-docs/stable/user_guide/indexing.html#returning-a-view-versus-a-copy\n",
      "  tester['token_review_text'] = tester['tokenized'].progress_apply(lambda x: cleantokens(x))\n"
     ]
    }
   ],
   "source": [
    "def cleantokens(tokens):\n",
    "    final_words = []\n",
    "    for word in tokens:\n",
    "        final_words.append(word)\n",
    "    text = ''\n",
    "    for word in final_words:\n",
    "        text = text + word + ' '\n",
    "    return text\n",
    "\n",
    "def cleangrams(gram_list):\n",
    "    [' '.join(gram) for gram in gram_list]\n",
    "\n",
    "\n",
    "reviews['token_review_text'] = reviews['tokenized'].progress_apply(lambda x: cleantokens(x))\n",
    "\n",
    "tester['token_review_text'] = tester['tokenized'].progress_apply(lambda x: cleantokens(x))\n",
    "tester[]"
   ]
  },
  {
   "cell_type": "code",
   "execution_count": 15,
   "metadata": {},
   "outputs": [],
   "source": [
    "import regex as re\n",
    "\n",
    "from collections import Counter\n",
    "\n",
    "def getEmotion(text, returnType):\n",
    "    emotion_list = []\n",
    "    with open('lemmatized_emotions.txt', 'r') as file:\n",
    "        for line in file:\n",
    "            clear_line = line.replace('\\n', '').replace(',', '').replace(\"'\", '').strip()\n",
    "            word, emotion = clear_line.split(':')\n",
    "            for text_word in text.split(\" \"):\n",
    "                #print(text_word)\n",
    "                if text_word and not text_word.isspace() and not text_word.startswith(('*', '+')) and re.match(word, text_word):\n",
    "                    emotion_list.append(emotion)\n",
    "\n",
    "    w = Counter(emotion_list)\n",
    "    subset = w.most_common(30)\n",
    "\n",
    "    if returnType == \"list\":\n",
    "        return subset\n",
    "    elif returnType == \"counter\":\n",
    "        return w\n",
    "    else:\n",
    "        return emotion_list"
   ]
  },
  {
   "cell_type": "code",
   "execution_count": 18,
   "metadata": {},
   "outputs": [
    {
     "name": "stderr",
     "output_type": "stream",
     "text": [
      "100%|██████████| 10/10 [00:01<00:00,  9.44it/s]\n",
      "C:\\Users\\jesse\\AppData\\Local\\Temp\\ipykernel_14424\\706586795.py:1: SettingWithCopyWarning: \n",
      "A value is trying to be set on a copy of a slice from a DataFrame.\n",
      "Try using .loc[row_indexer,col_indexer] = value instead\n",
      "\n",
      "See the caveats in the documentation: https://pandas.pydata.org/pandas-docs/stable/user_guide/indexing.html#returning-a-view-versus-a-copy\n",
      "  tester['lex_txt_emotions'] = tester['token_review_text'].progress_apply(lambda x: getEmotion(x, \"list\"))\n"
     ]
    }
   ],
   "source": [
    "tester['lex_txt_emotions'] = tester['token_review_text'].progress_apply(lambda x: getEmotion(x, \"list\"))"
   ]
  },
  {
   "cell_type": "code",
   "execution_count": 34,
   "metadata": {},
   "outputs": [],
   "source": [
    "from sklearn.feature_extraction.text import TfidfVectorizer\n",
    "\n",
    "tfidf = TfidfVectorizer(max_features=1000, lowercase=True, analyzer='word', stop_words= 'english', ngram_range=(1,1))\n",
    "tfidf_matrix = tfidf.fit_transform(tester['token_review_text'])"
   ]
  },
  {
   "cell_type": "code",
   "execution_count": 22,
   "metadata": {},
   "outputs": [
    {
     "data": {
      "text/plain": [
       "'fifth grade son require glad ! experience range emotion love glad middle schoolers expose topic discuss '"
      ]
     },
     "execution_count": 22,
     "metadata": {},
     "output_type": "execute_result"
    }
   ],
   "source": [
    "tester['token_review_text'][1]"
   ]
  },
  {
   "cell_type": "code",
   "execution_count": 24,
   "metadata": {},
   "outputs": [
    {
     "name": "stdout",
     "output_type": "stream",
     "text": [
      "[0.18279945271613146]\n"
     ]
    }
   ],
   "source": [
    "print([tfidf_matrix[1,tfidf.vocabulary_['love']]])"
   ]
  },
  {
   "cell_type": "markdown",
   "metadata": {},
   "source": [
    "Low tfidf indicates a less rare word"
   ]
  },
  {
   "cell_type": "code",
   "execution_count": 36,
   "metadata": {},
   "outputs": [
    {
     "data": {
      "image/png": "[encoded data removed]",
      "text/plain": [
       "<Figure size 1000x500 with 1 Axes>"
      ]
     },
     "metadata": {},
     "output_type": "display_data"
    }
   ],
   "source": [
    "import numpy as np\n",
    "\n",
    "total_scores = np.sum(tfidf_matrix, axis=0)\n",
    "total_scores = np.ravel(total_scores)\n",
    "\n",
    "feature_names = list(tfidf.vocabulary_.keys())\n",
    "scores_with_bigrams = list(zip(feature_names, total_scores))\n",
    "\n",
    "N = 10  # or any other number you prefer\n",
    "top_scores = sorted(scores_with_bigrams, key=lambda x: x[1], reverse=True)[:N]\n",
    "\n",
    "import matplotlib.pyplot as plt\n",
    "\n",
    "bigrams, scores = zip(*top_scores)\n",
    "plt.figure(figsize=(10, 5))\n",
    "plt.barh(bigrams, scores)\n",
    "plt.xlabel('TF-IDF Score')\n",
    "plt.title('Top TF-IDF Bigram Scores')\n",
    "plt.gca().invert_yaxis()\n",
    "plt.show()"
   ]
  }
 ],
 "metadata": {
  "kernelspec": {
   "display_name": "base",
   "language": "python",
   "name": "python3"
  },
  "language_info": {
   "codemirror_mode": {
    "name": "ipython",
    "version": 3
   },
   "file_extension": ".py",
   "mimetype": "text/x-python",
   "name": "python",
   "nbconvert_exporter": "python",
   "pygments_lexer": "ipython3",
   "version": "3.11.4"
  }
 },
 "nbformat": 4,
 "nbformat_minor": 2
}
