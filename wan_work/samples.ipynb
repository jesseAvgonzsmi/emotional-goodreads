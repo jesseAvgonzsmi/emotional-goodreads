{
 "cells": [
  {
   "cell_type": "markdown",
   "metadata": {},
   "source": [
    "# Display Sample Records"
   ]
  },
  {
   "cell_type": "code",
   "execution_count": 1,
   "metadata": {},
   "outputs": [],
   "source": [
    "import gzip\n",
    "import json\n",
    "import re\n",
    "import os\n",
    "import sys\n",
    "import numpy as np\n",
    "import pandas as pd"
   ]
  },
  {
   "cell_type": "markdown",
   "metadata": {},
   "source": [
    "**Specify your directory here:**"
   ]
  },
  {
   "cell_type": "code",
   "execution_count": 2,
   "metadata": {},
   "outputs": [],
   "source": [
    "DIR = './'"
   ]
  },
  {
   "cell_type": "markdown",
   "metadata": {},
   "source": [
    "**This function shows how to load datasets**"
   ]
  },
  {
   "cell_type": "code",
   "execution_count": 3,
   "metadata": {},
   "outputs": [],
   "source": [
    "def load_data(file_name, head = 500):\n",
    "    count = 0\n",
    "    data = []\n",
    "    with gzip.open(file_name) as fin:\n",
    "        for l in fin:\n",
    "            d = json.loads(l)\n",
    "            count += 1\n",
    "            data.append(d)\n",
    "            \n",
    "            # break if reaches the 100th line\n",
    "            if (head is not None) and (count > head):\n",
    "                break\n",
    "    return data"
   ]
  },
  {
   "cell_type": "markdown",
   "metadata": {},
   "source": [
    "**Load and display sample records of books/authors/works/series**"
   ]
  },
  {
   "cell_type": "code",
   "execution_count": 4,
   "metadata": {},
   "outputs": [],
   "source": [
    "books = load_data(os.path.join(DIR, 'goodreads_books.json.gz'))\n",
    "authors = load_data(os.path.join(DIR, 'goodreads_book_authors.json.gz'))\n",
    "works = load_data(os.path.join(DIR, 'goodreads_book_works.json.gz'))\n",
    "series = load_data(os.path.join(DIR, 'goodreads_book_series.json.gz'))"
   ]
  },
  {
   "cell_type": "code",
   "execution_count": 5,
   "metadata": {
    "scrolled": false
   },
   "outputs": [
    {
     "name": "stdout",
     "output_type": "stream",
     "text": [
      " == sample record (books) ==\n"
     ]
    },
    {
     "data": {
      "text/plain": [
       "{'isbn': '1591935857',\n",
       " 'text_reviews_count': '4',\n",
       " 'series': [],\n",
       " 'country_code': 'US',\n",
       " 'language_code': '',\n",
       " 'popular_shelves': [{'count': '2', 'name': 'picture-books'},\n",
       "  {'count': '2', 'name': 'ducks'},\n",
       "  {'count': '1', 'name': 'online-reading-in-the-stacks'},\n",
       "  {'count': '1', 'name': 'nature'},\n",
       "  {'count': '1', 'name': 'children-books'},\n",
       "  {'count': '1', 'name': 'animal-books'},\n",
       "  {'count': '1', 'name': '19709'},\n",
       "  {'count': '1', 'name': '17909-books'},\n",
       "  {'count': '1', 'name': 'to-read'},\n",
       "  {'count': '1', 'name': 'outreach-books'},\n",
       "  {'count': '1', 'name': 'books-for-teaching'},\n",
       "  {'count': '1', 'name': 'picture-books-read'},\n",
       "  {'count': '1', 'name': 'photographs'},\n",
       "  {'count': '1', 'name': 'birds'},\n",
       "  {'count': '1', 'name': 'ald_neighborhood-animals'}],\n",
       " 'asin': '',\n",
       " 'is_ebook': 'false',\n",
       " 'average_rating': '4.29',\n",
       " 'kindle_asin': '',\n",
       " 'similar_books': [],\n",
       " 'description': '',\n",
       " 'format': 'Hardcover',\n",
       " 'link': 'https://www.goodreads.com/book/show/27036533-jump-little-wood-ducks',\n",
       " 'authors': [{'author_id': '13195', 'role': ''},\n",
       "  {'author_id': '30853', 'role': 'Photographs'}],\n",
       " 'publisher': 'Adventurekeen',\n",
       " 'num_pages': '36',\n",
       " 'publication_day': '24',\n",
       " 'isbn13': '9781591935858',\n",
       " 'publication_month': '2',\n",
       " 'edition_information': '',\n",
       " 'publication_year': '2016',\n",
       " 'url': 'https://www.goodreads.com/book/show/27036533-jump-little-wood-ducks',\n",
       " 'image_url': 'https://images.gr-assets.com/books/1473603845m/27036533.jpg',\n",
       " 'book_id': '27036533',\n",
       " 'ratings_count': '7',\n",
       " 'work_id': '47077776',\n",
       " 'title': 'Jump, Little Wood Ducks',\n",
       " 'title_without_series': 'Jump, Little Wood Ducks'}"
      ]
     },
     "metadata": {},
     "output_type": "display_data"
    },
    {
     "name": "stdout",
     "output_type": "stream",
     "text": [
      " == sample record (authors) ==\n"
     ]
    },
    {
     "data": {
      "text/plain": [
       "{'average_rating': '3.51',\n",
       " 'author_id': '2943855',\n",
       " 'text_reviews_count': '634',\n",
       " 'name': 'Kat Menschik',\n",
       " 'ratings_count': '4599'}"
      ]
     },
     "metadata": {},
     "output_type": "display_data"
    },
    {
     "name": "stdout",
     "output_type": "stream",
     "text": [
      " == sample record (works) ==\n"
     ]
    },
    {
     "data": {
      "text/plain": [
       "{'books_count': '2',\n",
       " 'reviews_count': '33',\n",
       " 'original_publication_month': '',\n",
       " 'default_description_language_code': '',\n",
       " 'text_reviews_count': '4',\n",
       " 'best_book_id': '378460',\n",
       " 'original_publication_year': '',\n",
       " 'original_title': 'The Wanting of Levine',\n",
       " 'rating_dist': '5:7|4:4|3:2|2:0|1:0|total:13',\n",
       " 'default_chaptering_book_id': '',\n",
       " 'original_publication_day': '',\n",
       " 'original_language_id': '',\n",
       " 'ratings_count': '13',\n",
       " 'media_type': '',\n",
       " 'ratings_sum': '57',\n",
       " 'work_id': '368291'}"
      ]
     },
     "metadata": {},
     "output_type": "display_data"
    },
    {
     "name": "stdout",
     "output_type": "stream",
     "text": [
      " == sample record (series) ==\n"
     ]
    },
    {
     "data": {
      "text/plain": [
       "{'numbered': 'true',\n",
       " 'note': '',\n",
       " 'description': 'War Stories was a comic book series written by Garth Ennis.',\n",
       " 'title': 'War Stories',\n",
       " 'series_works_count': '5',\n",
       " 'series_id': '834955',\n",
       " 'primary_work_count': '4'}"
      ]
     },
     "metadata": {},
     "output_type": "display_data"
    }
   ],
   "source": [
    "print(' == sample record (books) ==')\n",
    "display(np.random.choice(books))\n",
    "print(' == sample record (authors) ==')\n",
    "display(np.random.choice(authors))\n",
    "print(' == sample record (works) ==')\n",
    "display(np.random.choice(works))\n",
    "print(' == sample record (series) ==')\n",
    "display(np.random.choice(series))"
   ]
  },
  {
   "cell_type": "markdown",
   "metadata": {},
   "source": [
    "**Load and display sample records of user-book interactions (shelves)**"
   ]
  },
  {
   "cell_type": "code",
   "execution_count": 6,
   "metadata": {},
   "outputs": [
    {
     "data": {
      "text/plain": [
       "{'user_id': '8842281e1d1347389f2ab93d60773d4d',\n",
       " 'book_id': '6565837',\n",
       " 'review_id': 'c6c803a462ea21452ffc35b46093ada8',\n",
       " 'is_read': False,\n",
       " 'rating': 0,\n",
       " 'review_text_incomplete': '',\n",
       " 'date_added': 'Thu Aug 17 15:15:28 -0700 2017',\n",
       " 'date_updated': 'Thu Aug 17 15:15:35 -0700 2017',\n",
       " 'read_at': '',\n",
       " 'started_at': ''}"
      ]
     },
     "execution_count": 6,
     "metadata": {},
     "output_type": "execute_result"
    }
   ],
   "source": [
    "interactions = load_data(os.path.join(DIR, 'goodreads_interactions_dedup.json.gz'))\n",
    "np.random.choice(interactions)"
   ]
  },
  {
   "cell_type": "markdown",
   "metadata": {},
   "source": [
    "**Load and display sample records of book reviews**"
   ]
  },
  {
   "cell_type": "code",
   "execution_count": 7,
   "metadata": {},
   "outputs": [
    {
     "data": {
      "text/plain": [
       "{'user_id': '8842281e1d1347389f2ab93d60773d4d',\n",
       " 'book_id': '18245960',\n",
       " 'review_id': 'dfdbb7b0eb5a7e4c26d59a937e2e5feb',\n",
       " 'rating': 5,\n",
       " 'review_text': 'This is a special book. It started slow for about the first third, then in the middle third it started to get interesting, then the last third blew my mind. This is what I love about good science fiction - it pushes your thinking about where things can go. \\n It is a 2015 Hugo winner, and translated from its original Chinese, which made it interesting in just a different way from most things I\\'ve read. For instance the intermixing of Chinese revolutionary history - how they kept accusing people of being \"reactionaries\", etc. \\n It is a book about science, and aliens. The science described in the book is impressive - its a book grounded in physics and pretty accurate as far as I could tell. Though when it got to folding protons into 8 dimensions I think he was just making stuff up - interesting to think about though. \\n But what would happen if our SETI stations received a message - if we found someone was out there - and the person monitoring and answering the signal on our side was disillusioned? That part of the book was a bit dark - I would like to think human reaction to discovering alien civilization that is hostile would be more like Enders Game where we would band together. \\n I did like how the book unveiled the Trisolaran culture through the game. It was a smart way to build empathy with them and also understand what they\\'ve gone through across so many centuries. And who know a 3 body problem was an unsolvable math problem? But I still don\\'t get who made the game - maybe that will come in the next book. \\n I loved this quote: \\n \"In the long history of scientific progress, how many protons have been smashed apart in accelerators by physicists? How many neutrons and electrons? Probably no fewer than a hundred million. Every collision was probably the end of the civilizations and intelligences in a microcosmos. In fact, even in nature, the destruction of universes must be happening at every second--for example, through the decay of neutrons. Also, a high-energy cosmic ray entering the atmosphere may destroy thousands of such miniature universes....\"',\n",
       " 'date_added': 'Sun Jul 30 07:44:10 -0700 2017',\n",
       " 'date_updated': 'Wed Aug 30 00:00:26 -0700 2017',\n",
       " 'read_at': 'Sat Aug 26 12:05:52 -0700 2017',\n",
       " 'started_at': 'Tue Aug 15 13:23:18 -0700 2017',\n",
       " 'n_votes': 28,\n",
       " 'n_comments': 1}"
      ]
     },
     "execution_count": 7,
     "metadata": {},
     "output_type": "execute_result"
    }
   ],
   "source": [
    "reviews = load_data(os.path.join(DIR, 'goodreads_reviews_dedup.json.gz'))\n",
    "np.random.choice(reviews)"
   ]
  },
  {
   "cell_type": "markdown",
   "metadata": {},
   "source": [
    "**Load and display sample records of book reviews (with spoiler tags)**"
   ]
  },
  {
   "cell_type": "code",
   "execution_count": 8,
   "metadata": {},
   "outputs": [
    {
     "data": {
      "text/plain": [
       "{'user_id': '01ec1a320ffded6b2dd47833f2c8e4fb',\n",
       " 'timestamp': '2016-01-14',\n",
       " 'review_sentences': [[0, '3.5 - 4 Stars'],\n",
       "  [0,\n",
       "   'This is the very sexy and very sweet sequel to the short story, Hearts in Darkness.'],\n",
       "  [0,\n",
       "   'This book picks up shortly after Caden and Makenna first met in the darkened elevator.'],\n",
       "  [0,\n",
       "   'They have developed an almost-perfect relationship - and this book is verra verra steamy - but Caden has severe PTSD due to a very shocking incident in his past that has completely traumatized him.'],\n",
       "  [0,\n",
       "   \"This is one of those stories where the hero doesn't think he is good enough for the heroine - she is smart, kind, beautiful, has a wonderful family, etc.\"],\n",
       "  [0, '- so the hero must distance himself from her \"for her own good.\"'],\n",
       "  [0,\n",
       "   'Makenna loves Caden but realizes that he is gun-shy and she is scared to make her true feelings known.'],\n",
       "  [0, 'When she does, all hell breaks loose.'],\n",
       "  [0,\n",
       "   'This is a lovely, steamy story with lots of angst and a beautiful HEA.'],\n",
       "  [0,\n",
       "   \"If you are a fan of Laura Kaye's writing, then you will love this book.\"],\n",
       "  [0, '(ARC provided in return for an honest review.)']],\n",
       " 'rating': 4,\n",
       " 'has_spoiler': False,\n",
       " 'book_id': '25396316',\n",
       " 'review_id': '27f0566f9f72429e4d25bbbf584434b4'}"
      ]
     },
     "execution_count": 8,
     "metadata": {},
     "output_type": "execute_result"
    }
   ],
   "source": [
    "spoilers = load_data(os.path.join(DIR, 'goodreads_reviews_spoiler.json.gz'))\n",
    "np.random.choice(spoilers)"
   ]
  },
  {
   "cell_type": "code",
   "execution_count": 9,
   "metadata": {},
   "outputs": [
    {
     "data": {
      "text/plain": [
       "{'user_id': '8842281e1d1347389f2ab93d60773d4d',\n",
       " 'book_id': '28684704',\n",
       " 'review_id': '2ede853b14dc4583f96cf5d120af636f',\n",
       " 'rating': 3,\n",
       " 'review_text': 'A fun, fast paced science fiction thriller. I read it in 2 nights and couldn\\'t put it down. The book is about the quantum theory of many worlds which states that all decisions we make throughout our lives basically create branches, and that each possible path through the decision tree can be thought of as a parallel world. And in this book, someone invents a way to switch between these worlds. This was nicely alluded to/foreshadowed in this quote: \\n \"I think about all the choices we\\'ve made that created this moment. Us sitting here together at this beautiful table. Then I think of all the possible events that could have stopped this moment from ever happening, and it all feels, I don\\'t know...\" \"What?\" \"So fragile.\" Now he becomes thoughtful for a moment. He says finally, \"It\\'s terrifying when you consider that every thought we have, every choice we could possibly make, branches into a new world.\" \\n (view spoiler)[This book can\\'t be discussed without spoilers. It is a book about choice and regret. Ever regret not chasing the girl of your dreams so you can focus on your career? Well Jason2 made that choice and then did regret it. Clearly the author is trying to tell us to optimize for happiness - to be that second rate physics teacher at a community college if it means you can have a happy life. I\\'m being snarky because while there is certainly something to that, you also have to have meaning in your life that comes from within. I thought the book was a little shallow on this dimension. In fact, all the characters were fairly shallow. Daniela was the perfect wife. Ryan the perfect antithesis of Jason. Amanda the perfect loyal traveling companion, etc. This, plus the fact that the book was weak on the science are what led me to take a few stars off - but I\\'d still read it again if I could go back in time - was a very fun and engaging read. \\n If you want to really minimize regret, you have to live your life to avoid it in the first place. Regret can\\'t be hacked, which is kind of the point of the book. My favorite book about regret is Remains of the Day. I do really like the visualization of the decision tree though - that is a powerful concept. \\n \"Every moment, every breath, contains a choice. But life is imperfect. We make the wrong choices. So we end up living in a state of perpetual regret, and is there anything worse? I built something that could actually eradicate regret. Let you find worlds where you made the right choice.\" Daniela says, \"Life doesn\\'t work that way. You live with your choices and learn. You don\\'t cheat the system.\" \\n (hide spoiler)]',\n",
       " 'date_added': 'Tue Nov 15 11:29:22 -0800 2016',\n",
       " 'date_updated': 'Mon Mar 20 23:40:27 -0700 2017',\n",
       " 'read_at': 'Sat Mar 18 23:22:42 -0700 2017',\n",
       " 'started_at': 'Fri Mar 17 23:45:40 -0700 2017',\n",
       " 'n_votes': 22,\n",
       " 'n_comments': 0}"
      ]
     },
     "execution_count": 9,
     "metadata": {},
     "output_type": "execute_result"
    }
   ],
   "source": [
    "spoilers = load_data(os.path.join(DIR, 'goodreads_reviews_spoiler_raw.json.gz'))\n",
    "np.random.choice([s for s in spoilers if 'view spoiler' in s['review_text']])"
   ]
  },
  {
   "cell_type": "code",
   "execution_count": null,
   "metadata": {},
   "outputs": [],
   "source": []
  }
 ],
 "metadata": {
  "kernelspec": {
   "display_name": "Python 3",
   "language": "python",
   "name": "python3"
  },
  "language_info": {
   "codemirror_mode": {
    "name": "ipython",
    "version": 3
   },
   "file_extension": ".py",
   "mimetype": "text/x-python",
   "name": "python",
   "nbconvert_exporter": "python",
   "pygments_lexer": "ipython3",
   "version": "3.7.3"
  }
 },
 "nbformat": 4,
 "nbformat_minor": 2
}
