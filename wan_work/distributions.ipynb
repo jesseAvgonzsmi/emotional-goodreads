{
 "cells": [
  {
   "cell_type": "markdown",
   "metadata": {},
   "source": [
    "# Explorations of Goodreads User-Book Interactions\n",
    "\n",
    "**Run this notebook only when you have LARGE memory (recommend 32g+)!**"
   ]
  },
  {
   "cell_type": "code",
   "execution_count": 1,
   "metadata": {
    "collapsed": true
   },
   "outputs": [],
   "source": [
    "import gzip\n",
    "import json\n",
    "import os\n",
    "import sys\n",
    "import numpy as np\n",
    "import pandas as pd\n",
    "import matplotlib.pyplot as plt\n",
    "pd.options.display.float_format = '{:,}'.format\n",
    "%matplotlib inline  "
   ]
  },
  {
   "cell_type": "markdown",
   "metadata": {},
   "source": [
    "## Load and process the dataset\n",
    "\n",
    "**Specify your directory here:**"
   ]
  },
  {
   "cell_type": "code",
   "execution_count": 2,
   "metadata": {
    "collapsed": true
   },
   "outputs": [],
   "source": [
    "DIR = './'"
   ]
  },
  {
   "cell_type": "markdown",
   "metadata": {},
   "source": [
    "**Load the huge '.csv' file**"
   ]
  },
  {
   "cell_type": "code",
   "execution_count": 3,
   "metadata": {
    "collapsed": true
   },
   "outputs": [],
   "source": [
    "PATH_IN = os.path.join(DIR, 'goodreads_interactions.csv')\n",
    "df_interactions = pd.read_csv(PATH_IN)"
   ]
  },
  {
   "cell_type": "markdown",
   "metadata": {},
   "source": [
    "**Take a look of the first 5 lines;**\n",
    "\n",
    "**Check if there're any duplicated (user_id, book_id) pairs in the file.**"
   ]
  },
  {
   "cell_type": "code",
   "execution_count": 4,
   "metadata": {},
   "outputs": [
    {
     "name": "stdout",
     "output_type": "stream",
     "text": [
      "=== first 5 records ===\n"
     ]
    },
    {
     "data": {
      "text/html": [
       "<div>\n",
       "<style>\n",
       "    .dataframe thead tr:only-child th {\n",
       "        text-align: right;\n",
       "    }\n",
       "\n",
       "    .dataframe thead th {\n",
       "        text-align: left;\n",
       "    }\n",
       "\n",
       "    .dataframe tbody tr th {\n",
       "        vertical-align: top;\n",
       "    }\n",
       "</style>\n",
       "<table border=\"1\" class=\"dataframe\">\n",
       "  <thead>\n",
       "    <tr style=\"text-align: right;\">\n",
       "      <th></th>\n",
       "      <th>user_id</th>\n",
       "      <th>book_id</th>\n",
       "      <th>is_read</th>\n",
       "      <th>rating</th>\n",
       "      <th>is_reviewed</th>\n",
       "    </tr>\n",
       "  </thead>\n",
       "  <tbody>\n",
       "    <tr>\n",
       "      <th>0</th>\n",
       "      <td>0</td>\n",
       "      <td>948</td>\n",
       "      <td>1</td>\n",
       "      <td>5</td>\n",
       "      <td>0</td>\n",
       "    </tr>\n",
       "    <tr>\n",
       "      <th>1</th>\n",
       "      <td>0</td>\n",
       "      <td>947</td>\n",
       "      <td>1</td>\n",
       "      <td>5</td>\n",
       "      <td>1</td>\n",
       "    </tr>\n",
       "    <tr>\n",
       "      <th>2</th>\n",
       "      <td>0</td>\n",
       "      <td>946</td>\n",
       "      <td>1</td>\n",
       "      <td>5</td>\n",
       "      <td>0</td>\n",
       "    </tr>\n",
       "    <tr>\n",
       "      <th>3</th>\n",
       "      <td>0</td>\n",
       "      <td>945</td>\n",
       "      <td>1</td>\n",
       "      <td>5</td>\n",
       "      <td>0</td>\n",
       "    </tr>\n",
       "    <tr>\n",
       "      <th>4</th>\n",
       "      <td>0</td>\n",
       "      <td>944</td>\n",
       "      <td>1</td>\n",
       "      <td>5</td>\n",
       "      <td>0</td>\n",
       "    </tr>\n",
       "  </tbody>\n",
       "</table>\n",
       "</div>"
      ],
      "text/plain": [
       "   user_id  book_id  is_read  rating  is_reviewed\n",
       "0        0      948        1       5            0\n",
       "1        0      947        1       5            1\n",
       "2        0      946        1       5            0\n",
       "3        0      945        1       5            0\n",
       "4        0      944        1       5            0"
      ]
     },
     "metadata": {},
     "output_type": "display_data"
    },
    {
     "name": "stdout",
     "output_type": "stream",
     "text": [
      "=== duplicated records ===\n"
     ]
    },
    {
     "data": {
      "text/html": [
       "<div>\n",
       "<style>\n",
       "    .dataframe thead tr:only-child th {\n",
       "        text-align: right;\n",
       "    }\n",
       "\n",
       "    .dataframe thead th {\n",
       "        text-align: left;\n",
       "    }\n",
       "\n",
       "    .dataframe tbody tr th {\n",
       "        vertical-align: top;\n",
       "    }\n",
       "</style>\n",
       "<table border=\"1\" class=\"dataframe\">\n",
       "  <thead>\n",
       "    <tr style=\"text-align: right;\">\n",
       "      <th></th>\n",
       "      <th>user_id</th>\n",
       "      <th>book_id</th>\n",
       "      <th>is_read</th>\n",
       "      <th>rating</th>\n",
       "      <th>is_reviewed</th>\n",
       "    </tr>\n",
       "  </thead>\n",
       "  <tbody>\n",
       "  </tbody>\n",
       "</table>\n",
       "</div>"
      ],
      "text/plain": [
       "Empty DataFrame\n",
       "Columns: [user_id, book_id, is_read, rating, is_reviewed]\n",
       "Index: []"
      ]
     },
     "metadata": {},
     "output_type": "display_data"
    },
    {
     "name": "stdout",
     "output_type": "stream",
     "text": [
      "ideally you will not see any rows displayed above, then we are good now, no duplicates.\n"
     ]
    }
   ],
   "source": [
    "print('=== first 5 records ===')\n",
    "display(df_interactions.head())\n",
    "print('=== duplicated records ===')\n",
    "display(df_interactions[df_interactions.duplicated(['user_id', 'book_id'], keep=False)])\n",
    "print('ideally you will not see any rows displayed above, then we are good now, no duplicates.')"
   ]
  },
  {
   "cell_type": "markdown",
   "metadata": {},
   "source": [
    "## Display basic statistics\n",
    "\n",
    "'# shelved': the total number of records in this file\n",
    "\n",
    "'# read': the number of records where users read the books\n",
    "\n",
    "'# rated': the number of records where users provided rating scores for the books\n",
    "\n",
    "'# reviewed': the number of records where the book review texts are not empty"
   ]
  },
  {
   "cell_type": "code",
   "execution_count": 5,
   "metadata": {},
   "outputs": [
    {
     "data": {
      "text/html": [
       "<div>\n",
       "<style>\n",
       "    .dataframe thead tr:only-child th {\n",
       "        text-align: right;\n",
       "    }\n",
       "\n",
       "    .dataframe thead th {\n",
       "        text-align: left;\n",
       "    }\n",
       "\n",
       "    .dataframe tbody tr th {\n",
       "        vertical-align: top;\n",
       "    }\n",
       "</style>\n",
       "<table border=\"1\" class=\"dataframe\">\n",
       "  <thead>\n",
       "    <tr style=\"text-align: right;\">\n",
       "      <th></th>\n",
       "      <th>count</th>\n",
       "    </tr>\n",
       "  </thead>\n",
       "  <tbody>\n",
       "    <tr>\n",
       "      <th># shelve</th>\n",
       "      <td>228,648,342.0</td>\n",
       "    </tr>\n",
       "    <tr>\n",
       "      <th># read</th>\n",
       "      <td>112,131,203.0</td>\n",
       "    </tr>\n",
       "    <tr>\n",
       "      <th># rate</th>\n",
       "      <td>104,551,549.0</td>\n",
       "    </tr>\n",
       "    <tr>\n",
       "      <th># review</th>\n",
       "      <td>16,219,149.0</td>\n",
       "    </tr>\n",
       "  </tbody>\n",
       "</table>\n",
       "</div>"
      ],
      "text/plain": [
       "                 count\n",
       "# shelve 228,648,342.0\n",
       "# read   112,131,203.0\n",
       "# rate   104,551,549.0\n",
       "# review  16,219,149.0"
      ]
     },
     "metadata": {},
     "output_type": "display_data"
    }
   ],
   "source": [
    "df_stats = pd.DataFrame([df_interactions.shape[0],\n",
    "                         df_interactions['is_read'].sum(),\n",
    "                         (df_interactions['rating']>0).sum(),\n",
    "                         df_interactions['is_reviewed'].sum()], dtype = float, \n",
    "                        columns = ['count'],\n",
    "                        index = ['# shelve', '# read', '# rate', '# review'])\n",
    "display(df_stats)"
   ]
  },
  {
   "cell_type": "markdown",
   "metadata": {},
   "source": [
    "display rating distribution ('0' indicates rating score is not provided)"
   ]
  },
  {
   "cell_type": "code",
   "execution_count": 6,
   "metadata": {},
   "outputs": [
    {
     "data": {
      "text/plain": [
       "0   124,096,793.0\n",
       "4    37,497,451.0\n",
       "5    35,506,166.0\n",
       "3    23,307,457.0\n",
       "2     6,189,946.0\n",
       "1     2,050,529.0\n",
       "Name: rating, dtype: float64"
      ]
     },
     "metadata": {},
     "output_type": "display_data"
    }
   ],
   "source": [
    "df_rating_count = df_interactions['rating'].value_counts().astype(float)\n",
    "display(df_rating_count)"
   ]
  },
  {
   "cell_type": "markdown",
   "metadata": {},
   "source": [
    "## Visualize user/item distributions\n",
    "\n",
    "**1) count the number of interactions for each user/item**\n",
    "\n",
    "**2) count the frequency of these numbers (i.e., ranks)**\n",
    "\n",
    "**3) visulize for each type of interaction (log-log plots)**\n",
    "\n",
    "we'll see distributions are long-tailed, approximately follow power-law (zipf's law)"
   ]
  },
  {
   "cell_type": "code",
   "execution_count": 7,
   "metadata": {
    "collapsed": true
   },
   "outputs": [],
   "source": [
    "shelve_user = df_interactions['user_id'].value_counts().value_counts().reset_index().sort_values('index').values\n",
    "read_user = df_interactions['user_id'].loc[df_interactions['is_read']>0].value_counts().value_counts().reset_index().sort_values('index').values\n",
    "rate_user = df_interactions['user_id'].loc[df_interactions['rating']>0].value_counts().value_counts().reset_index().sort_values('index').values\n",
    "review_user = df_interactions['user_id'].loc[df_interactions['is_reviewed']>0].value_counts().value_counts().reset_index().sort_values('index').values\n",
    "\n",
    "shelve_book = df_interactions['book_id'].value_counts().value_counts().reset_index().sort_values('index').values\n",
    "read_book = df_interactions['book_id'].loc[df_interactions['is_read']>0].value_counts().value_counts().reset_index().sort_values('index').values\n",
    "rate_book = df_interactions['book_id'].loc[df_interactions['rating']>0].value_counts().value_counts().reset_index().sort_values('index').values\n",
    "review_book = df_interactions['book_id'].loc[df_interactions['is_reviewed']>0].value_counts().value_counts().reset_index().sort_values('index').values"
   ]
  },
  {
   "cell_type": "code",
   "execution_count": 8,
   "metadata": {},
   "outputs": [
    {
     "data": {
      "text/plain": [
       "<matplotlib.legend.Legend at 0x7f5ae0e5f9e8>"
      ]
     },
     "execution_count": 8,
     "metadata": {},
     "output_type": "execute_result"
    },
    {
     "data": {
      "image/png": "[encoded data removed]",
      "text/plain": [
       "<matplotlib.figure.Figure at 0x7f5ae0da2320>"
      ]
     },
     "metadata": {},
     "output_type": "display_data"
    }
   ],
   "source": [
    "plt.figure(figsize=(5,5))\n",
    "plt.loglog(shelve_user[:,0], shelve_user[:,1], label='shelve')\n",
    "plt.loglog(read_user[:,0], read_user[:,1], label='read')\n",
    "plt.loglog(rate_user[:,0], rate_user[:,1], label='rate')\n",
    "plt.loglog(review_user[:,0], review_user[:,1], label='review')\n",
    "plt.xlabel('rank')\n",
    "plt.ylabel('frequency')\n",
    "plt.title('Log-Log Plot of the Distribution of Users')\n",
    "plt.legend(loc='upper right')"
   ]
  },
  {
   "cell_type": "code",
   "execution_count": 9,
   "metadata": {},
   "outputs": [
    {
     "data": {
      "text/plain": [
       "<matplotlib.legend.Legend at 0x7f5addb3e0f0>"
      ]
     },
     "execution_count": 9,
     "metadata": {},
     "output_type": "execute_result"
    },
    {
     "data": {
      "image/png": "[encoded data removed]",
      "text/plain": [
       "<matplotlib.figure.Figure at 0x7f5addc0d080>"
      ]
     },
     "metadata": {},
     "output_type": "display_data"
    }
   ],
   "source": [
    "plt.figure(figsize=(5,5))\n",
    "plt.loglog(shelve_book[:,0], shelve_book[:,1], label='shelve')\n",
    "plt.loglog(read_book[:,0], read_book[:,1], label='read')\n",
    "plt.loglog(rate_book[:,0], rate_book[:,1], label='rate')\n",
    "plt.loglog(review_book[:,0], review_book[:,1], label='review')\n",
    "plt.xlabel('rank')\n",
    "plt.ylabel('frequency')\n",
    "plt.title('Log-Log Plot of the Distribution of Books')\n",
    "plt.legend(loc='upper right')"
   ]
  },
  {
   "cell_type": "code",
   "execution_count": null,
   "metadata": {
    "collapsed": true
   },
   "outputs": [],
   "source": []
  }
 ],
 "metadata": {
  "kernelspec": {
   "display_name": "Python 3",
   "language": "python",
   "name": "python3"
  },
  "language_info": {
   "codemirror_mode": {
    "name": "ipython",
    "version": 3
   },
   "file_extension": ".py",
   "mimetype": "text/x-python",
   "name": "python",
   "nbconvert_exporter": "python",
   "pygments_lexer": "ipython3",
   "version": "3.7.3"
  }
 },
 "nbformat": 4,
 "nbformat_minor": 2
}
