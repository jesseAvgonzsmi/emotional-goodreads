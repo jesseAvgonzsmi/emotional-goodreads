{
 "cells": [
  {
   "cell_type": "markdown",
   "metadata": {},
   "source": [
    "# Calculate Basic Statistics of Detailed Reviews"
   ]
  },
  {
   "cell_type": "code",
   "execution_count": 1,
   "metadata": {},
   "outputs": [],
   "source": [
    "import gzip\n",
    "import json\n",
    "import re\n",
    "import os\n",
    "import sys\n",
    "import numpy as np\n",
    "import pandas as pd\n",
    "pd.options.display.float_format = '{:,}'.format"
   ]
  },
  {
   "cell_type": "markdown",
   "metadata": {},
   "source": [
    "**Specify your directory here:**"
   ]
  },
  {
   "cell_type": "code",
   "execution_count": 2,
   "metadata": {},
   "outputs": [],
   "source": [
    "DIR = './'\n",
    "DIR_GENRE = './genre/'"
   ]
  },
  {
   "cell_type": "markdown",
   "metadata": {},
   "source": [
    "**Calculate statistics of book reviews (without spoiler tags)**"
   ]
  },
  {
   "cell_type": "code",
   "execution_count": 3,
   "metadata": {},
   "outputs": [],
   "source": [
    "def count_reviews(file_name):\n",
    "    print('counting file:', file_name)\n",
    "    n_review = 0\n",
    "    book_set, user_set = set(), set()\n",
    "    print('current line: ', end='')\n",
    "    with gzip.open(file_name) as fin:\n",
    "        for l in fin:\n",
    "            d = json.loads(l)\n",
    "            if n_review % 1000000 == 0:\n",
    "                print(n_review, end=',')\n",
    "            n_review += 1\n",
    "            book_set.add(d['book_id'])\n",
    "            user_set.add(d['user_id'])\n",
    "    print('complete')\n",
    "    print('done!')\n",
    "    return n_review, len(book_set), len(user_set)"
   ]
  },
  {
   "cell_type": "code",
   "execution_count": 4,
   "metadata": {},
   "outputs": [
    {
     "name": "stdout",
     "output_type": "stream",
     "text": [
      "counting file: ./goodreads_reviews_dedup.json.gz\n",
      "current line: 0,1000000,2000000,3000000,4000000,5000000,6000000,7000000,8000000,9000000,10000000,11000000,12000000,13000000,14000000,15000000,complete\n",
      "done!\n"
     ]
    },
    {
     "data": {
      "text/html": [
       "<div>\n",
       "<style scoped>\n",
       "    .dataframe tbody tr th:only-of-type {\n",
       "        vertical-align: middle;\n",
       "    }\n",
       "\n",
       "    .dataframe tbody tr th {\n",
       "        vertical-align: top;\n",
       "    }\n",
       "\n",
       "    .dataframe thead th {\n",
       "        text-align: right;\n",
       "    }\n",
       "</style>\n",
       "<table border=\"1\" class=\"dataframe\">\n",
       "  <thead>\n",
       "    <tr style=\"text-align: right;\">\n",
       "      <th></th>\n",
       "      <th>count</th>\n",
       "    </tr>\n",
       "  </thead>\n",
       "  <tbody>\n",
       "    <tr>\n",
       "      <th># review</th>\n",
       "      <td>15,739,967.0</td>\n",
       "    </tr>\n",
       "    <tr>\n",
       "      <th># book</th>\n",
       "      <td>2,080,190.0</td>\n",
       "    </tr>\n",
       "    <tr>\n",
       "      <th># user</th>\n",
       "      <td>465,323.0</td>\n",
       "    </tr>\n",
       "  </tbody>\n",
       "</table>\n",
       "</div>"
      ],
      "text/plain": [
       "                count\n",
       "# review 15,739,967.0\n",
       "# book    2,080,190.0\n",
       "# user      465,323.0"
      ]
     },
     "metadata": {},
     "output_type": "display_data"
    }
   ],
   "source": [
    "n_review, n_book, n_user = count_reviews(os.path.join(DIR, 'goodreads_reviews_dedup.json.gz'))\n",
    "df_stats_review = pd.DataFrame([n_review, n_book, n_user], dtype=float,\n",
    "                               columns=['count'], index=['# review', '# book', '# user'])\n",
    "display(df_stats_review)"
   ]
  },
  {
   "cell_type": "markdown",
   "metadata": {},
   "source": [
    "**Calculate statistics of the review subset with spoiler tags**"
   ]
  },
  {
   "cell_type": "code",
   "execution_count": 5,
   "metadata": {},
   "outputs": [],
   "source": [
    "def count_spoilers(file_name):\n",
    "    print('counting file:', file_name)\n",
    "    n_review, n_sentence, n_spoiler_review, n_spoiler_sentence = 0, 0, 0, 0\n",
    "    book_set, user_set = set(), set()\n",
    "    print('current line: ', end='')\n",
    "    with gzip.open(file_name) as fin:\n",
    "        for l in fin:\n",
    "            d = json.loads(l)\n",
    "            if n_review % 1000000 == 0:\n",
    "                print(n_review, end=',')\n",
    "            n_review += 1\n",
    "            for _t, _ in d['review_sentences']:\n",
    "                n_sentence += 1\n",
    "                n_spoiler_sentence += _t\n",
    "            n_spoiler_review += int(d['has_spoiler'])\n",
    "            book_set.add(d['book_id'])\n",
    "            user_set.add(d['user_id'])\n",
    "    print('complete')\n",
    "    print('done!')\n",
    "    return n_review, n_sentence, n_spoiler_review, n_spoiler_sentence, len(book_set), len(user_set)"
   ]
  },
  {
   "cell_type": "code",
   "execution_count": 6,
   "metadata": {},
   "outputs": [
    {
     "name": "stdout",
     "output_type": "stream",
     "text": [
      "counting file: ./goodreads_reviews_spoiler.json.gz\n",
      "current line: 0,1000000,complete\n",
      "done!\n"
     ]
    },
    {
     "data": {
      "text/html": [
       "<div>\n",
       "<style scoped>\n",
       "    .dataframe tbody tr th:only-of-type {\n",
       "        vertical-align: middle;\n",
       "    }\n",
       "\n",
       "    .dataframe tbody tr th {\n",
       "        vertical-align: top;\n",
       "    }\n",
       "\n",
       "    .dataframe thead th {\n",
       "        text-align: right;\n",
       "    }\n",
       "</style>\n",
       "<table border=\"1\" class=\"dataframe\">\n",
       "  <thead>\n",
       "    <tr style=\"text-align: right;\">\n",
       "      <th></th>\n",
       "      <th>count</th>\n",
       "    </tr>\n",
       "  </thead>\n",
       "  <tbody>\n",
       "    <tr>\n",
       "      <th># review</th>\n",
       "      <td>1,378,033.0</td>\n",
       "    </tr>\n",
       "    <tr>\n",
       "      <th># sentence</th>\n",
       "      <td>17,672,655.0</td>\n",
       "    </tr>\n",
       "    <tr>\n",
       "      <th># spoiler review</th>\n",
       "      <td>89,627.0</td>\n",
       "    </tr>\n",
       "    <tr>\n",
       "      <th># spoiler sentence</th>\n",
       "      <td>569,724.0</td>\n",
       "    </tr>\n",
       "    <tr>\n",
       "      <th># book</th>\n",
       "      <td>25,475.0</td>\n",
       "    </tr>\n",
       "    <tr>\n",
       "      <th># user</th>\n",
       "      <td>18,892.0</td>\n",
       "    </tr>\n",
       "  </tbody>\n",
       "</table>\n",
       "</div>"
      ],
      "text/plain": [
       "                          count\n",
       "# review            1,378,033.0\n",
       "# sentence         17,672,655.0\n",
       "# spoiler review       89,627.0\n",
       "# spoiler sentence    569,724.0\n",
       "# book                 25,475.0\n",
       "# user                 18,892.0"
      ]
     },
     "metadata": {},
     "output_type": "display_data"
    }
   ],
   "source": [
    "res = count_spoilers(os.path.join(DIR, 'goodreads_reviews_spoiler.json.gz'))\n",
    "df_stats_spoiler = pd.DataFrame(res, columns=['count'], dtype=float, \n",
    "                               index=['# review', '# sentence', '# spoiler review', '# spoiler sentence',\n",
    "                                      '# book', '# user'])\n",
    "display(df_stats_spoiler)"
   ]
  },
  {
   "cell_type": "markdown",
   "metadata": {},
   "source": [
    "**Calculate basic statistics of review files for each genre:**"
   ]
  },
  {
   "cell_type": "code",
   "execution_count": 7,
   "metadata": {},
   "outputs": [],
   "source": [
    "genre_list = ['children', 'comics_graphic', 'fantasy_paranormal', 'history_biography',\n",
    "              'mystery_thriller_crime', 'poetry', 'romance', 'young_adult']\n",
    "\n",
    "def count_all_genres(genre_list):\n",
    "    res = []\n",
    "    for g in genre_list:\n",
    "        n_review, n_book, n_user = count_reviews(\n",
    "            os.path.join(DIR_GENRE, 'goodreads_reviews_'+g+'.json.gz'))\n",
    "        res.append([n_review, n_book, n_user])\n",
    "    df_stats_by_genre = pd.DataFrame(res, dtype = float, \n",
    "                                     columns = ['# review', '# book', '# user'],\n",
    "                                     index = genre_list)\n",
    "    return df_stats_by_genre"
   ]
  },
  {
   "cell_type": "code",
   "execution_count": 8,
   "metadata": {},
   "outputs": [
    {
     "name": "stdout",
     "output_type": "stream",
     "text": [
      "counting file: ./genre/goodreads_reviews_children.json.gz\n",
      "current line: 0,complete\n",
      "done!\n",
      "counting file: ./genre/goodreads_reviews_comics_graphic.json.gz\n",
      "current line: 0,complete\n",
      "done!\n",
      "counting file: ./genre/goodreads_reviews_fantasy_paranormal.json.gz\n",
      "current line: 0,1000000,2000000,3000000,complete\n",
      "done!\n",
      "counting file: ./genre/goodreads_reviews_history_biography.json.gz\n",
      "current line: 0,1000000,2000000,complete\n",
      "done!\n",
      "counting file: ./genre/goodreads_reviews_mystery_thriller_crime.json.gz\n",
      "current line: 0,1000000,complete\n",
      "done!\n",
      "counting file: ./genre/goodreads_reviews_poetry.json.gz\n",
      "current line: 0,complete\n",
      "done!\n",
      "counting file: ./genre/goodreads_reviews_romance.json.gz\n",
      "current line: 0,1000000,2000000,3000000,complete\n",
      "done!\n",
      "counting file: ./genre/goodreads_reviews_young_adult.json.gz\n",
      "current line: 0,1000000,2000000,complete\n",
      "done!\n"
     ]
    },
    {
     "data": {
      "text/html": [
       "<div>\n",
       "<style scoped>\n",
       "    .dataframe tbody tr th:only-of-type {\n",
       "        vertical-align: middle;\n",
       "    }\n",
       "\n",
       "    .dataframe tbody tr th {\n",
       "        vertical-align: top;\n",
       "    }\n",
       "\n",
       "    .dataframe thead th {\n",
       "        text-align: right;\n",
       "    }\n",
       "</style>\n",
       "<table border=\"1\" class=\"dataframe\">\n",
       "  <thead>\n",
       "    <tr style=\"text-align: right;\">\n",
       "      <th></th>\n",
       "      <th># review</th>\n",
       "      <th># book</th>\n",
       "      <th># user</th>\n",
       "    </tr>\n",
       "  </thead>\n",
       "  <tbody>\n",
       "    <tr>\n",
       "      <th>children</th>\n",
       "      <td>734,640.0</td>\n",
       "      <td>123,946.0</td>\n",
       "      <td>92,667.0</td>\n",
       "    </tr>\n",
       "    <tr>\n",
       "      <th>comics_graphic</th>\n",
       "      <td>542,338.0</td>\n",
       "      <td>89,311.0</td>\n",
       "      <td>59,347.0</td>\n",
       "    </tr>\n",
       "    <tr>\n",
       "      <th>fantasy_paranormal</th>\n",
       "      <td>3,424,641.0</td>\n",
       "      <td>258,212.0</td>\n",
       "      <td>256,088.0</td>\n",
       "    </tr>\n",
       "    <tr>\n",
       "      <th>history_biography</th>\n",
       "      <td>2,066,193.0</td>\n",
       "      <td>302,346.0</td>\n",
       "      <td>238,450.0</td>\n",
       "    </tr>\n",
       "    <tr>\n",
       "      <th>mystery_thriller_crime</th>\n",
       "      <td>1,849,236.0</td>\n",
       "      <td>218,987.0</td>\n",
       "      <td>203,655.0</td>\n",
       "    </tr>\n",
       "    <tr>\n",
       "      <th>poetry</th>\n",
       "      <td>154,555.0</td>\n",
       "      <td>36,412.0</td>\n",
       "      <td>47,400.0</td>\n",
       "    </tr>\n",
       "    <tr>\n",
       "      <th>romance</th>\n",
       "      <td>3,565,378.0</td>\n",
       "      <td>334,957.0</td>\n",
       "      <td>198,141.0</td>\n",
       "    </tr>\n",
       "    <tr>\n",
       "      <th>young_adult</th>\n",
       "      <td>2,389,900.0</td>\n",
       "      <td>93,267.0</td>\n",
       "      <td>209,152.0</td>\n",
       "    </tr>\n",
       "  </tbody>\n",
       "</table>\n",
       "</div>"
      ],
      "text/plain": [
       "                          # review    # book    # user\n",
       "children                 734,640.0 123,946.0  92,667.0\n",
       "comics_graphic           542,338.0  89,311.0  59,347.0\n",
       "fantasy_paranormal     3,424,641.0 258,212.0 256,088.0\n",
       "history_biography      2,066,193.0 302,346.0 238,450.0\n",
       "mystery_thriller_crime 1,849,236.0 218,987.0 203,655.0\n",
       "poetry                   154,555.0  36,412.0  47,400.0\n",
       "romance                3,565,378.0 334,957.0 198,141.0\n",
       "young_adult            2,389,900.0  93,267.0 209,152.0"
      ]
     },
     "metadata": {},
     "output_type": "display_data"
    }
   ],
   "source": [
    "df_stats_by_genre = count_all_genres(genre_list)\n",
    "display(df_stats_by_genre)"
   ]
  }
 ],
 "metadata": {
  "kernelspec": {
   "display_name": "Python 3",
   "language": "python",
   "name": "python3"
  },
  "language_info": {
   "codemirror_mode": {
    "name": "ipython",
    "version": 3
   },
   "file_extension": ".py",
   "mimetype": "text/x-python",
   "name": "python",
   "nbconvert_exporter": "python",
   "pygments_lexer": "ipython3",
   "version": "3.7.3"
  }
 },
 "nbformat": 4,
 "nbformat_minor": 2
}
