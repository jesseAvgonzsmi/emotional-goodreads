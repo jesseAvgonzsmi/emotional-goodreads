{
 "cells": [
  {
   "cell_type": "markdown",
   "metadata": {},
   "source": [
    "# Data Setup"
   ]
  },
  {
   "cell_type": "code",
   "execution_count": 1,
   "metadata": {},
   "outputs": [],
   "source": [
    "import gzip\n",
    "import json\n",
    "import re\n",
    "import os\n",
    "import sys\n",
    "import numpy as np\n",
    "import pandas as pd"
   ]
  },
  {
   "cell_type": "markdown",
   "metadata": {},
   "source": [
    "### Read in just the beginning of each file to determine what columns are needed"
   ]
  },
  {
   "cell_type": "code",
   "execution_count": 23,
   "metadata": {},
   "outputs": [],
   "source": [
    "# Function to process a chunk of data\n",
    "def process_data(chunk, columns=None):\n",
    "    # If columns is not None, keep only those columns\n",
    "    if columns is not None:\n",
    "        chunk = chunk[columns]\n",
    "    return chunk\n",
    "\n",
    "# Function to read data in chunks and process each chunk\n",
    "def load_data(file_name, head = None, columns=None, chunksize = 1000):\n",
    "    chunks = []\n",
    "    count = 0\n",
    "    with gzip.open(file_name) as fin:\n",
    "        for chunk in pd.read_json(fin, lines=True, chunksize=chunksize):\n",
    "            # Process the chunk\n",
    "            processed_chunk = process_data(chunk, columns)\n",
    "            chunks.append(processed_chunk)\n",
    "            \n",
    "            count += 1\n",
    "            # break if reaches the head-th chunk\n",
    "            if (head is not None) and (count > head):\n",
    "                break\n",
    "\n",
    "    # Combine all chunks into a single DataFrame\n",
    "    df = pd.concat(chunks, ignore_index=True)\n",
    "    \n",
    "    return df"
   ]
  },
  {
   "cell_type": "code",
   "execution_count": 19,
   "metadata": {},
   "outputs": [],
   "source": [
    "DIR = 'C:\\\\Users\\\\jesse\\\\Desktop\\\\Honors Project\\\\goodreads_data\\\\raw\\\\'\n",
    "ya_books = load_data(DIR + 'goodreads_books_young_adult.json.gz', head = 1)\n",
    "ya_reviews = load_data(DIR + 'goodreads_reviews_young_adult.json.gz', head = 1)\n",
    "ya_interactions = load_data(DIR + 'goodreads_interactions_young_adult.json.gz', head = 1)\n",
    "#books_works = load_data(DIR + 'goodreads_book_works.json.gz', head = 1)\n",
    "#reviews = load_data(DIR + 'goodreads_reviews_spoiler.json.gz', head = 1)"
   ]
  },
  {
   "cell_type": "code",
   "execution_count": 13,
   "metadata": {},
   "outputs": [],
   "source": [
    "#books_works.columns"
   ]
  },
  {
   "cell_type": "code",
   "execution_count": 14,
   "metadata": {},
   "outputs": [],
   "source": [
    "#books_works"
   ]
  },
  {
   "cell_type": "markdown",
   "metadata": {},
   "source": [
    "Books Works IGNORE FOR NOW"
   ]
  },
  {
   "cell_type": "code",
   "execution_count": 15,
   "metadata": {},
   "outputs": [
    {
     "data": {
      "text/html": [
       "<div>\n",
       "<style scoped>\n",
       "    .dataframe tbody tr th:only-of-type {\n",
       "        vertical-align: middle;\n",
       "    }\n",
       "\n",
       "    .dataframe tbody tr th {\n",
       "        vertical-align: top;\n",
       "    }\n",
       "\n",
       "    .dataframe thead th {\n",
       "        text-align: right;\n",
       "    }\n",
       "</style>\n",
       "<table border=\"1\" class=\"dataframe\">\n",
       "  <thead>\n",
       "    <tr style=\"text-align: right;\">\n",
       "      <th></th>\n",
       "      <th>user_id</th>\n",
       "      <th>book_id</th>\n",
       "      <th>review_id</th>\n",
       "      <th>rating</th>\n",
       "      <th>review_text</th>\n",
       "      <th>date_added</th>\n",
       "      <th>date_updated</th>\n",
       "      <th>read_at</th>\n",
       "      <th>started_at</th>\n",
       "      <th>n_votes</th>\n",
       "      <th>n_comments</th>\n",
       "    </tr>\n",
       "  </thead>\n",
       "  <tbody>\n",
       "    <tr>\n",
       "      <th>0</th>\n",
       "      <td>8842281e1d1347389f2ab93d60773d4d</td>\n",
       "      <td>2767052</td>\n",
       "      <td>248c011811e945eca861b5c31a549291</td>\n",
       "      <td>5</td>\n",
       "      <td>I cracked and finally picked this up. Very enj...</td>\n",
       "      <td>Wed Jan 13 13:38:25 -0800 2010</td>\n",
       "      <td>Wed Mar 22 11:46:36 -0700 2017</td>\n",
       "      <td>Sun Mar 25 00:00:00 -0700 2012</td>\n",
       "      <td>Fri Mar 23 00:00:00 -0700 2012</td>\n",
       "      <td>24</td>\n",
       "      <td>25</td>\n",
       "    </tr>\n",
       "    <tr>\n",
       "      <th>1</th>\n",
       "      <td>7504b2aee1ecb5b2872d3da381c6c91e</td>\n",
       "      <td>23302416</td>\n",
       "      <td>84c0936a0f9868f38e75d2f9a5cb761e</td>\n",
       "      <td>5</td>\n",
       "      <td>I read this book because my fifth grade son wa...</td>\n",
       "      <td>Wed Jan 21 18:40:59 -0800 2015</td>\n",
       "      <td>Wed Oct 26 03:44:13 -0700 2016</td>\n",
       "      <td></td>\n",
       "      <td></td>\n",
       "      <td>0</td>\n",
       "      <td>0</td>\n",
       "    </tr>\n",
       "  </tbody>\n",
       "</table>\n",
       "</div>"
      ],
      "text/plain": [
       "                            user_id   book_id  \\\n",
       "0  8842281e1d1347389f2ab93d60773d4d   2767052   \n",
       "1  7504b2aee1ecb5b2872d3da381c6c91e  23302416   \n",
       "\n",
       "                          review_id  rating  \\\n",
       "0  248c011811e945eca861b5c31a549291       5   \n",
       "1  84c0936a0f9868f38e75d2f9a5cb761e       5   \n",
       "\n",
       "                                         review_text  \\\n",
       "0  I cracked and finally picked this up. Very enj...   \n",
       "1  I read this book because my fifth grade son wa...   \n",
       "\n",
       "                       date_added                    date_updated  \\\n",
       "0  Wed Jan 13 13:38:25 -0800 2010  Wed Mar 22 11:46:36 -0700 2017   \n",
       "1  Wed Jan 21 18:40:59 -0800 2015  Wed Oct 26 03:44:13 -0700 2016   \n",
       "\n",
       "                          read_at                      started_at  n_votes  \\\n",
       "0  Sun Mar 25 00:00:00 -0700 2012  Fri Mar 23 00:00:00 -0700 2012       24   \n",
       "1                                                                        0   \n",
       "\n",
       "   n_comments  \n",
       "0          25  \n",
       "1           0  "
      ]
     },
     "execution_count": 15,
     "metadata": {},
     "output_type": "execute_result"
    }
   ],
   "source": [
    "ya_reviews"
   ]
  },
  {
   "cell_type": "markdown",
   "metadata": {},
   "source": [
    "Keep from ya_reviews:\n",
    "['book_id', 'review_id', 'rating', 'review_text', 'n_votes', 'n_comments']"
   ]
  },
  {
   "cell_type": "code",
   "execution_count": 16,
   "metadata": {},
   "outputs": [
    {
     "data": {
      "text/html": [
       "<div>\n",
       "<style scoped>\n",
       "    .dataframe tbody tr th:only-of-type {\n",
       "        vertical-align: middle;\n",
       "    }\n",
       "\n",
       "    .dataframe tbody tr th {\n",
       "        vertical-align: top;\n",
       "    }\n",
       "\n",
       "    .dataframe thead th {\n",
       "        text-align: right;\n",
       "    }\n",
       "</style>\n",
       "<table border=\"1\" class=\"dataframe\">\n",
       "  <thead>\n",
       "    <tr style=\"text-align: right;\">\n",
       "      <th></th>\n",
       "      <th>isbn</th>\n",
       "      <th>text_reviews_count</th>\n",
       "      <th>series</th>\n",
       "      <th>country_code</th>\n",
       "      <th>language_code</th>\n",
       "      <th>popular_shelves</th>\n",
       "      <th>asin</th>\n",
       "      <th>is_ebook</th>\n",
       "      <th>average_rating</th>\n",
       "      <th>kindle_asin</th>\n",
       "      <th>similar_books</th>\n",
       "      <th>description</th>\n",
       "      <th>format</th>\n",
       "      <th>link</th>\n",
       "      <th>authors</th>\n",
       "      <th>publisher</th>\n",
       "      <th>num_pages</th>\n",
       "      <th>publication_day</th>\n",
       "      <th>isbn13</th>\n",
       "      <th>publication_month</th>\n",
       "      <th>edition_information</th>\n",
       "      <th>publication_year</th>\n",
       "      <th>url</th>\n",
       "      <th>image_url</th>\n",
       "      <th>book_id</th>\n",
       "      <th>ratings_count</th>\n",
       "      <th>work_id</th>\n",
       "      <th>title</th>\n",
       "      <th>title_without_series</th>\n",
       "    </tr>\n",
       "  </thead>\n",
       "  <tbody>\n",
       "    <tr>\n",
       "      <th>0</th>\n",
       "      <td></td>\n",
       "      <td>1</td>\n",
       "      <td>[147734]</td>\n",
       "      <td>US</td>\n",
       "      <td></td>\n",
       "      <td>[{'count': '1057', 'name': 'to-read'}, {'count...</td>\n",
       "      <td>B0056A00P4</td>\n",
       "      <td>true</td>\n",
       "      <td>4.04</td>\n",
       "      <td>B0056A00P4</td>\n",
       "      <td>[519546, 1295074, 21407416]</td>\n",
       "      <td>This is the final tale in the bestselling auth...</td>\n",
       "      <td></td>\n",
       "      <td>https://www.goodreads.com/book/show/12182387-t...</td>\n",
       "      <td>[{'author_id': '50873', 'role': ''}, {'author_...</td>\n",
       "      <td></td>\n",
       "      <td></td>\n",
       "      <td></td>\n",
       "      <td></td>\n",
       "      <td></td>\n",
       "      <td></td>\n",
       "      <td></td>\n",
       "      <td>https://www.goodreads.com/book/show/12182387-t...</td>\n",
       "      <td>https://s.gr-assets.com/assets/nophoto/book/11...</td>\n",
       "      <td>12182387</td>\n",
       "      <td>4</td>\n",
       "      <td>285263</td>\n",
       "      <td>The Passion (Dark Visions, #3)</td>\n",
       "      <td>The Passion (Dark Visions, #3)</td>\n",
       "    </tr>\n",
       "    <tr>\n",
       "      <th>1</th>\n",
       "      <td></td>\n",
       "      <td>2</td>\n",
       "      <td>[425995]</td>\n",
       "      <td>US</td>\n",
       "      <td></td>\n",
       "      <td>[{'count': '1010', 'name': 'to-read'}, {'count...</td>\n",
       "      <td>B006KLYIAG</td>\n",
       "      <td>true</td>\n",
       "      <td>3.80</td>\n",
       "      <td>B006KLYIAG</td>\n",
       "      <td>[13400912, 13327517, 18107102, 15797097, 11472...</td>\n",
       "      <td>Life should be simple for Cassie.\\nFor the sma...</td>\n",
       "      <td></td>\n",
       "      <td>https://www.goodreads.com/book/show/20135365-h...</td>\n",
       "      <td>[{'author_id': '5395324', 'role': ''}]</td>\n",
       "      <td></td>\n",
       "      <td></td>\n",
       "      <td></td>\n",
       "      <td></td>\n",
       "      <td></td>\n",
       "      <td></td>\n",
       "      <td></td>\n",
       "      <td>https://www.goodreads.com/book/show/20135365-h...</td>\n",
       "      <td>https://s.gr-assets.com/assets/nophoto/book/11...</td>\n",
       "      <td>20135365</td>\n",
       "      <td>5</td>\n",
       "      <td>18450480</td>\n",
       "      <td>Hope's Daughter</td>\n",
       "      <td>Hope's Daughter</td>\n",
       "    </tr>\n",
       "  </tbody>\n",
       "</table>\n",
       "</div>"
      ],
      "text/plain": [
       "  isbn text_reviews_count    series country_code language_code  \\\n",
       "0                       1  [147734]           US                 \n",
       "1                       2  [425995]           US                 \n",
       "\n",
       "                                     popular_shelves        asin is_ebook  \\\n",
       "0  [{'count': '1057', 'name': 'to-read'}, {'count...  B0056A00P4     true   \n",
       "1  [{'count': '1010', 'name': 'to-read'}, {'count...  B006KLYIAG     true   \n",
       "\n",
       "  average_rating kindle_asin  \\\n",
       "0           4.04  B0056A00P4   \n",
       "1           3.80  B006KLYIAG   \n",
       "\n",
       "                                       similar_books  \\\n",
       "0                        [519546, 1295074, 21407416]   \n",
       "1  [13400912, 13327517, 18107102, 15797097, 11472...   \n",
       "\n",
       "                                         description format  \\\n",
       "0  This is the final tale in the bestselling auth...          \n",
       "1  Life should be simple for Cassie.\\nFor the sma...          \n",
       "\n",
       "                                                link  \\\n",
       "0  https://www.goodreads.com/book/show/12182387-t...   \n",
       "1  https://www.goodreads.com/book/show/20135365-h...   \n",
       "\n",
       "                                             authors publisher num_pages  \\\n",
       "0  [{'author_id': '50873', 'role': ''}, {'author_...                       \n",
       "1             [{'author_id': '5395324', 'role': ''}]                       \n",
       "\n",
       "  publication_day isbn13 publication_month edition_information  \\\n",
       "0                                                                \n",
       "1                                                                \n",
       "\n",
       "  publication_year                                                url  \\\n",
       "0                   https://www.goodreads.com/book/show/12182387-t...   \n",
       "1                   https://www.goodreads.com/book/show/20135365-h...   \n",
       "\n",
       "                                           image_url   book_id ratings_count  \\\n",
       "0  https://s.gr-assets.com/assets/nophoto/book/11...  12182387             4   \n",
       "1  https://s.gr-assets.com/assets/nophoto/book/11...  20135365             5   \n",
       "\n",
       "    work_id                           title            title_without_series  \n",
       "0    285263  The Passion (Dark Visions, #3)  The Passion (Dark Visions, #3)  \n",
       "1  18450480                 Hope's Daughter                 Hope's Daughter  "
      ]
     },
     "execution_count": 16,
     "metadata": {},
     "output_type": "execute_result"
    }
   ],
   "source": [
    "ya_books"
   ]
  },
  {
   "cell_type": "code",
   "execution_count": 17,
   "metadata": {},
   "outputs": [
    {
     "data": {
      "text/plain": [
       "Index(['isbn', 'text_reviews_count', 'series', 'country_code', 'language_code',\n",
       "       'popular_shelves', 'asin', 'is_ebook', 'average_rating', 'kindle_asin',\n",
       "       'similar_books', 'description', 'format', 'link', 'authors',\n",
       "       'publisher', 'num_pages', 'publication_day', 'isbn13',\n",
       "       'publication_month', 'edition_information', 'publication_year', 'url',\n",
       "       'image_url', 'book_id', 'ratings_count', 'work_id', 'title',\n",
       "       'title_without_series'],\n",
       "      dtype='object')"
      ]
     },
     "execution_count": 17,
     "metadata": {},
     "output_type": "execute_result"
    }
   ],
   "source": [
    "ya_books.columns"
   ]
  },
  {
   "cell_type": "markdown",
   "metadata": {},
   "source": [
    "Keep from ya_books: ['text_reviews_count', 'series', 'country_code', 'language_code',\n",
    "       'popular_shelves', 'is_ebook', 'average_rating',\n",
    "       'similar_books', 'description', 'authors',\n",
    "       'publisher', 'num_pages', 'publication_day',\n",
    "       'publication_month', 'edition_information', 'publication_year', 'book_id', 'ratings_count', 'title']"
   ]
  },
  {
   "cell_type": "code",
   "execution_count": 20,
   "metadata": {},
   "outputs": [
    {
     "data": {
      "text/html": [
       "<div>\n",
       "<style scoped>\n",
       "    .dataframe tbody tr th:only-of-type {\n",
       "        vertical-align: middle;\n",
       "    }\n",
       "\n",
       "    .dataframe tbody tr th {\n",
       "        vertical-align: top;\n",
       "    }\n",
       "\n",
       "    .dataframe thead th {\n",
       "        text-align: right;\n",
       "    }\n",
       "</style>\n",
       "<table border=\"1\" class=\"dataframe\">\n",
       "  <thead>\n",
       "    <tr style=\"text-align: right;\">\n",
       "      <th></th>\n",
       "      <th>user_id</th>\n",
       "      <th>book_id</th>\n",
       "      <th>review_id</th>\n",
       "      <th>is_read</th>\n",
       "      <th>rating</th>\n",
       "      <th>review_text_incomplete</th>\n",
       "      <th>date_added</th>\n",
       "      <th>date_updated</th>\n",
       "      <th>read_at</th>\n",
       "      <th>started_at</th>\n",
       "    </tr>\n",
       "  </thead>\n",
       "  <tbody>\n",
       "    <tr>\n",
       "      <th>0</th>\n",
       "      <td>8842281e1d1347389f2ab93d60773d4d</td>\n",
       "      <td>18667753</td>\n",
       "      <td>be53fe83a6fc83474052f84692f6e90a</td>\n",
       "      <td>False</td>\n",
       "      <td>0</td>\n",
       "      <td></td>\n",
       "      <td>Wed Mar 29 00:12:52 -0700 2017</td>\n",
       "      <td>Wed Mar 29 00:12:52 -0700 2017</td>\n",
       "      <td></td>\n",
       "      <td></td>\n",
       "    </tr>\n",
       "    <tr>\n",
       "      <th>1</th>\n",
       "      <td>8842281e1d1347389f2ab93d60773d4d</td>\n",
       "      <td>428263</td>\n",
       "      <td>2030f56879ebcc307a4b9cd8c83200e8</td>\n",
       "      <td>False</td>\n",
       "      <td>0</td>\n",
       "      <td></td>\n",
       "      <td>Mon Mar 27 22:01:42 -0700 2017</td>\n",
       "      <td>Mon Mar 27 22:01:42 -0700 2017</td>\n",
       "      <td></td>\n",
       "      <td></td>\n",
       "    </tr>\n",
       "  </tbody>\n",
       "</table>\n",
       "</div>"
      ],
      "text/plain": [
       "                            user_id   book_id  \\\n",
       "0  8842281e1d1347389f2ab93d60773d4d  18667753   \n",
       "1  8842281e1d1347389f2ab93d60773d4d    428263   \n",
       "\n",
       "                          review_id  is_read  rating review_text_incomplete  \\\n",
       "0  be53fe83a6fc83474052f84692f6e90a    False       0                          \n",
       "1  2030f56879ebcc307a4b9cd8c83200e8    False       0                          \n",
       "\n",
       "                       date_added                    date_updated read_at  \\\n",
       "0  Wed Mar 29 00:12:52 -0700 2017  Wed Mar 29 00:12:52 -0700 2017           \n",
       "1  Mon Mar 27 22:01:42 -0700 2017  Mon Mar 27 22:01:42 -0700 2017           \n",
       "\n",
       "  started_at  \n",
       "0             \n",
       "1             "
      ]
     },
     "execution_count": 20,
     "metadata": {},
     "output_type": "execute_result"
    }
   ],
   "source": [
    "ya_interactions"
   ]
  },
  {
   "cell_type": "code",
   "execution_count": 21,
   "metadata": {},
   "outputs": [
    {
     "data": {
      "text/plain": [
       "Index(['user_id', 'book_id', 'review_id', 'is_read', 'rating',\n",
       "       'review_text_incomplete', 'date_added', 'date_updated', 'read_at',\n",
       "       'started_at'],\n",
       "      dtype='object')"
      ]
     },
     "execution_count": 21,
     "metadata": {},
     "output_type": "execute_result"
    }
   ],
   "source": [
    "ya_interactions.columns"
   ]
  },
  {
   "cell_type": "markdown",
   "metadata": {},
   "source": [
    "ya_interactions keep: ['user_id', 'book_id', 'review_id', 'is_read', 'rating']"
   ]
  },
  {
   "cell_type": "markdown",
   "metadata": {},
   "source": [
    "### Reading in necessary files with limited columns and reducing numerical columns with smaller dtypes"
   ]
  },
  {
   "cell_type": "markdown",
   "metadata": {},
   "source": [
    "books"
   ]
  },
  {
   "cell_type": "code",
   "execution_count": 166,
   "metadata": {},
   "outputs": [
    {
     "name": "stdout",
     "output_type": "stream",
     "text": [
      "<class 'pandas.core.frame.DataFrame'>\n",
      "RangeIndex: 93398 entries, 0 to 93397\n",
      "Data columns (total 19 columns):\n",
      " #   Column               Non-Null Count  Dtype  \n",
      "---  ------               --------------  -----  \n",
      " 0   book_id              93398 non-null  int64  \n",
      " 1   title                93398 non-null  object \n",
      " 2   series               93398 non-null  object \n",
      " 3   text_reviews_count   93398 non-null  int64  \n",
      " 4   ratings_count        93398 non-null  int64  \n",
      " 5   country_code         93398 non-null  object \n",
      " 6   language_code        93398 non-null  object \n",
      " 7   popular_shelves      93398 non-null  object \n",
      " 8   is_ebook             93398 non-null  object \n",
      " 9   average_rating       93398 non-null  float64\n",
      " 10  similar_books        93398 non-null  object \n",
      " 11  description          93398 non-null  object \n",
      " 12  authors              93398 non-null  object \n",
      " 13  publisher            93398 non-null  object \n",
      " 14  num_pages            93398 non-null  object \n",
      " 15  publication_day      93398 non-null  object \n",
      " 16  publication_month    93398 non-null  object \n",
      " 17  publication_year     93398 non-null  object \n",
      " 18  edition_information  93398 non-null  object \n",
      "dtypes: float64(1), int64(3), object(15)\n",
      "memory usage: 13.5+ MB\n"
     ]
    }
   ],
   "source": [
    "ya_books = load_data(DIR + 'goodreads_books_young_adult.json.gz', columns = ['book_id','title', 'series', 'text_reviews_count','ratings_count','country_code', 'language_code',\n",
    "       'popular_shelves', 'is_ebook', 'average_rating',\n",
    "       'similar_books', 'description', 'authors',\n",
    "       'publisher', 'num_pages', 'publication_day',\n",
    "       'publication_month',  'publication_year',  'edition_information'])\n",
    "ya_books.info()"
   ]
  },
  {
   "cell_type": "code",
   "execution_count": 31,
   "metadata": {},
   "outputs": [
    {
     "name": "stdout",
     "output_type": "stream",
     "text": [
      "<class 'pandas.core.frame.DataFrame'>\n",
      "RangeIndex: 93398 entries, 0 to 93397\n",
      "Data columns (total 19 columns):\n",
      " #   Column               Non-Null Count  Dtype  \n",
      "---  ------               --------------  -----  \n",
      " 0   book_id              93398 non-null  int64  \n",
      " 1   title                93398 non-null  object \n",
      " 2   series               93398 non-null  object \n",
      " 3   text_reviews_count   93398 non-null  int64  \n",
      " 4   ratings_count        93398 non-null  int64  \n",
      " 5   country_code         93398 non-null  object \n",
      " 6   language_code        93398 non-null  object \n",
      " 7   popular_shelves      93398 non-null  object \n",
      " 8   is_ebook             93398 non-null  object \n",
      " 9   average_rating       93398 non-null  float64\n",
      " 10  similar_books        93398 non-null  object \n",
      " 11  description          93398 non-null  object \n",
      " 12  authors              93398 non-null  object \n",
      " 13  publisher            93398 non-null  object \n",
      " 14  num_pages            93398 non-null  object \n",
      " 15  publication_day      93398 non-null  object \n",
      " 16  publication_month    93398 non-null  object \n",
      " 17  publication_year     93398 non-null  object \n",
      " 18  edition_information  93398 non-null  object \n",
      "dtypes: float64(1), int64(3), object(15)\n",
      "memory usage: 13.5+ MB\n"
     ]
    }
   ],
   "source": [
    "ya_books.info()"
   ]
  },
  {
   "cell_type": "code",
   "execution_count": 136,
   "metadata": {},
   "outputs": [
    {
     "name": "stdout",
     "output_type": "stream",
     "text": [
      "50 36524503 book_id\n",
      "0 142645 text_reviews_count\n",
      "0 4899965 ratings_count\n",
      "0.0 5.0 average_rating\n"
     ]
    }
   ],
   "source": [
    "#for int and float types, print out the min and max, followed by the column name\n",
    "for col in ya_books.columns:\n",
    "    if ya_books[col].dtype == 'int64' or ya_books[col].dtype == 'float64':\n",
    "        print(ya_books[col].min(), ya_books[col].max(), col)"
   ]
  },
  {
   "cell_type": "markdown",
   "metadata": {},
   "source": [
    "Downgrade types (book_id to int32, text_reviews_count to int32, ratings_count to int32, and average_rating to float16)"
   ]
  },
  {
   "cell_type": "code",
   "execution_count": 167,
   "metadata": {},
   "outputs": [],
   "source": [
    "ya_books['book_id']= ya_books['book_id'].astype('int32')\n",
    "ya_books['text_reviews_count'] = ya_books['text_reviews_count'].astype('int32')\n",
    "ya_books['ratings_count'] = ya_books['ratings_count'].astype('int32')\n",
    "ya_books['average_rating'] = ya_books['average_rating'].astype('float16')"
   ]
  },
  {
   "cell_type": "markdown",
   "metadata": {},
   "source": [
    "Reviews"
   ]
  },
  {
   "cell_type": "code",
   "execution_count": 29,
   "metadata": {},
   "outputs": [
    {
     "name": "stdout",
     "output_type": "stream",
     "text": [
      "<class 'pandas.core.frame.DataFrame'>\n",
      "RangeIndex: 2389900 entries, 0 to 2389899\n",
      "Data columns (total 6 columns):\n",
      " #   Column       Dtype \n",
      "---  ------       ----- \n",
      " 0   book_id      int64 \n",
      " 1   review_id    object\n",
      " 2   rating       int64 \n",
      " 3   review_text  object\n",
      " 4   n_votes      int64 \n",
      " 5   n_comments   int64 \n",
      "dtypes: int64(4), object(2)\n",
      "memory usage: 109.4+ MB\n"
     ]
    }
   ],
   "source": [
    "ya_reviews = load_data(DIR + 'goodreads_reviews_young_adult.json.gz', columns = ['book_id', 'review_id', 'rating', 'review_text', 'n_votes', 'n_comments'])\n",
    "ya_reviews.info()"
   ]
  },
  {
   "cell_type": "code",
   "execution_count": 38,
   "metadata": {},
   "outputs": [],
   "source": [
    "#print out the min and max for ya_reviews['book_id'] and rating and n_votes and n_comments\n",
    "#for int and float types, print out the min and max, followed by the column name\n",
    "for col in ya_reviews.columns:\n",
    "    if ya_reviews[col].dtype == 'int64' or ya_reviews[col].dtype == 'float64':\n",
    "        print(ya_reviews[col].min(), ya_reviews[col].max(), col)"
   ]
  },
  {
   "cell_type": "markdown",
   "metadata": {},
   "source": [
    "For memory reasons, downgrade to min int fit"
   ]
  },
  {
   "cell_type": "code",
   "execution_count": 34,
   "metadata": {},
   "outputs": [],
   "source": [
    "ya_reviews['book_id'] = ya_reviews['book_id'].astype('int32')\n",
    "ya_reviews['rating'] = ya_reviews['rating'].astype('int8')\n",
    "ya_reviews['n_votes'] = ya_reviews['n_votes'].astype('int16')\n",
    "ya_reviews['n_comments'] = ya_reviews['n_comments'].astype('int16')"
   ]
  },
  {
   "cell_type": "markdown",
   "metadata": {},
   "source": [
    "Interactions"
   ]
  },
  {
   "cell_type": "code",
   "execution_count": 30,
   "metadata": {},
   "outputs": [
    {
     "name": "stdout",
     "output_type": "stream",
     "text": [
      "<class 'pandas.core.frame.DataFrame'>\n",
      "RangeIndex: 34919254 entries, 0 to 34919253\n",
      "Data columns (total 4 columns):\n",
      " #   Column   Dtype \n",
      "---  ------   ----- \n",
      " 0   user_id  object\n",
      " 1   book_id  int64 \n",
      " 2   is_read  bool  \n",
      " 3   rating   int64 \n",
      "dtypes: bool(1), int64(2), object(1)\n",
      "memory usage: 832.5+ MB\n"
     ]
    }
   ],
   "source": [
    "ya_interactions = load_data(DIR + 'goodreads_interactions_young_adult.json.gz', columns = ['user_id', 'book_id', 'is_read', 'rating'])\n",
    "ya_interactions.info()"
   ]
  },
  {
   "cell_type": "code",
   "execution_count": 40,
   "metadata": {},
   "outputs": [
    {
     "name": "stdout",
     "output_type": "stream",
     "text": [
      "50 36524503 book_id\n",
      "0 5 rating\n"
     ]
    }
   ],
   "source": [
    "#for int and float types, print out the min and max, followed by the column name\n",
    "for col in ya_interactions.columns:\n",
    "    if ya_interactions[col].dtype == 'int64' or ya_interactions[col].dtype == 'float64':\n",
    "        print(ya_interactions[col].min(), ya_interactions[col].max(), col)"
   ]
  },
  {
   "cell_type": "code",
   "execution_count": 42,
   "metadata": {},
   "outputs": [],
   "source": [
    "ya_interactions['book_id'] = ya_interactions['book_id'].astype('int32')\n",
    "ya_interactions['rating'] = ya_interactions['rating'].astype('int8')"
   ]
  },
  {
   "cell_type": "markdown",
   "metadata": {},
   "source": [
    "### Doing some arbitrary cleaning on the data"
   ]
  },
  {
   "cell_type": "markdown",
   "metadata": {},
   "source": [
    "#### checking for duplicates"
   ]
  },
  {
   "cell_type": "code",
   "execution_count": null,
   "metadata": {},
   "outputs": [
    {
     "data": {
      "text/plain": [
       "0"
      ]
     },
     "metadata": {},
     "output_type": "display_data"
    }
   ],
   "source": [
    "#check for duplicate book_id in ya_books\n",
    "ya_books['book_id'].duplicated().sum()"
   ]
  },
  {
   "cell_type": "code",
   "execution_count": null,
   "metadata": {},
   "outputs": [
    {
     "data": {
      "text/plain": [
       "0"
      ]
     },
     "metadata": {},
     "output_type": "display_data"
    }
   ],
   "source": [
    "#check for duplicate book_id, user_id in ya_interactions\n",
    "ya_interactions[['book_id', 'user_id']].duplicated().sum()"
   ]
  },
  {
   "cell_type": "code",
   "execution_count": null,
   "metadata": {},
   "outputs": [
    {
     "data": {
      "text/plain": [
       "0"
      ]
     },
     "metadata": {},
     "output_type": "display_data"
    }
   ],
   "source": [
    "#check for duplicate review_id in ya_reviews\n",
    "ya_reviews['review_id'].duplicated().sum()"
   ]
  },
  {
   "cell_type": "code",
   "execution_count": 169,
   "metadata": {},
   "outputs": [],
   "source": [
    "#replace blank values with NaN\n",
    "ya_books.replace('', np.nan, inplace=True)\n",
    "ya_reviews.replace('', np.nan, inplace=True)\n",
    "ya_interactions.replace('', np.nan, inplace=True)"
   ]
  },
  {
   "cell_type": "code",
   "execution_count": 211,
   "metadata": {},
   "outputs": [
    {
     "data": {
      "text/html": [
       "<div>\n",
       "<style scoped>\n",
       "    .dataframe tbody tr th:only-of-type {\n",
       "        vertical-align: middle;\n",
       "    }\n",
       "\n",
       "    .dataframe tbody tr th {\n",
       "        vertical-align: top;\n",
       "    }\n",
       "\n",
       "    .dataframe thead th {\n",
       "        text-align: right;\n",
       "    }\n",
       "</style>\n",
       "<table border=\"1\" class=\"dataframe\">\n",
       "  <thead>\n",
       "    <tr style=\"text-align: right;\">\n",
       "      <th></th>\n",
       "      <th>book_id</th>\n",
       "      <th>title</th>\n",
       "      <th>series</th>\n",
       "      <th>text_reviews_count</th>\n",
       "      <th>ratings_count</th>\n",
       "      <th>country_code</th>\n",
       "      <th>language_code</th>\n",
       "      <th>popular_shelves</th>\n",
       "      <th>is_ebook</th>\n",
       "      <th>average_rating</th>\n",
       "      <th>similar_books</th>\n",
       "      <th>description</th>\n",
       "      <th>authors</th>\n",
       "      <th>publisher</th>\n",
       "      <th>num_pages</th>\n",
       "      <th>publication_day</th>\n",
       "      <th>publication_month</th>\n",
       "      <th>publication_year</th>\n",
       "      <th>edition_information</th>\n",
       "    </tr>\n",
       "  </thead>\n",
       "  <tbody>\n",
       "    <tr>\n",
       "      <th>0</th>\n",
       "      <td>12182387</td>\n",
       "      <td>The Passion (Dark Visions, #3)</td>\n",
       "      <td>[147734]</td>\n",
       "      <td>1</td>\n",
       "      <td>4</td>\n",
       "      <td>US</td>\n",
       "      <td>NaN</td>\n",
       "      <td>[{'count': '1057', 'name': 'to-read'}, {'count...</td>\n",
       "      <td>true</td>\n",
       "      <td>4.039062</td>\n",
       "      <td>[519546, 1295074, 21407416]</td>\n",
       "      <td>This is the final tale in the bestselling auth...</td>\n",
       "      <td>[50873, 232533]</td>\n",
       "      <td>NaN</td>\n",
       "      <td>NaN</td>\n",
       "      <td>NaN</td>\n",
       "      <td>NaN</td>\n",
       "      <td>NaN</td>\n",
       "      <td>NaN</td>\n",
       "    </tr>\n",
       "    <tr>\n",
       "      <th>1</th>\n",
       "      <td>20135365</td>\n",
       "      <td>Hope's Daughter</td>\n",
       "      <td>[425995]</td>\n",
       "      <td>2</td>\n",
       "      <td>5</td>\n",
       "      <td>US</td>\n",
       "      <td>NaN</td>\n",
       "      <td>[{'count': '1010', 'name': 'to-read'}, {'count...</td>\n",
       "      <td>true</td>\n",
       "      <td>3.800781</td>\n",
       "      <td>[13400912, 13327517, 18107102, 15797097, 11472...</td>\n",
       "      <td>Life should be simple for Cassie.\\nFor the sma...</td>\n",
       "      <td>[5395324]</td>\n",
       "      <td>NaN</td>\n",
       "      <td>NaN</td>\n",
       "      <td>NaN</td>\n",
       "      <td>NaN</td>\n",
       "      <td>NaN</td>\n",
       "      <td>NaN</td>\n",
       "    </tr>\n",
       "    <tr>\n",
       "      <th>2</th>\n",
       "      <td>21401181</td>\n",
       "      <td>Half Bad (Half Life, #1)</td>\n",
       "      <td>[493993]</td>\n",
       "      <td>17</td>\n",
       "      <td>33</td>\n",
       "      <td>US</td>\n",
       "      <td>NaN</td>\n",
       "      <td>[{'count': '1799', 'name': 'fantasy'}, {'count...</td>\n",
       "      <td>true</td>\n",
       "      <td>3.800781</td>\n",
       "      <td>[15728807, 17182499, 15673520, 16081758, 17842...</td>\n",
       "      <td>Wanted by no one.\\nHunted by everyone.\\nSixtee...</td>\n",
       "      <td>[7314532]</td>\n",
       "      <td>Viking Children's</td>\n",
       "      <td>416</td>\n",
       "      <td>4</td>\n",
       "      <td>3</td>\n",
       "      <td>2014</td>\n",
       "      <td>NaN</td>\n",
       "    </tr>\n",
       "    <tr>\n",
       "      <th>3</th>\n",
       "      <td>10099492</td>\n",
       "      <td>Twelfth Grade Kills (The Chronicles of Vladimi...</td>\n",
       "      <td>[176160]</td>\n",
       "      <td>9</td>\n",
       "      <td>152</td>\n",
       "      <td>US</td>\n",
       "      <td>eng</td>\n",
       "      <td>[{'count': '7173', 'name': 'to-read'}, {'count...</td>\n",
       "      <td>true</td>\n",
       "      <td>4.351562</td>\n",
       "      <td>[25861113, 7430195, 18765937, 6120544, 3247550...</td>\n",
       "      <td>It all comes down to this.\\nVlad's running out...</td>\n",
       "      <td>[293603]</td>\n",
       "      <td>NaN</td>\n",
       "      <td>NaN</td>\n",
       "      <td>NaN</td>\n",
       "      <td>NaN</td>\n",
       "      <td>NaN</td>\n",
       "      <td>NaN</td>\n",
       "    </tr>\n",
       "    <tr>\n",
       "      <th>4</th>\n",
       "      <td>22642971</td>\n",
       "      <td>The Body Electric</td>\n",
       "      <td>NaN</td>\n",
       "      <td>428</td>\n",
       "      <td>1525</td>\n",
       "      <td>US</td>\n",
       "      <td>eng</td>\n",
       "      <td>[{'count': '9481', 'name': 'to-read'}, {'count...</td>\n",
       "      <td>false</td>\n",
       "      <td>3.710938</td>\n",
       "      <td>[20499652, 17934493, 13518102, 16210411, 17149...</td>\n",
       "      <td>The future world is at peace.\\nElla Shepherd h...</td>\n",
       "      <td>[4018722]</td>\n",
       "      <td>Scripturient Books</td>\n",
       "      <td>351</td>\n",
       "      <td>6</td>\n",
       "      <td>10</td>\n",
       "      <td>2014</td>\n",
       "      <td>Special Edition</td>\n",
       "    </tr>\n",
       "    <tr>\n",
       "      <th>...</th>\n",
       "      <td>...</td>\n",
       "      <td>...</td>\n",
       "      <td>...</td>\n",
       "      <td>...</td>\n",
       "      <td>...</td>\n",
       "      <td>...</td>\n",
       "      <td>...</td>\n",
       "      <td>...</td>\n",
       "      <td>...</td>\n",
       "      <td>...</td>\n",
       "      <td>...</td>\n",
       "      <td>...</td>\n",
       "      <td>...</td>\n",
       "      <td>...</td>\n",
       "      <td>...</td>\n",
       "      <td>...</td>\n",
       "      <td>...</td>\n",
       "      <td>...</td>\n",
       "      <td>...</td>\n",
       "    </tr>\n",
       "    <tr>\n",
       "      <th>93393</th>\n",
       "      <td>18221503</td>\n",
       "      <td>Ölmem Gerekirse (Revenants, #3)</td>\n",
       "      <td>[294897]</td>\n",
       "      <td>3</td>\n",
       "      <td>21</td>\n",
       "      <td>US</td>\n",
       "      <td>tur</td>\n",
       "      <td>[{'count': '2641', 'name': 'to-read'}, {'count...</td>\n",
       "      <td>false</td>\n",
       "      <td>4.210938</td>\n",
       "      <td>[11413298, 13508069, 7849034, 10552965, 155206...</td>\n",
       "      <td>Sevdigini Kurtarmak Icin Ne Kadarina Hazirsin?...</td>\n",
       "      <td>[3353516]</td>\n",
       "      <td>Akil Celen Kitaplar</td>\n",
       "      <td>408</td>\n",
       "      <td>NaN</td>\n",
       "      <td>NaN</td>\n",
       "      <td>2013</td>\n",
       "      <td>NaN</td>\n",
       "    </tr>\n",
       "    <tr>\n",
       "      <th>93394</th>\n",
       "      <td>8987191</td>\n",
       "      <td>The Mockingbirds (The Mockingbirds, #1)</td>\n",
       "      <td>[238215]</td>\n",
       "      <td>9</td>\n",
       "      <td>42</td>\n",
       "      <td>US</td>\n",
       "      <td>en-US</td>\n",
       "      <td>[{'count': '12325', 'name': 'to-read'}, {'coun...</td>\n",
       "      <td>true</td>\n",
       "      <td>3.789062</td>\n",
       "      <td>[8574517, 6440071, 6625948, 7036227, 6768407, ...</td>\n",
       "      <td>Some schools have honor codes.\\nOthers have ha...</td>\n",
       "      <td>[3081700]</td>\n",
       "      <td>Little, Brown Books for Young Readers</td>\n",
       "      <td>360</td>\n",
       "      <td>2</td>\n",
       "      <td>11</td>\n",
       "      <td>2010</td>\n",
       "      <td>NaN</td>\n",
       "    </tr>\n",
       "    <tr>\n",
       "      <th>93395</th>\n",
       "      <td>1885730</td>\n",
       "      <td>Joel and Cat Set the Story Straight</td>\n",
       "      <td>NaN</td>\n",
       "      <td>55</td>\n",
       "      <td>1094</td>\n",
       "      <td>US</td>\n",
       "      <td>NaN</td>\n",
       "      <td>[{'count': '1684', 'name': 'to-read'}, {'count...</td>\n",
       "      <td>false</td>\n",
       "      <td>3.779297</td>\n",
       "      <td>[1957880, 2490879, 8030321, 13152142, 6849661,...</td>\n",
       "      <td>NaN</td>\n",
       "      <td>[348478, 570577]</td>\n",
       "      <td>Penguin</td>\n",
       "      <td>240</td>\n",
       "      <td>30</td>\n",
       "      <td>7</td>\n",
       "      <td>2007</td>\n",
       "      <td>NaN</td>\n",
       "    </tr>\n",
       "    <tr>\n",
       "      <th>93396</th>\n",
       "      <td>23636536</td>\n",
       "      <td>Another Day</td>\n",
       "      <td>[540527]</td>\n",
       "      <td>14</td>\n",
       "      <td>29</td>\n",
       "      <td>US</td>\n",
       "      <td>eng</td>\n",
       "      <td>[{'count': '2401', 'name': 'to-read'}, {'count...</td>\n",
       "      <td>true</td>\n",
       "      <td>3.669922</td>\n",
       "      <td>[26802671, 20662291, 23615716, 23870836, 21490...</td>\n",
       "      <td>The eagerly anticipated companion to David Lev...</td>\n",
       "      <td>[11664]</td>\n",
       "      <td>Knopf Books for Young Readers</td>\n",
       "      <td>336</td>\n",
       "      <td>25</td>\n",
       "      <td>8</td>\n",
       "      <td>2015</td>\n",
       "      <td>NaN</td>\n",
       "    </tr>\n",
       "    <tr>\n",
       "      <th>93397</th>\n",
       "      <td>17805813</td>\n",
       "      <td>Ondine (Ondine Quartet, #0.5)</td>\n",
       "      <td>[494165]</td>\n",
       "      <td>27</td>\n",
       "      <td>327</td>\n",
       "      <td>US</td>\n",
       "      <td>en-GB</td>\n",
       "      <td>[{'count': '850', 'name': 'to-read'}, {'count'...</td>\n",
       "      <td>true</td>\n",
       "      <td>4.019531</td>\n",
       "      <td>[18868682, 18171572, 15795797, 16120595, 29228...</td>\n",
       "      <td>\"I shouldn't get involved.\"\\nRebellious and he...</td>\n",
       "      <td>[4633056]</td>\n",
       "      <td>NaN</td>\n",
       "      <td>84</td>\n",
       "      <td>19</td>\n",
       "      <td>12</td>\n",
       "      <td>2013</td>\n",
       "      <td>NaN</td>\n",
       "    </tr>\n",
       "  </tbody>\n",
       "</table>\n",
       "<p>93398 rows × 19 columns</p>\n",
       "</div>"
      ],
      "text/plain": [
       "        book_id                                              title    series  \\\n",
       "0      12182387                     The Passion (Dark Visions, #3)  [147734]   \n",
       "1      20135365                                    Hope's Daughter  [425995]   \n",
       "2      21401181                           Half Bad (Half Life, #1)  [493993]   \n",
       "3      10099492  Twelfth Grade Kills (The Chronicles of Vladimi...  [176160]   \n",
       "4      22642971                                  The Body Electric       NaN   \n",
       "...         ...                                                ...       ...   \n",
       "93393  18221503                    Ölmem Gerekirse (Revenants, #3)  [294897]   \n",
       "93394   8987191            The Mockingbirds (The Mockingbirds, #1)  [238215]   \n",
       "93395   1885730                Joel and Cat Set the Story Straight       NaN   \n",
       "93396  23636536                                        Another Day  [540527]   \n",
       "93397  17805813                      Ondine (Ondine Quartet, #0.5)  [494165]   \n",
       "\n",
       "       text_reviews_count  ratings_count country_code language_code  \\\n",
       "0                       1              4           US           NaN   \n",
       "1                       2              5           US           NaN   \n",
       "2                      17             33           US           NaN   \n",
       "3                       9            152           US           eng   \n",
       "4                     428           1525           US           eng   \n",
       "...                   ...            ...          ...           ...   \n",
       "93393                   3             21           US           tur   \n",
       "93394                   9             42           US         en-US   \n",
       "93395                  55           1094           US           NaN   \n",
       "93396                  14             29           US           eng   \n",
       "93397                  27            327           US         en-GB   \n",
       "\n",
       "                                         popular_shelves is_ebook  \\\n",
       "0      [{'count': '1057', 'name': 'to-read'}, {'count...     true   \n",
       "1      [{'count': '1010', 'name': 'to-read'}, {'count...     true   \n",
       "2      [{'count': '1799', 'name': 'fantasy'}, {'count...     true   \n",
       "3      [{'count': '7173', 'name': 'to-read'}, {'count...     true   \n",
       "4      [{'count': '9481', 'name': 'to-read'}, {'count...    false   \n",
       "...                                                  ...      ...   \n",
       "93393  [{'count': '2641', 'name': 'to-read'}, {'count...    false   \n",
       "93394  [{'count': '12325', 'name': 'to-read'}, {'coun...     true   \n",
       "93395  [{'count': '1684', 'name': 'to-read'}, {'count...    false   \n",
       "93396  [{'count': '2401', 'name': 'to-read'}, {'count...     true   \n",
       "93397  [{'count': '850', 'name': 'to-read'}, {'count'...     true   \n",
       "\n",
       "       average_rating                                      similar_books  \\\n",
       "0            4.039062                        [519546, 1295074, 21407416]   \n",
       "1            3.800781  [13400912, 13327517, 18107102, 15797097, 11472...   \n",
       "2            3.800781  [15728807, 17182499, 15673520, 16081758, 17842...   \n",
       "3            4.351562  [25861113, 7430195, 18765937, 6120544, 3247550...   \n",
       "4            3.710938  [20499652, 17934493, 13518102, 16210411, 17149...   \n",
       "...               ...                                                ...   \n",
       "93393        4.210938  [11413298, 13508069, 7849034, 10552965, 155206...   \n",
       "93394        3.789062  [8574517, 6440071, 6625948, 7036227, 6768407, ...   \n",
       "93395        3.779297  [1957880, 2490879, 8030321, 13152142, 6849661,...   \n",
       "93396        3.669922  [26802671, 20662291, 23615716, 23870836, 21490...   \n",
       "93397        4.019531  [18868682, 18171572, 15795797, 16120595, 29228...   \n",
       "\n",
       "                                             description           authors  \\\n",
       "0      This is the final tale in the bestselling auth...   [50873, 232533]   \n",
       "1      Life should be simple for Cassie.\\nFor the sma...         [5395324]   \n",
       "2      Wanted by no one.\\nHunted by everyone.\\nSixtee...         [7314532]   \n",
       "3      It all comes down to this.\\nVlad's running out...          [293603]   \n",
       "4      The future world is at peace.\\nElla Shepherd h...         [4018722]   \n",
       "...                                                  ...               ...   \n",
       "93393  Sevdigini Kurtarmak Icin Ne Kadarina Hazirsin?...         [3353516]   \n",
       "93394  Some schools have honor codes.\\nOthers have ha...         [3081700]   \n",
       "93395                                                NaN  [348478, 570577]   \n",
       "93396  The eagerly anticipated companion to David Lev...           [11664]   \n",
       "93397  \"I shouldn't get involved.\"\\nRebellious and he...         [4633056]   \n",
       "\n",
       "                                   publisher num_pages publication_day  \\\n",
       "0                                        NaN       NaN             NaN   \n",
       "1                                        NaN       NaN             NaN   \n",
       "2                          Viking Children's       416               4   \n",
       "3                                        NaN       NaN             NaN   \n",
       "4                         Scripturient Books       351               6   \n",
       "...                                      ...       ...             ...   \n",
       "93393                    Akil Celen Kitaplar       408             NaN   \n",
       "93394  Little, Brown Books for Young Readers       360               2   \n",
       "93395                                Penguin       240              30   \n",
       "93396          Knopf Books for Young Readers       336              25   \n",
       "93397                                    NaN        84              19   \n",
       "\n",
       "      publication_month publication_year edition_information  \n",
       "0                   NaN              NaN                 NaN  \n",
       "1                   NaN              NaN                 NaN  \n",
       "2                     3             2014                 NaN  \n",
       "3                   NaN              NaN                 NaN  \n",
       "4                    10             2014     Special Edition  \n",
       "...                 ...              ...                 ...  \n",
       "93393               NaN             2013                 NaN  \n",
       "93394                11             2010                 NaN  \n",
       "93395                 7             2007                 NaN  \n",
       "93396                 8             2015                 NaN  \n",
       "93397                12             2013                 NaN  \n",
       "\n",
       "[93398 rows x 19 columns]"
      ]
     },
     "execution_count": 211,
     "metadata": {},
     "output_type": "execute_result"
    }
   ],
   "source": [
    "def extract_author_ids(author_list):\n",
    "    try:\n",
    "        # Extract the 'author_id' from each dictionary and return a list of ids\n",
    "        return [d['author_id'] for d in author_list if 'author_id' in d]\n",
    "    except TypeError:\n",
    "        return None\n",
    "\n",
    "ya_books['authors'] = ya_books['authors'].apply(extract_author_ids)\n",
    "\n",
    "ya_books['series'] = ya_books['series'].apply(lambda x: np.nan if len(x)==0 else x)\n",
    "\n",
    "ya_books"
   ]
  },
  {
   "cell_type": "markdown",
   "metadata": {},
   "source": [
    "#### checking for duplicates"
   ]
  },
  {
   "cell_type": "code",
   "execution_count": 212,
   "metadata": {},
   "outputs": [
    {
     "data": {
      "text/plain": [
       "0"
      ]
     },
     "execution_count": 212,
     "metadata": {},
     "output_type": "execute_result"
    }
   ],
   "source": [
    "#check for duplicate book_id in ya_books\n",
    "ya_books['book_id'].duplicated().sum()"
   ]
  },
  {
   "cell_type": "code",
   "execution_count": 213,
   "metadata": {},
   "outputs": [
    {
     "data": {
      "text/plain": [
       "0"
      ]
     },
     "execution_count": 213,
     "metadata": {},
     "output_type": "execute_result"
    }
   ],
   "source": [
    "#check for duplicate book_id, user_id in ya_interactions\n",
    "ya_interactions[['book_id', 'user_id']].duplicated().sum()"
   ]
  },
  {
   "cell_type": "code",
   "execution_count": 214,
   "metadata": {},
   "outputs": [
    {
     "data": {
      "text/plain": [
       "0"
      ]
     },
     "execution_count": 214,
     "metadata": {},
     "output_type": "execute_result"
    }
   ],
   "source": [
    "#check for duplicate review_id in ya_reviews\n",
    "ya_reviews['review_id'].duplicated().sum()"
   ]
  },
  {
   "cell_type": "markdown",
   "metadata": {},
   "source": [
    "#### ya_books"
   ]
  },
  {
   "cell_type": "code",
   "execution_count": 215,
   "metadata": {},
   "outputs": [
    {
     "data": {
      "text/html": [
       "<div>\n",
       "<style scoped>\n",
       "    .dataframe tbody tr th:only-of-type {\n",
       "        vertical-align: middle;\n",
       "    }\n",
       "\n",
       "    .dataframe tbody tr th {\n",
       "        vertical-align: top;\n",
       "    }\n",
       "\n",
       "    .dataframe thead th {\n",
       "        text-align: right;\n",
       "    }\n",
       "</style>\n",
       "<table border=\"1\" class=\"dataframe\">\n",
       "  <thead>\n",
       "    <tr style=\"text-align: right;\">\n",
       "      <th></th>\n",
       "      <th>book_id</th>\n",
       "      <th>title</th>\n",
       "      <th>series</th>\n",
       "      <th>text_reviews_count</th>\n",
       "      <th>ratings_count</th>\n",
       "      <th>country_code</th>\n",
       "      <th>language_code</th>\n",
       "      <th>popular_shelves</th>\n",
       "      <th>is_ebook</th>\n",
       "      <th>average_rating</th>\n",
       "      <th>similar_books</th>\n",
       "      <th>description</th>\n",
       "      <th>authors</th>\n",
       "      <th>publisher</th>\n",
       "      <th>num_pages</th>\n",
       "      <th>publication_day</th>\n",
       "      <th>publication_month</th>\n",
       "      <th>publication_year</th>\n",
       "      <th>edition_information</th>\n",
       "    </tr>\n",
       "  </thead>\n",
       "  <tbody>\n",
       "  </tbody>\n",
       "</table>\n",
       "</div>"
      ],
      "text/plain": [
       "Empty DataFrame\n",
       "Columns: [book_id, title, series, text_reviews_count, ratings_count, country_code, language_code, popular_shelves, is_ebook, average_rating, similar_books, description, authors, publisher, num_pages, publication_day, publication_month, publication_year, edition_information]\n",
       "Index: []"
      ]
     },
     "execution_count": 215,
     "metadata": {},
     "output_type": "execute_result"
    }
   ],
   "source": [
    "ya_books[ya_books['series'].str.contains(',', na=False)]"
   ]
  },
  {
   "cell_type": "code",
   "execution_count": 216,
   "metadata": {},
   "outputs": [
    {
     "name": "stdout",
     "output_type": "stream",
     "text": [
      "<class 'pandas.core.frame.DataFrame'>\n",
      "RangeIndex: 93398 entries, 0 to 93397\n",
      "Data columns (total 19 columns):\n",
      " #   Column               Non-Null Count  Dtype  \n",
      "---  ------               --------------  -----  \n",
      " 0   book_id              93398 non-null  int32  \n",
      " 1   title                93398 non-null  object \n",
      " 2   series               54640 non-null  object \n",
      " 3   text_reviews_count   93398 non-null  int32  \n",
      " 4   ratings_count        93398 non-null  int32  \n",
      " 5   country_code         93398 non-null  object \n",
      " 6   language_code        63766 non-null  object \n",
      " 7   popular_shelves      93398 non-null  object \n",
      " 8   is_ebook             93398 non-null  object \n",
      " 9   average_rating       93398 non-null  float16\n",
      " 10  similar_books        93398 non-null  object \n",
      " 11  description          89110 non-null  object \n",
      " 12  authors              93398 non-null  object \n",
      " 13  publisher            74799 non-null  object \n",
      " 14  num_pages            71695 non-null  object \n",
      " 15  publication_day      64937 non-null  object \n",
      " 16  publication_month    71315 non-null  object \n",
      " 17  publication_year     77895 non-null  object \n",
      " 18  edition_information  7390 non-null   object \n",
      "dtypes: float16(1), int32(3), object(15)\n",
      "memory usage: 11.9+ MB\n"
     ]
    }
   ],
   "source": [
    "ya_books.info()"
   ]
  },
  {
   "cell_type": "markdown",
   "metadata": {},
   "source": [
    "Nulls found in series, language_code, description, publisher, num_pages, publication_day, publication_month, publication_year, and edition_information (a lot)"
   ]
  },
  {
   "cell_type": "markdown",
   "metadata": {},
   "source": [
    "##### ya_books language code"
   ]
  },
  {
   "cell_type": "code",
   "execution_count": 217,
   "metadata": {},
   "outputs": [
    {
     "data": {
      "text/html": [
       "<div>\n",
       "<style scoped>\n",
       "    .dataframe tbody tr th:only-of-type {\n",
       "        vertical-align: middle;\n",
       "    }\n",
       "\n",
       "    .dataframe tbody tr th {\n",
       "        vertical-align: top;\n",
       "    }\n",
       "\n",
       "    .dataframe thead th {\n",
       "        text-align: right;\n",
       "    }\n",
       "</style>\n",
       "<table border=\"1\" class=\"dataframe\">\n",
       "  <thead>\n",
       "    <tr style=\"text-align: right;\">\n",
       "      <th></th>\n",
       "      <th>book_id</th>\n",
       "      <th>title</th>\n",
       "      <th>series</th>\n",
       "      <th>text_reviews_count</th>\n",
       "      <th>ratings_count</th>\n",
       "      <th>country_code</th>\n",
       "      <th>language_code</th>\n",
       "      <th>popular_shelves</th>\n",
       "      <th>is_ebook</th>\n",
       "      <th>average_rating</th>\n",
       "      <th>similar_books</th>\n",
       "      <th>description</th>\n",
       "      <th>authors</th>\n",
       "      <th>publisher</th>\n",
       "      <th>num_pages</th>\n",
       "      <th>publication_day</th>\n",
       "      <th>publication_month</th>\n",
       "      <th>publication_year</th>\n",
       "      <th>edition_information</th>\n",
       "    </tr>\n",
       "  </thead>\n",
       "  <tbody>\n",
       "    <tr>\n",
       "      <th>0</th>\n",
       "      <td>12182387</td>\n",
       "      <td>The Passion (Dark Visions, #3)</td>\n",
       "      <td>[147734]</td>\n",
       "      <td>1</td>\n",
       "      <td>4</td>\n",
       "      <td>US</td>\n",
       "      <td>NaN</td>\n",
       "      <td>[{'count': '1057', 'name': 'to-read'}, {'count...</td>\n",
       "      <td>true</td>\n",
       "      <td>4.039062</td>\n",
       "      <td>[519546, 1295074, 21407416]</td>\n",
       "      <td>This is the final tale in the bestselling auth...</td>\n",
       "      <td>[50873, 232533]</td>\n",
       "      <td>NaN</td>\n",
       "      <td>NaN</td>\n",
       "      <td>NaN</td>\n",
       "      <td>NaN</td>\n",
       "      <td>NaN</td>\n",
       "      <td>NaN</td>\n",
       "    </tr>\n",
       "    <tr>\n",
       "      <th>1</th>\n",
       "      <td>20135365</td>\n",
       "      <td>Hope's Daughter</td>\n",
       "      <td>[425995]</td>\n",
       "      <td>2</td>\n",
       "      <td>5</td>\n",
       "      <td>US</td>\n",
       "      <td>NaN</td>\n",
       "      <td>[{'count': '1010', 'name': 'to-read'}, {'count...</td>\n",
       "      <td>true</td>\n",
       "      <td>3.800781</td>\n",
       "      <td>[13400912, 13327517, 18107102, 15797097, 11472...</td>\n",
       "      <td>Life should be simple for Cassie.\\nFor the sma...</td>\n",
       "      <td>[5395324]</td>\n",
       "      <td>NaN</td>\n",
       "      <td>NaN</td>\n",
       "      <td>NaN</td>\n",
       "      <td>NaN</td>\n",
       "      <td>NaN</td>\n",
       "      <td>NaN</td>\n",
       "    </tr>\n",
       "    <tr>\n",
       "      <th>2</th>\n",
       "      <td>21401181</td>\n",
       "      <td>Half Bad (Half Life, #1)</td>\n",
       "      <td>[493993]</td>\n",
       "      <td>17</td>\n",
       "      <td>33</td>\n",
       "      <td>US</td>\n",
       "      <td>NaN</td>\n",
       "      <td>[{'count': '1799', 'name': 'fantasy'}, {'count...</td>\n",
       "      <td>true</td>\n",
       "      <td>3.800781</td>\n",
       "      <td>[15728807, 17182499, 15673520, 16081758, 17842...</td>\n",
       "      <td>Wanted by no one.\\nHunted by everyone.\\nSixtee...</td>\n",
       "      <td>[7314532]</td>\n",
       "      <td>Viking Children's</td>\n",
       "      <td>416</td>\n",
       "      <td>4</td>\n",
       "      <td>3</td>\n",
       "      <td>2014</td>\n",
       "      <td>NaN</td>\n",
       "    </tr>\n",
       "    <tr>\n",
       "      <th>5</th>\n",
       "      <td>31556136</td>\n",
       "      <td>Like Water</td>\n",
       "      <td>NaN</td>\n",
       "      <td>45</td>\n",
       "      <td>109</td>\n",
       "      <td>US</td>\n",
       "      <td>NaN</td>\n",
       "      <td>[{'count': '3010', 'name': 'to-read'}, {'count...</td>\n",
       "      <td>false</td>\n",
       "      <td>3.890625</td>\n",
       "      <td>[]</td>\n",
       "      <td>A gorgeously written and deeply felt literary ...</td>\n",
       "      <td>[6537142]</td>\n",
       "      <td>Balzer + Bray</td>\n",
       "      <td>304</td>\n",
       "      <td>17</td>\n",
       "      <td>10</td>\n",
       "      <td>2017</td>\n",
       "      <td>NaN</td>\n",
       "    </tr>\n",
       "    <tr>\n",
       "      <th>7</th>\n",
       "      <td>12182388</td>\n",
       "      <td>The Possessed (Dark Visions, #2)</td>\n",
       "      <td>[150778]</td>\n",
       "      <td>1</td>\n",
       "      <td>4</td>\n",
       "      <td>US</td>\n",
       "      <td>NaN</td>\n",
       "      <td>[{'count': '1032', 'name': 'to-read'}, {'count...</td>\n",
       "      <td>true</td>\n",
       "      <td>3.919922</td>\n",
       "      <td>[84066, 1295074]</td>\n",
       "      <td>NaN</td>\n",
       "      <td>[50873, 232533]</td>\n",
       "      <td>NaN</td>\n",
       "      <td>NaN</td>\n",
       "      <td>NaN</td>\n",
       "      <td>NaN</td>\n",
       "      <td>NaN</td>\n",
       "      <td>NaN</td>\n",
       "    </tr>\n",
       "    <tr>\n",
       "      <th>...</th>\n",
       "      <td>...</td>\n",
       "      <td>...</td>\n",
       "      <td>...</td>\n",
       "      <td>...</td>\n",
       "      <td>...</td>\n",
       "      <td>...</td>\n",
       "      <td>...</td>\n",
       "      <td>...</td>\n",
       "      <td>...</td>\n",
       "      <td>...</td>\n",
       "      <td>...</td>\n",
       "      <td>...</td>\n",
       "      <td>...</td>\n",
       "      <td>...</td>\n",
       "      <td>...</td>\n",
       "      <td>...</td>\n",
       "      <td>...</td>\n",
       "      <td>...</td>\n",
       "      <td>...</td>\n",
       "    </tr>\n",
       "    <tr>\n",
       "      <th>93385</th>\n",
       "      <td>282240</td>\n",
       "      <td>Demon Witch (The Ravenscliff, #2)</td>\n",
       "      <td>[187755, 457095]</td>\n",
       "      <td>17</td>\n",
       "      <td>491</td>\n",
       "      <td>US</td>\n",
       "      <td>NaN</td>\n",
       "      <td>[{'count': '248', 'name': 'to-read'}, {'count'...</td>\n",
       "      <td>false</td>\n",
       "      <td>3.990234</td>\n",
       "      <td>[10136093, 9637544, 18106312, 8533276, 2513197...</td>\n",
       "      <td>Devon March matches wits and wizardry against ...</td>\n",
       "      <td>[164102]</td>\n",
       "      <td>ReganBooks</td>\n",
       "      <td>388</td>\n",
       "      <td>1</td>\n",
       "      <td>7</td>\n",
       "      <td>2004</td>\n",
       "      <td>NaN</td>\n",
       "    </tr>\n",
       "    <tr>\n",
       "      <th>93386</th>\n",
       "      <td>25332051</td>\n",
       "      <td>The Queen of Bright and Shiny Things</td>\n",
       "      <td>NaN</td>\n",
       "      <td>8</td>\n",
       "      <td>19</td>\n",
       "      <td>US</td>\n",
       "      <td>NaN</td>\n",
       "      <td>[{'count': '10695', 'name': 'to-read'}, {'coun...</td>\n",
       "      <td>false</td>\n",
       "      <td>3.750000</td>\n",
       "      <td>[23310742, 22880504, 22011484, 23281781, 27132...</td>\n",
       "      <td>Sage Czinski is trying really hard to be perfe...</td>\n",
       "      <td>[835348]</td>\n",
       "      <td>Square Fish</td>\n",
       "      <td>352</td>\n",
       "      <td>5</td>\n",
       "      <td>4</td>\n",
       "      <td>2016</td>\n",
       "      <td>NaN</td>\n",
       "    </tr>\n",
       "    <tr>\n",
       "      <th>93389</th>\n",
       "      <td>22521638</td>\n",
       "      <td>The Monster Within</td>\n",
       "      <td>[722367]</td>\n",
       "      <td>3</td>\n",
       "      <td>8</td>\n",
       "      <td>US</td>\n",
       "      <td>NaN</td>\n",
       "      <td>[{'count': '1671', 'name': 'to-read'}, {'count...</td>\n",
       "      <td>true</td>\n",
       "      <td>3.810547</td>\n",
       "      <td>[17452685, 31925124, 17794299, 18209531, 10726...</td>\n",
       "      <td>The moment seventeen-year-old Samantha Thompso...</td>\n",
       "      <td>[4528793]</td>\n",
       "      <td>NaN</td>\n",
       "      <td>NaN</td>\n",
       "      <td>NaN</td>\n",
       "      <td>NaN</td>\n",
       "      <td>NaN</td>\n",
       "      <td>NaN</td>\n",
       "    </tr>\n",
       "    <tr>\n",
       "      <th>93390</th>\n",
       "      <td>13536362</td>\n",
       "      <td>The Voice on the Radio (Janie Johnson, #3)</td>\n",
       "      <td>[152658]</td>\n",
       "      <td>20</td>\n",
       "      <td>126</td>\n",
       "      <td>US</td>\n",
       "      <td>NaN</td>\n",
       "      <td>[{'count': '2703', 'name': 'to-read'}, {'count...</td>\n",
       "      <td>false</td>\n",
       "      <td>3.609375</td>\n",
       "      <td>[522686, 403651, 1152758, 268918, 936501, 5247...</td>\n",
       "      <td>NaN</td>\n",
       "      <td>[9059]</td>\n",
       "      <td>NaN</td>\n",
       "      <td>NaN</td>\n",
       "      <td>NaN</td>\n",
       "      <td>NaN</td>\n",
       "      <td>NaN</td>\n",
       "      <td>NaN</td>\n",
       "    </tr>\n",
       "    <tr>\n",
       "      <th>93395</th>\n",
       "      <td>1885730</td>\n",
       "      <td>Joel and Cat Set the Story Straight</td>\n",
       "      <td>NaN</td>\n",
       "      <td>55</td>\n",
       "      <td>1094</td>\n",
       "      <td>US</td>\n",
       "      <td>NaN</td>\n",
       "      <td>[{'count': '1684', 'name': 'to-read'}, {'count...</td>\n",
       "      <td>false</td>\n",
       "      <td>3.779297</td>\n",
       "      <td>[1957880, 2490879, 8030321, 13152142, 6849661,...</td>\n",
       "      <td>NaN</td>\n",
       "      <td>[348478, 570577]</td>\n",
       "      <td>Penguin</td>\n",
       "      <td>240</td>\n",
       "      <td>30</td>\n",
       "      <td>7</td>\n",
       "      <td>2007</td>\n",
       "      <td>NaN</td>\n",
       "    </tr>\n",
       "  </tbody>\n",
       "</table>\n",
       "<p>29632 rows × 19 columns</p>\n",
       "</div>"
      ],
      "text/plain": [
       "        book_id                                       title            series  \\\n",
       "0      12182387              The Passion (Dark Visions, #3)          [147734]   \n",
       "1      20135365                             Hope's Daughter          [425995]   \n",
       "2      21401181                    Half Bad (Half Life, #1)          [493993]   \n",
       "5      31556136                                  Like Water               NaN   \n",
       "7      12182388            The Possessed (Dark Visions, #2)          [150778]   \n",
       "...         ...                                         ...               ...   \n",
       "93385    282240           Demon Witch (The Ravenscliff, #2)  [187755, 457095]   \n",
       "93386  25332051        The Queen of Bright and Shiny Things               NaN   \n",
       "93389  22521638                          The Monster Within          [722367]   \n",
       "93390  13536362  The Voice on the Radio (Janie Johnson, #3)          [152658]   \n",
       "93395   1885730         Joel and Cat Set the Story Straight               NaN   \n",
       "\n",
       "       text_reviews_count  ratings_count country_code language_code  \\\n",
       "0                       1              4           US           NaN   \n",
       "1                       2              5           US           NaN   \n",
       "2                      17             33           US           NaN   \n",
       "5                      45            109           US           NaN   \n",
       "7                       1              4           US           NaN   \n",
       "...                   ...            ...          ...           ...   \n",
       "93385                  17            491           US           NaN   \n",
       "93386                   8             19           US           NaN   \n",
       "93389                   3              8           US           NaN   \n",
       "93390                  20            126           US           NaN   \n",
       "93395                  55           1094           US           NaN   \n",
       "\n",
       "                                         popular_shelves is_ebook  \\\n",
       "0      [{'count': '1057', 'name': 'to-read'}, {'count...     true   \n",
       "1      [{'count': '1010', 'name': 'to-read'}, {'count...     true   \n",
       "2      [{'count': '1799', 'name': 'fantasy'}, {'count...     true   \n",
       "5      [{'count': '3010', 'name': 'to-read'}, {'count...    false   \n",
       "7      [{'count': '1032', 'name': 'to-read'}, {'count...     true   \n",
       "...                                                  ...      ...   \n",
       "93385  [{'count': '248', 'name': 'to-read'}, {'count'...    false   \n",
       "93386  [{'count': '10695', 'name': 'to-read'}, {'coun...    false   \n",
       "93389  [{'count': '1671', 'name': 'to-read'}, {'count...     true   \n",
       "93390  [{'count': '2703', 'name': 'to-read'}, {'count...    false   \n",
       "93395  [{'count': '1684', 'name': 'to-read'}, {'count...    false   \n",
       "\n",
       "       average_rating                                      similar_books  \\\n",
       "0            4.039062                        [519546, 1295074, 21407416]   \n",
       "1            3.800781  [13400912, 13327517, 18107102, 15797097, 11472...   \n",
       "2            3.800781  [15728807, 17182499, 15673520, 16081758, 17842...   \n",
       "5            3.890625                                                 []   \n",
       "7            3.919922                                   [84066, 1295074]   \n",
       "...               ...                                                ...   \n",
       "93385        3.990234  [10136093, 9637544, 18106312, 8533276, 2513197...   \n",
       "93386        3.750000  [23310742, 22880504, 22011484, 23281781, 27132...   \n",
       "93389        3.810547  [17452685, 31925124, 17794299, 18209531, 10726...   \n",
       "93390        3.609375  [522686, 403651, 1152758, 268918, 936501, 5247...   \n",
       "93395        3.779297  [1957880, 2490879, 8030321, 13152142, 6849661,...   \n",
       "\n",
       "                                             description           authors  \\\n",
       "0      This is the final tale in the bestselling auth...   [50873, 232533]   \n",
       "1      Life should be simple for Cassie.\\nFor the sma...         [5395324]   \n",
       "2      Wanted by no one.\\nHunted by everyone.\\nSixtee...         [7314532]   \n",
       "5      A gorgeously written and deeply felt literary ...         [6537142]   \n",
       "7                                                    NaN   [50873, 232533]   \n",
       "...                                                  ...               ...   \n",
       "93385  Devon March matches wits and wizardry against ...          [164102]   \n",
       "93386  Sage Czinski is trying really hard to be perfe...          [835348]   \n",
       "93389  The moment seventeen-year-old Samantha Thompso...         [4528793]   \n",
       "93390                                                NaN            [9059]   \n",
       "93395                                                NaN  [348478, 570577]   \n",
       "\n",
       "               publisher num_pages publication_day publication_month  \\\n",
       "0                    NaN       NaN             NaN               NaN   \n",
       "1                    NaN       NaN             NaN               NaN   \n",
       "2      Viking Children's       416               4                 3   \n",
       "5          Balzer + Bray       304              17                10   \n",
       "7                    NaN       NaN             NaN               NaN   \n",
       "...                  ...       ...             ...               ...   \n",
       "93385         ReganBooks       388               1                 7   \n",
       "93386        Square Fish       352               5                 4   \n",
       "93389                NaN       NaN             NaN               NaN   \n",
       "93390                NaN       NaN             NaN               NaN   \n",
       "93395            Penguin       240              30                 7   \n",
       "\n",
       "      publication_year edition_information  \n",
       "0                  NaN                 NaN  \n",
       "1                  NaN                 NaN  \n",
       "2                 2014                 NaN  \n",
       "5                 2017                 NaN  \n",
       "7                  NaN                 NaN  \n",
       "...                ...                 ...  \n",
       "93385             2004                 NaN  \n",
       "93386             2016                 NaN  \n",
       "93389              NaN                 NaN  \n",
       "93390              NaN                 NaN  \n",
       "93395             2007                 NaN  \n",
       "\n",
       "[29632 rows x 19 columns]"
      ]
     },
     "execution_count": 217,
     "metadata": {},
     "output_type": "execute_result"
    }
   ],
   "source": [
    "#print out books where language_code is null\n",
    "ya_books[ya_books['language_code'].isnull()]"
   ]
  },
  {
   "cell_type": "code",
   "execution_count": 218,
   "metadata": {},
   "outputs": [
    {
     "data": {
      "text/plain": [
       "language_code\n",
       "eng      35989\n",
       "en-US     4996\n",
       "en-GB     2922\n",
       "ger       2798\n",
       "spa       2511\n",
       "fre       1788\n",
       "ita       1761\n",
       "ind       1623\n",
       "nl        1430\n",
       "por       1156\n",
       "cze        787\n",
       "tur        613\n",
       "swe        609\n",
       "fin        494\n",
       "pol        392\n",
       "dan        383\n",
       "en-CA      366\n",
       "bul        332\n",
       "slo        291\n",
       "gre        281\n",
       "hun        276\n",
       "rum        243\n",
       "nor        176\n",
       "per        160\n",
       "msa        134\n",
       "scr        122\n",
       "srp        111\n",
       "vie        110\n",
       "est        103\n",
       "rus        101\n",
       "heb         91\n",
       "lav         89\n",
       "lit         82\n",
       "cat         72\n",
       "ara         66\n",
       "tha         49\n",
       "jpn         30\n",
       "zho         24\n",
       "nob         22\n",
       "ben         21\n",
       "kat         21\n",
       "fil         18\n",
       "slv         18\n",
       "en          13\n",
       "ukr         13\n",
       "tam         11\n",
       "nno          6\n",
       "isl          6\n",
       "pes          6\n",
       "mal          5\n",
       "Name: count, dtype: int64"
      ]
     },
     "execution_count": 218,
     "metadata": {},
     "output_type": "execute_result"
    }
   ],
   "source": [
    "#print number of books in each language_code\n",
    "ya_books['language_code'].value_counts().head(50)"
   ]
  },
  {
   "cell_type": "code",
   "execution_count": 219,
   "metadata": {},
   "outputs": [],
   "source": [
    "#print out books where language_code is en or en-CA\n",
    "ya_books_eng = ya_books[ya_books['language_code'].isin(['en','en-CA','en-GB','en-US','eng'])]"
   ]
  },
  {
   "cell_type": "markdown",
   "metadata": {},
   "source": [
    "Both en and en-CA appear to be english, as do eng, en-USA, and en-GB. Let's just keep these for now."
   ]
  },
  {
   "cell_type": "code",
   "execution_count": 220,
   "metadata": {},
   "outputs": [
    {
     "name": "stdout",
     "output_type": "stream",
     "text": [
      "<class 'pandas.core.frame.DataFrame'>\n",
      "Index: 44286 entries, 3 to 93397\n",
      "Data columns (total 19 columns):\n",
      " #   Column               Non-Null Count  Dtype  \n",
      "---  ------               --------------  -----  \n",
      " 0   book_id              44286 non-null  int32  \n",
      " 1   title                44286 non-null  object \n",
      " 2   series               28406 non-null  object \n",
      " 3   text_reviews_count   44286 non-null  int32  \n",
      " 4   ratings_count        44286 non-null  int32  \n",
      " 5   country_code         44286 non-null  object \n",
      " 6   language_code        44286 non-null  object \n",
      " 7   popular_shelves      44286 non-null  object \n",
      " 8   is_ebook             44286 non-null  object \n",
      " 9   average_rating       44286 non-null  float16\n",
      " 10  similar_books        44286 non-null  object \n",
      " 11  description          42969 non-null  object \n",
      " 12  authors              44286 non-null  object \n",
      " 13  publisher            34881 non-null  object \n",
      " 14  num_pages            34348 non-null  object \n",
      " 15  publication_day      33655 non-null  object \n",
      " 16  publication_month    35330 non-null  object \n",
      " 17  publication_year     37398 non-null  object \n",
      " 18  edition_information  4793 non-null   object \n",
      "dtypes: float16(1), int32(3), object(15)\n",
      "memory usage: 6.0+ MB\n"
     ]
    }
   ],
   "source": [
    "ya_books_eng.info()"
   ]
  },
  {
   "cell_type": "markdown",
   "metadata": {},
   "source": [
    "##### Dropping some uneeded columns"
   ]
  },
  {
   "cell_type": "code",
   "execution_count": 221,
   "metadata": {},
   "outputs": [],
   "source": [
    "#drop edition_information column not on a copy\n",
    "ya_books_eng = ya_books_eng.copy()\n",
    "ya_books_eng = ya_books_eng.drop(['edition_information', 'publication_month', 'publication_day'], axis=1)"
   ]
  },
  {
   "cell_type": "code",
   "execution_count": 222,
   "metadata": {},
   "outputs": [
    {
     "name": "stdout",
     "output_type": "stream",
     "text": [
      "<class 'pandas.core.frame.DataFrame'>\n",
      "Index: 44286 entries, 3 to 93397\n",
      "Data columns (total 16 columns):\n",
      " #   Column              Non-Null Count  Dtype  \n",
      "---  ------              --------------  -----  \n",
      " 0   book_id             44286 non-null  int32  \n",
      " 1   title               44286 non-null  object \n",
      " 2   series              28406 non-null  object \n",
      " 3   text_reviews_count  44286 non-null  int32  \n",
      " 4   ratings_count       44286 non-null  int32  \n",
      " 5   country_code        44286 non-null  object \n",
      " 6   language_code       44286 non-null  object \n",
      " 7   popular_shelves     44286 non-null  object \n",
      " 8   is_ebook            44286 non-null  object \n",
      " 9   average_rating      44286 non-null  float16\n",
      " 10  similar_books       44286 non-null  object \n",
      " 11  description         42969 non-null  object \n",
      " 12  authors             44286 non-null  object \n",
      " 13  publisher           34881 non-null  object \n",
      " 14  num_pages           34348 non-null  object \n",
      " 15  publication_year    37398 non-null  object \n",
      "dtypes: float16(1), int32(3), object(12)\n",
      "memory usage: 5.0+ MB\n"
     ]
    }
   ],
   "source": [
    "ya_books_eng.info()"
   ]
  },
  {
   "cell_type": "markdown",
   "metadata": {},
   "source": [
    "Rest of nulls are in series, description, publisher, num_pages, and publication_year. Will leave as-is for now -- will be handled in system building"
   ]
  },
  {
   "cell_type": "markdown",
   "metadata": {},
   "source": [
    "#### ya_reviews"
   ]
  },
  {
   "cell_type": "code",
   "execution_count": 224,
   "metadata": {},
   "outputs": [
    {
     "name": "stdout",
     "output_type": "stream",
     "text": [
      "<class 'pandas.core.frame.DataFrame'>\n",
      "RangeIndex: 2389900 entries, 0 to 2389899\n",
      "Data columns (total 6 columns):\n",
      " #   Column       Dtype \n",
      "---  ------       ----- \n",
      " 0   book_id      int32 \n",
      " 1   review_id    object\n",
      " 2   rating       int8  \n",
      " 3   review_text  object\n",
      " 4   n_votes      int16 \n",
      " 5   n_comments   int16 \n",
      "dtypes: int16(2), int32(1), int8(1), object(2)\n",
      "memory usage: 57.0+ MB\n"
     ]
    }
   ],
   "source": [
    "ya_reviews.info()"
   ]
  },
  {
   "cell_type": "markdown",
   "metadata": {},
   "source": [
    "no nulls"
   ]
  },
  {
   "cell_type": "code",
   "execution_count": 225,
   "metadata": {},
   "outputs": [
    {
     "name": "stdout",
     "output_type": "stream",
     "text": [
      "<class 'pandas.core.frame.DataFrame'>\n",
      "RangeIndex: 34919254 entries, 0 to 34919253\n",
      "Data columns (total 4 columns):\n",
      " #   Column   Dtype \n",
      "---  ------   ----- \n",
      " 0   user_id  object\n",
      " 1   book_id  int32 \n",
      " 2   is_read  bool  \n",
      " 3   rating   int8  \n",
      "dtypes: bool(1), int32(1), int8(1), object(1)\n",
      "memory usage: 466.2+ MB\n"
     ]
    }
   ],
   "source": [
    "ya_interactions.info()"
   ]
  },
  {
   "cell_type": "markdown",
   "metadata": {},
   "source": [
    "no nulls either"
   ]
  },
  {
   "cell_type": "code",
   "execution_count": 226,
   "metadata": {},
   "outputs": [
    {
     "data": {
      "text/plain": [
       "is_read\n",
       "False    19196505\n",
       "True     15722749\n",
       "Name: count, dtype: int64"
      ]
     },
     "execution_count": 226,
     "metadata": {},
     "output_type": "execute_result"
    }
   ],
   "source": [
    "#how many false values are there in ya_interactions['is_read']?\n",
    "ya_interactions['is_read'].value_counts()"
   ]
  },
  {
   "cell_type": "code",
   "execution_count": 227,
   "metadata": {},
   "outputs": [],
   "source": [
    "\n",
    "with gzip.open('ya_books.pkl.gz', 'wb') as f:\n",
    "    ya_books.to_pickle(f)\n",
    "\n",
    "with gzip.open('ya_reviews.pkl.gz', 'wb') as f:\n",
    "    ya_reviews.to_pickle(f)\n",
    "\n",
    "with gzip.open('ya_interactions.pkl.gz', 'wb') as f:\n",
    "    ya_interactions.to_pickle(f)"
   ]
  },
  {
   "cell_type": "markdown",
   "metadata": {},
   "source": [
    "RESUME HERE"
   ]
  },
  {
   "cell_type": "code",
   "execution_count": 3,
   "metadata": {},
   "outputs": [
    {
     "ename": "EOFError",
     "evalue": "Ran out of input",
     "output_type": "error",
     "traceback": [
      "\u001b[1;31m---------------------------------------------------------------------------\u001b[0m",
      "\u001b[1;31mEOFError\u001b[0m                                  Traceback (most recent call last)",
      "Cell \u001b[1;32mIn[3], line 5\u001b[0m\n\u001b[0;32m      2\u001b[0m     ya_books \u001b[38;5;241m=\u001b[39m pd\u001b[38;5;241m.\u001b[39mread_pickle(f)\n\u001b[0;32m      4\u001b[0m \u001b[38;5;28;01mwith\u001b[39;00m gzip\u001b[38;5;241m.\u001b[39mopen(\u001b[38;5;124m'\u001b[39m\u001b[38;5;124mya_reviews.pkl.gz\u001b[39m\u001b[38;5;124m'\u001b[39m, \u001b[38;5;124m'\u001b[39m\u001b[38;5;124mrb\u001b[39m\u001b[38;5;124m'\u001b[39m) \u001b[38;5;28;01mas\u001b[39;00m f:\n\u001b[1;32m----> 5\u001b[0m     ya_reviews \u001b[38;5;241m=\u001b[39m \u001b[43mpd\u001b[49m\u001b[38;5;241;43m.\u001b[39;49m\u001b[43mread_pickle\u001b[49m\u001b[43m(\u001b[49m\u001b[43mf\u001b[49m\u001b[43m)\u001b[49m\n\u001b[0;32m      7\u001b[0m \u001b[38;5;28;01mwith\u001b[39;00m gzip\u001b[38;5;241m.\u001b[39mopen(\u001b[38;5;124m'\u001b[39m\u001b[38;5;124mya_interactions.pkl.gz\u001b[39m\u001b[38;5;124m'\u001b[39m, \u001b[38;5;124m'\u001b[39m\u001b[38;5;124mrb\u001b[39m\u001b[38;5;124m'\u001b[39m) \u001b[38;5;28;01mas\u001b[39;00m f:\n\u001b[0;32m      8\u001b[0m     ya_interactions \u001b[38;5;241m=\u001b[39m pd\u001b[38;5;241m.\u001b[39mread_pickle(f)\n",
      "File \u001b[1;32mc:\\Users\\jesse\\anaconda3\\Lib\\site-packages\\pandas\\io\\pickle.py:206\u001b[0m, in \u001b[0;36mread_pickle\u001b[1;34m(filepath_or_buffer, compression, storage_options)\u001b[0m\n\u001b[0;32m    203\u001b[0m     \u001b[38;5;28;01mwith\u001b[39;00m warnings\u001b[38;5;241m.\u001b[39mcatch_warnings(record\u001b[38;5;241m=\u001b[39m\u001b[38;5;28;01mTrue\u001b[39;00m):\n\u001b[0;32m    204\u001b[0m         \u001b[38;5;66;03m# We want to silence any warnings about, e.g. moved modules.\u001b[39;00m\n\u001b[0;32m    205\u001b[0m         warnings\u001b[38;5;241m.\u001b[39msimplefilter(\u001b[38;5;124m\"\u001b[39m\u001b[38;5;124mignore\u001b[39m\u001b[38;5;124m\"\u001b[39m, \u001b[38;5;167;01mWarning\u001b[39;00m)\n\u001b[1;32m--> 206\u001b[0m         \u001b[38;5;28;01mreturn\u001b[39;00m \u001b[43mpickle\u001b[49m\u001b[38;5;241;43m.\u001b[39;49m\u001b[43mload\u001b[49m\u001b[43m(\u001b[49m\u001b[43mhandles\u001b[49m\u001b[38;5;241;43m.\u001b[39;49m\u001b[43mhandle\u001b[49m\u001b[43m)\u001b[49m\n\u001b[0;32m    207\u001b[0m \u001b[38;5;28;01mexcept\u001b[39;00m excs_to_catch:\n\u001b[0;32m    208\u001b[0m     \u001b[38;5;66;03m# e.g.\u001b[39;00m\n\u001b[0;32m    209\u001b[0m     \u001b[38;5;66;03m#  \"No module named 'pandas.core.sparse.series'\"\u001b[39;00m\n\u001b[0;32m    210\u001b[0m     \u001b[38;5;66;03m#  \"Can't get attribute '__nat_unpickle' on <module 'pandas._libs.tslib\"\u001b[39;00m\n\u001b[0;32m    211\u001b[0m     \u001b[38;5;28;01mreturn\u001b[39;00m pc\u001b[38;5;241m.\u001b[39mload(handles\u001b[38;5;241m.\u001b[39mhandle, encoding\u001b[38;5;241m=\u001b[39m\u001b[38;5;28;01mNone\u001b[39;00m)\n",
      "\u001b[1;31mEOFError\u001b[0m: Ran out of input"
     ]
    }
   ],
   "source": [
    "with gzip.open('ya_books.pkl.gz', 'rb') as f:\n",
    "    ya_books = pd.read_pickle(f)\n",
    "\n",
    "with gzip.open('ya_reviews.pkl.gz', 'rb') as f:\n",
    "    ya_reviews = pd.read_pickle(f)\n",
    "\n",
    "with gzip.open('ya_interactions.pkl.gz', 'rb') as f:\n",
    "    ya_interactions = pd.read_pickle(f)"
   ]
  }
 ],
 "metadata": {
  "kernelspec": {
   "display_name": "base",
   "language": "python",
   "name": "python3"
  },
  "language_info": {
   "codemirror_mode": {
    "name": "ipython",
    "version": 3
   },
   "file_extension": ".py",
   "mimetype": "text/x-python",
   "name": "python",
   "nbconvert_exporter": "python",
   "pygments_lexer": "ipython3",
   "version": "3.11.4"
  }
 },
 "nbformat": 4,
 "nbformat_minor": 2
}
