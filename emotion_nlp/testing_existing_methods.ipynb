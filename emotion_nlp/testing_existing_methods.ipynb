{
 "cells": [
  {
   "cell_type": "code",
   "execution_count": 1,
   "metadata": {},
   "outputs": [],
   "source": [
    "import pandas as pd\n",
    "import pickle\n",
    "from tqdm import tqdm\n",
    "tqdm.pandas()"
   ]
  },
  {
   "cell_type": "code",
   "execution_count": 2,
   "metadata": {},
   "outputs": [],
   "source": [
    "DIR_new = 'C:\\\\Users\\\\jesse\\\\Desktop\\\\Honors Project\\\\'\n",
    "\n",
    "# with open(DIR_new+ 'ya_reviews.pkl', 'rb') as f:\n",
    "#     reviews = pickle.load(f)\n",
    "\n",
    "with open(DIR_new+ 'tester_ya_set.pkl', 'rb') as f:\n",
    "    reviews = pickle.load(f)"
   ]
  },
  {
   "cell_type": "code",
   "execution_count": 3,
   "metadata": {},
   "outputs": [],
   "source": [
    "from langdetect import detect\n",
    "from langdetect import DetectorFactory\n",
    "\n",
    "DetectorFactory.seed = 0\n",
    "\n",
    "def is_english(text):\n",
    "    try:\n",
    "        return detect(text) == 'en'\n",
    "    except:\n",
    "        return False\n",
    "\n",
    "mask = reviews['review_text'].apply(is_english)\n",
    "\n",
    "# Use the mask to filter out non-English reviews\n",
    "reviews = reviews[mask]"
   ]
  },
  {
   "cell_type": "code",
   "execution_count": 4,
   "metadata": {},
   "outputs": [],
   "source": [
    "# tester_ya_set = reviews.sample(frac = 0.1, random_state=42)\n",
    "# tester_ya_set.info()"
   ]
  },
  {
   "cell_type": "code",
   "execution_count": 6,
   "metadata": {},
   "outputs": [
    {
     "ename": "NameError",
     "evalue": "name 'tester_ya_set' is not defined",
     "output_type": "error",
     "traceback": [
      "\u001b[1;31m---------------------------------------------------------------------------\u001b[0m",
      "\u001b[1;31mNameError\u001b[0m                                 Traceback (most recent call last)",
      "Cell \u001b[1;32mIn[6], line 3\u001b[0m\n\u001b[0;32m      1\u001b[0m \u001b[38;5;66;03m#write to pickle\u001b[39;00m\n\u001b[0;32m      2\u001b[0m \u001b[38;5;28;01mwith\u001b[39;00m \u001b[38;5;28mopen\u001b[39m(DIR_new \u001b[38;5;241m+\u001b[39m \u001b[38;5;124m'\u001b[39m\u001b[38;5;124mtester_ya_set.pkl\u001b[39m\u001b[38;5;124m'\u001b[39m, \u001b[38;5;124m'\u001b[39m\u001b[38;5;124mwb\u001b[39m\u001b[38;5;124m'\u001b[39m) \u001b[38;5;28;01mas\u001b[39;00m f:\n\u001b[1;32m----> 3\u001b[0m     pickle\u001b[38;5;241m.\u001b[39mdump(\u001b[43mtester_ya_set\u001b[49m, f)\n",
      "\u001b[1;31mNameError\u001b[0m: name 'tester_ya_set' is not defined"
     ]
    }
   ],
   "source": [
    "#write to pickle\n",
    "# with open(DIR_new + 'tester_ya_set.pkl', 'wb') as f:\n",
    "#     pickle.dump(tester_ya_set, f)"
   ]
  },
  {
   "cell_type": "markdown",
   "metadata": {},
   "source": [
    "## Tester set with existing methods"
   ]
  },
  {
   "cell_type": "markdown",
   "metadata": {},
   "source": [
    "### Text2Emotion and NRCLex"
   ]
  },
  {
   "cell_type": "markdown",
   "metadata": {},
   "source": [
    "Testing two already-made models on a small dataset of only 10 entries for comparison"
   ]
  },
  {
   "cell_type": "code",
   "execution_count": 7,
   "metadata": {},
   "outputs": [
    {
     "name": "stderr",
     "output_type": "stream",
     "text": [
      "[nltk_data] Downloading package stopwords to\n",
      "[nltk_data]     C:\\Users\\jesse\\AppData\\Roaming\\nltk_data...\n",
      "[nltk_data]   Package stopwords is already up-to-date!\n",
      "[nltk_data] Downloading package punkt to\n",
      "[nltk_data]     C:\\Users\\jesse\\AppData\\Roaming\\nltk_data...\n",
      "[nltk_data]   Package punkt is already up-to-date!\n",
      "[nltk_data] Downloading package wordnet to\n",
      "[nltk_data]     C:\\Users\\jesse\\AppData\\Roaming\\nltk_data...\n",
      "[nltk_data]   Package wordnet is already up-to-date!\n",
      "100%|██████████| 10/10 [00:00<00:00, 536.68it/s]\n",
      "100%|██████████| 10/10 [00:11<00:00,  1.16s/it]\n"
     ]
    },
    {
     "data": {
      "text/html": [
       "<div>\n",
       "<style scoped>\n",
       "    .dataframe tbody tr th:only-of-type {\n",
       "        vertical-align: middle;\n",
       "    }\n",
       "\n",
       "    .dataframe tbody tr th {\n",
       "        vertical-align: top;\n",
       "    }\n",
       "\n",
       "    .dataframe thead th {\n",
       "        text-align: right;\n",
       "    }\n",
       "</style>\n",
       "<table border=\"1\" class=\"dataframe\">\n",
       "  <thead>\n",
       "    <tr style=\"text-align: right;\">\n",
       "      <th></th>\n",
       "      <th>book_id</th>\n",
       "      <th>review_id</th>\n",
       "      <th>review_text</th>\n",
       "      <th>review_text_lemmatized</th>\n",
       "      <th>tokenized</th>\n",
       "      <th>bigrams</th>\n",
       "      <th>trigrams</th>\n",
       "      <th>nrclex</th>\n",
       "      <th>text2emotion</th>\n",
       "    </tr>\n",
       "  </thead>\n",
       "  <tbody>\n",
       "    <tr>\n",
       "      <th>913969</th>\n",
       "      <td>6319176</td>\n",
       "      <td>618784590699faec2212bc6653d1c6ff</td>\n",
       "      <td>Or in this case, too dark, depressing and unap...</td>\n",
       "      <td>or in this case too dark depressing and unappe...</td>\n",
       "      <td>[case, dark, depressing, unappealing, finish]</td>\n",
       "      <td>[(case, dark), (dark, depressing), (depressing...</td>\n",
       "      <td>[(case, dark, depressing), (dark, depressing, ...</td>\n",
       "      <td>{'fear': 0.14285714285714285, 'anger': 0.0, 'a...</td>\n",
       "      <td>{'Happy': 0.0, 'Angry': 0.0, 'Surprise': 0.0, ...</td>\n",
       "    </tr>\n",
       "    <tr>\n",
       "      <th>1320474</th>\n",
       "      <td>16045296</td>\n",
       "      <td>75b72a283d940738efd8bafc8a31c90d</td>\n",
       "      <td>From his pocket he whips out a red lollipop - ...</td>\n",
       "      <td>from his pocket he whip out a red lollipop one...</td>\n",
       "      <td>[pocket, whip, red, lollipop, fancy, cracker, ...</td>\n",
       "      <td>[(pocket, whip), (whip, red), (red, lollipop),...</td>\n",
       "      <td>[(pocket, whip, red), (whip, red, lollipop), (...</td>\n",
       "      <td>{'fear': 0.037037037037037035, 'anger': 0.0462...</td>\n",
       "      <td>{'Happy': 0.22, 'Angry': 0.02, 'Surprise': 0.1...</td>\n",
       "    </tr>\n",
       "    <tr>\n",
       "      <th>1749344</th>\n",
       "      <td>30237061</td>\n",
       "      <td>2110f248f1607caf42e7bffba1ebc90a</td>\n",
       "      <td>DNF. I really wanted to like this but some thi...</td>\n",
       "      <td>dnf i really want to like this but some thing ...</td>\n",
       "      <td>[dnf, really, want, like, bug, begin, not, fee...</td>\n",
       "      <td>[(dnf, really), (really, want), (want, like), ...</td>\n",
       "      <td>[(dnf, really, want), (really, want, like), (w...</td>\n",
       "      <td>{'fear': 0.05263157894736842, 'anger': 0.05263...</td>\n",
       "      <td>{'Happy': 0.18, 'Angry': 0.0, 'Surprise': 0.06...</td>\n",
       "    </tr>\n",
       "    <tr>\n",
       "      <th>71534</th>\n",
       "      <td>1522147</td>\n",
       "      <td>63c0ebc541452a0c5ab69d1a393a3726</td>\n",
       "      <td>This was an okay read about a girl who had bee...</td>\n",
       "      <td>this be an okay read about a girl who have be ...</td>\n",
       "      <td>[okay, convict, killing, best, friend, ten, re...</td>\n",
       "      <td>[(okay, convict), (convict, killing), (killing...</td>\n",
       "      <td>[(okay, convict, killing), (convict, killing, ...</td>\n",
       "      <td>{'fear': 0.14285714285714285, 'anger': 0.14285...</td>\n",
       "      <td>{'Happy': 0.3, 'Angry': 0.0, 'Surprise': 0.2, ...</td>\n",
       "    </tr>\n",
       "    <tr>\n",
       "      <th>2276714</th>\n",
       "      <td>10836471</td>\n",
       "      <td>9f6f5764ef624e8fa8f9b88bea4e0ec8</td>\n",
       "      <td>I enjoyed this a lot but find it insane that a...</td>\n",
       "      <td>i enjoy this a lot but find it insane that a b...</td>\n",
       "      <td>[enjoy, insane, win, prize, young, adult, ligh...</td>\n",
       "      <td>[(enjoy, insane), (insane, win), (win, prize),...</td>\n",
       "      <td>[(enjoy, insane, win), (insane, win, prize), (...</td>\n",
       "      <td>{'fear': 0.09090909090909091, 'anger': 0.09090...</td>\n",
       "      <td>{'Happy': 0.25, 'Angry': 0.0, 'Surprise': 0.25...</td>\n",
       "    </tr>\n",
       "    <tr>\n",
       "      <th>1318712</th>\n",
       "      <td>16143347</td>\n",
       "      <td>8737981a9b84855d64d0ad4353398baf</td>\n",
       "      <td>Books like this just kill me. \\n I went into t...</td>\n",
       "      <td>book like this just kill me i go into this boo...</td>\n",
       "      <td>[like, kill, really, nothing, knew, 50, reques...</td>\n",
       "      <td>[(like, kill), (kill, really), (really, nothin...</td>\n",
       "      <td>[(like, kill, really), (kill, really, nothing)...</td>\n",
       "      <td>{'fear': 0.05555555555555555, 'anger': 0.0, 'a...</td>\n",
       "      <td>{'Happy': 0.4, 'Angry': 0.1, 'Surprise': 0.1, ...</td>\n",
       "    </tr>\n",
       "    <tr>\n",
       "      <th>2105086</th>\n",
       "      <td>18196040</td>\n",
       "      <td>c7cef9d28e94dc568c021831a7e5e046</td>\n",
       "      <td>** spoiler alert ** \\n Liked that it had a hap...</td>\n",
       "      <td>spoiler alert like that it have a happy end</td>\n",
       "      <td>[spoiler, alert, like, happy, end]</td>\n",
       "      <td>[(spoiler, alert), (alert, like), (like, happy...</td>\n",
       "      <td>[(spoiler, alert, like), (alert, like, happy),...</td>\n",
       "      <td>{'fear': 0.0, 'anger': 0.0, 'anticip': 0.0, 't...</td>\n",
       "      <td>{'Happy': 0.5, 'Angry': 0.0, 'Surprise': 0.5, ...</td>\n",
       "    </tr>\n",
       "    <tr>\n",
       "      <th>722208</th>\n",
       "      <td>5996153</td>\n",
       "      <td>2b85b23fee9b8ec78369c988c32adc24</td>\n",
       "      <td>This book really upset me a lot. A few good po...</td>\n",
       "      <td>this book really upset me a lot a few good poi...</td>\n",
       "      <td>[really, upset, good, point, love, meeting, da...</td>\n",
       "      <td>[(really, upset), (upset, good), (good, point)...</td>\n",
       "      <td>[(really, upset, good), (upset, good, point), ...</td>\n",
       "      <td>{'fear': 0.05555555555555555, 'anger': 0.13888...</td>\n",
       "      <td>{'Happy': 0.25, 'Angry': 0.0, 'Surprise': 0.08...</td>\n",
       "    </tr>\n",
       "    <tr>\n",
       "      <th>1041024</th>\n",
       "      <td>31145148</td>\n",
       "      <td>6304393cd2ae2b4dcd50f0441c4b137e</td>\n",
       "      <td>3.5 stars. \\n Why can't Goodreads allow us to ...</td>\n",
       "      <td>35 star why can not goodreads allow u to rate ...</td>\n",
       "      <td>[35, not, goodreads, allow, u, rate, half, ann...</td>\n",
       "      <td>[(35, not), (not, goodreads), (goodreads, allo...</td>\n",
       "      <td>[(35, not, goodreads), (not, goodreads, allow)...</td>\n",
       "      <td>{'fear': 0.0, 'anger': 0.1, 'anticip': 0.0, 't...</td>\n",
       "      <td>{'Happy': 0.0, 'Angry': 0.0, 'Surprise': 0.0, ...</td>\n",
       "    </tr>\n",
       "    <tr>\n",
       "      <th>2272544</th>\n",
       "      <td>8709526</td>\n",
       "      <td>a1a33c623f52e90e1da63fd5727a70d7</td>\n",
       "      <td>Sydney and Adrian - finally! :)</td>\n",
       "      <td>sydney and adrian finally !</td>\n",
       "      <td>[sydney, adrian, finally, !]</td>\n",
       "      <td>[(sydney, adrian), (adrian, finally), (finally...</td>\n",
       "      <td>[(sydney, adrian, finally), (adrian, finally, !)]</td>\n",
       "      <td>{'fear': 0.0, 'anger': 0.0, 'anticip': 0.0, 't...</td>\n",
       "      <td>{'Happy': 0.0, 'Angry': 0.0, 'Surprise': 0.0, ...</td>\n",
       "    </tr>\n",
       "  </tbody>\n",
       "</table>\n",
       "</div>"
      ],
      "text/plain": [
       "          book_id                         review_id  \\\n",
       "913969    6319176  618784590699faec2212bc6653d1c6ff   \n",
       "1320474  16045296  75b72a283d940738efd8bafc8a31c90d   \n",
       "1749344  30237061  2110f248f1607caf42e7bffba1ebc90a   \n",
       "71534     1522147  63c0ebc541452a0c5ab69d1a393a3726   \n",
       "2276714  10836471  9f6f5764ef624e8fa8f9b88bea4e0ec8   \n",
       "1318712  16143347  8737981a9b84855d64d0ad4353398baf   \n",
       "2105086  18196040  c7cef9d28e94dc568c021831a7e5e046   \n",
       "722208    5996153  2b85b23fee9b8ec78369c988c32adc24   \n",
       "1041024  31145148  6304393cd2ae2b4dcd50f0441c4b137e   \n",
       "2272544   8709526  a1a33c623f52e90e1da63fd5727a70d7   \n",
       "\n",
       "                                               review_text  \\\n",
       "913969   Or in this case, too dark, depressing and unap...   \n",
       "1320474  From his pocket he whips out a red lollipop - ...   \n",
       "1749344  DNF. I really wanted to like this but some thi...   \n",
       "71534    This was an okay read about a girl who had bee...   \n",
       "2276714  I enjoyed this a lot but find it insane that a...   \n",
       "1318712  Books like this just kill me. \\n I went into t...   \n",
       "2105086  ** spoiler alert ** \\n Liked that it had a hap...   \n",
       "722208   This book really upset me a lot. A few good po...   \n",
       "1041024  3.5 stars. \\n Why can't Goodreads allow us to ...   \n",
       "2272544                    Sydney and Adrian - finally! :)   \n",
       "\n",
       "                                    review_text_lemmatized  \\\n",
       "913969   or in this case too dark depressing and unappe...   \n",
       "1320474  from his pocket he whip out a red lollipop one...   \n",
       "1749344  dnf i really want to like this but some thing ...   \n",
       "71534    this be an okay read about a girl who have be ...   \n",
       "2276714  i enjoy this a lot but find it insane that a b...   \n",
       "1318712  book like this just kill me i go into this boo...   \n",
       "2105086        spoiler alert like that it have a happy end   \n",
       "722208   this book really upset me a lot a few good poi...   \n",
       "1041024  35 star why can not goodreads allow u to rate ...   \n",
       "2272544                        sydney and adrian finally !   \n",
       "\n",
       "                                                 tokenized  \\\n",
       "913969       [case, dark, depressing, unappealing, finish]   \n",
       "1320474  [pocket, whip, red, lollipop, fancy, cracker, ...   \n",
       "1749344  [dnf, really, want, like, bug, begin, not, fee...   \n",
       "71534    [okay, convict, killing, best, friend, ten, re...   \n",
       "2276714  [enjoy, insane, win, prize, young, adult, ligh...   \n",
       "1318712  [like, kill, really, nothing, knew, 50, reques...   \n",
       "2105086                 [spoiler, alert, like, happy, end]   \n",
       "722208   [really, upset, good, point, love, meeting, da...   \n",
       "1041024  [35, not, goodreads, allow, u, rate, half, ann...   \n",
       "2272544                       [sydney, adrian, finally, !]   \n",
       "\n",
       "                                                   bigrams  \\\n",
       "913969   [(case, dark), (dark, depressing), (depressing...   \n",
       "1320474  [(pocket, whip), (whip, red), (red, lollipop),...   \n",
       "1749344  [(dnf, really), (really, want), (want, like), ...   \n",
       "71534    [(okay, convict), (convict, killing), (killing...   \n",
       "2276714  [(enjoy, insane), (insane, win), (win, prize),...   \n",
       "1318712  [(like, kill), (kill, really), (really, nothin...   \n",
       "2105086  [(spoiler, alert), (alert, like), (like, happy...   \n",
       "722208   [(really, upset), (upset, good), (good, point)...   \n",
       "1041024  [(35, not), (not, goodreads), (goodreads, allo...   \n",
       "2272544  [(sydney, adrian), (adrian, finally), (finally...   \n",
       "\n",
       "                                                  trigrams  \\\n",
       "913969   [(case, dark, depressing), (dark, depressing, ...   \n",
       "1320474  [(pocket, whip, red), (whip, red, lollipop), (...   \n",
       "1749344  [(dnf, really, want), (really, want, like), (w...   \n",
       "71534    [(okay, convict, killing), (convict, killing, ...   \n",
       "2276714  [(enjoy, insane, win), (insane, win, prize), (...   \n",
       "1318712  [(like, kill, really), (kill, really, nothing)...   \n",
       "2105086  [(spoiler, alert, like), (alert, like, happy),...   \n",
       "722208   [(really, upset, good), (upset, good, point), ...   \n",
       "1041024  [(35, not, goodreads), (not, goodreads, allow)...   \n",
       "2272544  [(sydney, adrian, finally), (adrian, finally, !)]   \n",
       "\n",
       "                                                    nrclex  \\\n",
       "913969   {'fear': 0.14285714285714285, 'anger': 0.0, 'a...   \n",
       "1320474  {'fear': 0.037037037037037035, 'anger': 0.0462...   \n",
       "1749344  {'fear': 0.05263157894736842, 'anger': 0.05263...   \n",
       "71534    {'fear': 0.14285714285714285, 'anger': 0.14285...   \n",
       "2276714  {'fear': 0.09090909090909091, 'anger': 0.09090...   \n",
       "1318712  {'fear': 0.05555555555555555, 'anger': 0.0, 'a...   \n",
       "2105086  {'fear': 0.0, 'anger': 0.0, 'anticip': 0.0, 't...   \n",
       "722208   {'fear': 0.05555555555555555, 'anger': 0.13888...   \n",
       "1041024  {'fear': 0.0, 'anger': 0.1, 'anticip': 0.0, 't...   \n",
       "2272544  {'fear': 0.0, 'anger': 0.0, 'anticip': 0.0, 't...   \n",
       "\n",
       "                                              text2emotion  \n",
       "913969   {'Happy': 0.0, 'Angry': 0.0, 'Surprise': 0.0, ...  \n",
       "1320474  {'Happy': 0.22, 'Angry': 0.02, 'Surprise': 0.1...  \n",
       "1749344  {'Happy': 0.18, 'Angry': 0.0, 'Surprise': 0.06...  \n",
       "71534    {'Happy': 0.3, 'Angry': 0.0, 'Surprise': 0.2, ...  \n",
       "2276714  {'Happy': 0.25, 'Angry': 0.0, 'Surprise': 0.25...  \n",
       "1318712  {'Happy': 0.4, 'Angry': 0.1, 'Surprise': 0.1, ...  \n",
       "2105086  {'Happy': 0.5, 'Angry': 0.0, 'Surprise': 0.5, ...  \n",
       "722208   {'Happy': 0.25, 'Angry': 0.0, 'Surprise': 0.08...  \n",
       "1041024  {'Happy': 0.0, 'Angry': 0.0, 'Surprise': 0.0, ...  \n",
       "2272544  {'Happy': 0.0, 'Angry': 0.0, 'Surprise': 0.0, ...  "
      ]
     },
     "execution_count": 7,
     "metadata": {},
     "output_type": "execute_result"
    }
   ],
   "source": [
    "tester = reviews.head(10)\n",
    "tester = tester.drop(columns=['n_votes','n_comments','all_caps','rating'])\n",
    "from nrclex import NRCLex as nrc\n",
    "import text2emotion as te\n",
    "\n",
    "tester['review_text_lemmatized'] = tester['review_text_lemmatized'].astype(str)\n",
    "tester['nrclex'] = tester['review_text_lemmatized'].progress_apply(lambda text: nrc(text).affect_frequencies)\n",
    "\n",
    "tester['text2emotion'] = tester['review_text_lemmatized'].progress_apply(lambda x: te.get_emotion(x))\n",
    "\n",
    "tester"
   ]
  },
  {
   "cell_type": "markdown",
   "metadata": {},
   "source": [
    "These methods arent a great fit because their emotions arent in line with the emotions felt from reading, and dont accurately capture the sentiment. E.g, \"Exciting, fun, entertaining\" was scored alright with NRClex by identifying the primary emotions as positivie, joy, and anticipation, but also identified \"I read this book because my fifth grade son was required to for school. I'm so glad I did! I experienced a range of emotions & just loved it. Glad these middle schoolers are being exposed to the topics discussed in the book.\" as negative and anticipation which doesnt make a ton of sense. Alternatively, the emotions from text 2 emotion werent diverse enough, and miscategorized things to some degree -- not sure why exciting fun and entertaining is 50% sad?"
   ]
  },
  {
   "cell_type": "markdown",
   "metadata": {},
   "source": [
    "### Using Lexicon - \"Emotion Based Literature Classification\""
   ]
  },
  {
   "cell_type": "code",
   "execution_count": 8,
   "metadata": {},
   "outputs": [],
   "source": [
    "# from nltk.stem import WordNetLemmatizer\n",
    "# lemmatizer = WordNetLemmatizer()\n",
    "\n",
    "# with open('emotions.txt', 'r') as file:\n",
    "#     with open('lemmatized_emotions.txt', 'w') as outfile:\n",
    "#         for line in file:\n",
    "#             clear_line = line.replace('\\n', '').replace(',', '').replace(\"'\", '').strip()\n",
    "#             word, emotion = clear_line.split(':')\n",
    "#             lemmatized_word = lemmatizer.lemmatize(word, pos='v')\n",
    "#             outfile.write(f\"'{lemmatized_word}': '{emotion.strip()}',\\n\")"
   ]
  },
  {
   "cell_type": "code",
   "execution_count": 9,
   "metadata": {},
   "outputs": [
    {
     "name": "stderr",
     "output_type": "stream",
     "text": [
      "100%|██████████| 10/10 [00:00<00:00, 9969.82it/s]\n"
     ]
    }
   ],
   "source": [
    "def cleantokens(tokens):\n",
    "    final_words = []\n",
    "    for word in tokens:\n",
    "        final_words.append(word)\n",
    "    text = ''\n",
    "    for word in final_words:\n",
    "        text = text + word + ' '\n",
    "    return text\n",
    "\n",
    "def cleangrams(gram_list):\n",
    "    [' '.join(gram) for gram in gram_list]\n",
    "\n",
    "tester['token_review_text'] = tester['tokenized'].progress_apply(lambda x: cleantokens(x))"
   ]
  },
  {
   "cell_type": "code",
   "execution_count": 10,
   "metadata": {},
   "outputs": [],
   "source": [
    "import regex as re\n",
    "\n",
    "from collections import Counter\n",
    "\n",
    "def getEmotion(text, returnType):\n",
    "    emotion_list = []\n",
    "    with open('lemmatized_emotions.txt', 'r') as file:\n",
    "        for line in file:\n",
    "            clear_line = line.replace('\\n', '').replace(',', '').replace(\"'\", '').strip()\n",
    "            word, emotion = clear_line.split(':')\n",
    "            for text_word in text.split(\" \"):\n",
    "                #print(text_word)\n",
    "                if text_word and not text_word.isspace() and not text_word.startswith(('*', '+')) and re.match(word, text_word):\n",
    "                    emotion_list.append(emotion)\n",
    "\n",
    "    w = Counter(emotion_list)\n",
    "    subset = w.most_common(30)\n",
    "\n",
    "    if returnType == \"list\":\n",
    "        return subset\n",
    "    elif returnType == \"counter\":\n",
    "        return w\n",
    "    else:\n",
    "        return emotion_list"
   ]
  },
  {
   "cell_type": "code",
   "execution_count": 11,
   "metadata": {},
   "outputs": [
    {
     "name": "stderr",
     "output_type": "stream",
     "text": [
      "100%|██████████| 10/10 [00:02<00:00,  3.75it/s]\n"
     ]
    }
   ],
   "source": [
    "tester['lex_txt_emotions'] = tester['token_review_text'].progress_apply(lambda x: getEmotion(x, \"list\"))"
   ]
  },
  {
   "cell_type": "markdown",
   "metadata": {},
   "source": [
    "This approach worked well, but I disagree with the emotions being used. Lutan and Badica rely on a framework of 35 emotions designed from a twitter emotion analysis study, but they dont align with the nuance of book reviews. However, this approach itself is a good option."
   ]
  },
  {
   "cell_type": "markdown",
   "metadata": {},
   "source": [
    "### TFIDF Approach"
   ]
  },
  {
   "cell_type": "code",
   "execution_count": 16,
   "metadata": {},
   "outputs": [],
   "source": [
    "from sklearn.feature_extraction.text import TfidfVectorizer\n",
    "\n",
    "tfidf = TfidfVectorizer(max_features=1000, lowercase=True, analyzer='word', stop_words= 'english', ngram_range=(1,1))\n",
    "tfidf_matrix = tfidf.fit_transform(reviews['review_text_lemmatized'])"
   ]
  },
  {
   "cell_type": "code",
   "execution_count": 17,
   "metadata": {},
   "outputs": [
    {
     "name": "stdout",
     "output_type": "stream",
     "text": [
      "[0.03739540339815773]\n"
     ]
    }
   ],
   "source": [
    "print([tfidf_matrix[1,tfidf.vocabulary_['love']]])"
   ]
  },
  {
   "cell_type": "markdown",
   "metadata": {},
   "source": [
    "Low tfidf indicates a less rare word"
   ]
  },
  {
   "cell_type": "code",
   "execution_count": 18,
   "metadata": {},
   "outputs": [
    {
     "data": {
      "image/png": "[encoded data removed]",
      "text/plain": [
       "<Figure size 1000x500 with 1 Axes>"
      ]
     },
     "metadata": {},
     "output_type": "display_data"
    }
   ],
   "source": [
    "import numpy as np\n",
    "\n",
    "total_scores = np.sum(tfidf_matrix, axis=0)\n",
    "total_scores = np.ravel(total_scores)\n",
    "\n",
    "feature_names = list(tfidf.vocabulary_.keys())\n",
    "scores_with_bigrams = list(zip(feature_names, total_scores))\n",
    "\n",
    "N = 10  # or any other number you prefer\n",
    "top_scores = sorted(scores_with_bigrams, key=lambda x: x[1], reverse=True)[:N]\n",
    "\n",
    "import matplotlib.pyplot as plt\n",
    "\n",
    "bigrams, scores = zip(*top_scores)\n",
    "plt.figure(figsize=(10, 5))\n",
    "plt.barh(bigrams, scores)\n",
    "plt.xlabel('TF-IDF Score')\n",
    "plt.title('Top TF-IDF Bigram Scores')\n",
    "plt.gca().invert_yaxis()\n",
    "plt.show()"
   ]
  },
  {
   "cell_type": "markdown",
   "metadata": {},
   "source": [
    "Not super helpful either. Resources restricting use of machine learning, so going to use lexicon."
   ]
  }
 ],
 "metadata": {
  "kernelspec": {
   "display_name": "base",
   "language": "python",
   "name": "python3"
  },
  "language_info": {
   "codemirror_mode": {
    "name": "ipython",
    "version": 3
   },
   "file_extension": ".py",
   "mimetype": "text/x-python",
   "name": "python",
   "nbconvert_exporter": "python",
   "pygments_lexer": "ipython3",
   "version": "3.11.4"
  }
 },
 "nbformat": 4,
 "nbformat_minor": 2
}
