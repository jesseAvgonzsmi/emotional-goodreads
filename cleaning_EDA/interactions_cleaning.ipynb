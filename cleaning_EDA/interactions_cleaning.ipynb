{
 "cells": [
  {
   "cell_type": "code",
   "execution_count": 1,
   "metadata": {},
   "outputs": [],
   "source": [
    "import gzip\n",
    "import json\n",
    "import re\n",
    "import os\n",
    "import sys\n",
    "import numpy as np\n",
    "import pandas as pd"
   ]
  },
  {
   "cell_type": "code",
   "execution_count": 2,
   "metadata": {},
   "outputs": [],
   "source": [
    "# Function to process a chunk of data\n",
    "def process_data(chunk, columns=None):\n",
    "    # If columns is not None, keep only those columns\n",
    "    if columns is not None:\n",
    "        chunk = chunk[columns]\n",
    "    return chunk\n",
    "\n",
    "# Function to read data in chunks and process each chunk\n",
    "def load_data(file_name, head = None, columns=None, chunksize = 1000):\n",
    "    chunks = []\n",
    "    count = 0\n",
    "    with gzip.open(file_name) as fin:\n",
    "        for chunk in pd.read_json(fin, lines=True, chunksize=chunksize):\n",
    "            # Process the chunk\n",
    "            processed_chunk = process_data(chunk, columns)\n",
    "            chunks.append(processed_chunk)\n",
    "            \n",
    "            count += 1\n",
    "            # break if reaches the head-th chunk\n",
    "            if (head is not None) and (count > head):\n",
    "                break\n",
    "\n",
    "    # Combine all chunks into a single DataFrame\n",
    "    df = pd.concat(chunks, ignore_index=True)\n",
    "    \n",
    "    return df"
   ]
  },
  {
   "cell_type": "code",
   "execution_count": 3,
   "metadata": {},
   "outputs": [],
   "source": [
    "DIR = 'C:\\\\Users\\\\jesse\\\\Desktop\\\\Honors Project\\\\goodreads_data\\\\raw\\\\'\n",
    "ya_interactions = load_data(DIR + 'goodreads_interactions_young_adult.json.gz', head = 1)"
   ]
  },
  {
   "cell_type": "code",
   "execution_count": 4,
   "metadata": {},
   "outputs": [
    {
     "data": {
      "text/html": [
       "<div>\n",
       "<style scoped>\n",
       "    .dataframe tbody tr th:only-of-type {\n",
       "        vertical-align: middle;\n",
       "    }\n",
       "\n",
       "    .dataframe tbody tr th {\n",
       "        vertical-align: top;\n",
       "    }\n",
       "\n",
       "    .dataframe thead th {\n",
       "        text-align: right;\n",
       "    }\n",
       "</style>\n",
       "<table border=\"1\" class=\"dataframe\">\n",
       "  <thead>\n",
       "    <tr style=\"text-align: right;\">\n",
       "      <th></th>\n",
       "      <th>user_id</th>\n",
       "      <th>book_id</th>\n",
       "      <th>review_id</th>\n",
       "      <th>is_read</th>\n",
       "      <th>rating</th>\n",
       "      <th>review_text_incomplete</th>\n",
       "      <th>date_added</th>\n",
       "      <th>date_updated</th>\n",
       "      <th>read_at</th>\n",
       "      <th>started_at</th>\n",
       "    </tr>\n",
       "  </thead>\n",
       "  <tbody>\n",
       "    <tr>\n",
       "      <th>0</th>\n",
       "      <td>8842281e1d1347389f2ab93d60773d4d</td>\n",
       "      <td>18667753</td>\n",
       "      <td>be53fe83a6fc83474052f84692f6e90a</td>\n",
       "      <td>False</td>\n",
       "      <td>0</td>\n",
       "      <td></td>\n",
       "      <td>Wed Mar 29 00:12:52 -0700 2017</td>\n",
       "      <td>Wed Mar 29 00:12:52 -0700 2017</td>\n",
       "      <td></td>\n",
       "      <td></td>\n",
       "    </tr>\n",
       "    <tr>\n",
       "      <th>1</th>\n",
       "      <td>8842281e1d1347389f2ab93d60773d4d</td>\n",
       "      <td>428263</td>\n",
       "      <td>2030f56879ebcc307a4b9cd8c83200e8</td>\n",
       "      <td>False</td>\n",
       "      <td>0</td>\n",
       "      <td></td>\n",
       "      <td>Mon Mar 27 22:01:42 -0700 2017</td>\n",
       "      <td>Mon Mar 27 22:01:42 -0700 2017</td>\n",
       "      <td></td>\n",
       "      <td></td>\n",
       "    </tr>\n",
       "    <tr>\n",
       "      <th>2</th>\n",
       "      <td>8842281e1d1347389f2ab93d60773d4d</td>\n",
       "      <td>11387515</td>\n",
       "      <td>2fd3cd1acb30b099c135e358669639da</td>\n",
       "      <td>False</td>\n",
       "      <td>0</td>\n",
       "      <td></td>\n",
       "      <td>Thu Jan 26 13:35:10 -0800 2017</td>\n",
       "      <td>Thu Jan 26 13:35:10 -0800 2017</td>\n",
       "      <td></td>\n",
       "      <td></td>\n",
       "    </tr>\n",
       "    <tr>\n",
       "      <th>3</th>\n",
       "      <td>8842281e1d1347389f2ab93d60773d4d</td>\n",
       "      <td>8684868</td>\n",
       "      <td>d29b8238762d70b7c2b67941bc81fbe0</td>\n",
       "      <td>True</td>\n",
       "      <td>3</td>\n",
       "      <td></td>\n",
       "      <td>Tue Dec 17 13:42:25 -0800 2013</td>\n",
       "      <td>Tue Dec 17 13:47:26 -0800 2013</td>\n",
       "      <td>Sun Dec 15 00:00:00 -0800 2013</td>\n",
       "      <td>Sat Dec 14 00:00:00 -0800 2013</td>\n",
       "    </tr>\n",
       "    <tr>\n",
       "      <th>4</th>\n",
       "      <td>8842281e1d1347389f2ab93d60773d4d</td>\n",
       "      <td>8423493</td>\n",
       "      <td>357c8c178fd0e06cff5c025649231672</td>\n",
       "      <td>True</td>\n",
       "      <td>2</td>\n",
       "      <td></td>\n",
       "      <td>Sun Dec 08 01:26:12 -0800 2013</td>\n",
       "      <td>Tue Dec 27 05:37:48 -0800 2016</td>\n",
       "      <td>Tue Dec 10 00:00:00 -0800 2013</td>\n",
       "      <td></td>\n",
       "    </tr>\n",
       "    <tr>\n",
       "      <th>...</th>\n",
       "      <td>...</td>\n",
       "      <td>...</td>\n",
       "      <td>...</td>\n",
       "      <td>...</td>\n",
       "      <td>...</td>\n",
       "      <td>...</td>\n",
       "      <td>...</td>\n",
       "      <td>...</td>\n",
       "      <td>...</td>\n",
       "      <td>...</td>\n",
       "    </tr>\n",
       "    <tr>\n",
       "      <th>1995</th>\n",
       "      <td>f8a89075dc6de14857561522e729f82c</td>\n",
       "      <td>10429092</td>\n",
       "      <td>a84fe4c0b491547bd41da90d60c66875</td>\n",
       "      <td>False</td>\n",
       "      <td>0</td>\n",
       "      <td></td>\n",
       "      <td>Tue Feb 26 17:46:41 -0800 2013</td>\n",
       "      <td>Tue Feb 26 17:46:41 -0800 2013</td>\n",
       "      <td></td>\n",
       "      <td></td>\n",
       "    </tr>\n",
       "    <tr>\n",
       "      <th>1996</th>\n",
       "      <td>f8a89075dc6de14857561522e729f82c</td>\n",
       "      <td>16148644</td>\n",
       "      <td>cc0f19a7125193c7af40991dad7acad9</td>\n",
       "      <td>False</td>\n",
       "      <td>0</td>\n",
       "      <td></td>\n",
       "      <td>Tue Feb 26 17:46:40 -0800 2013</td>\n",
       "      <td>Tue Feb 26 17:46:40 -0800 2013</td>\n",
       "      <td></td>\n",
       "      <td></td>\n",
       "    </tr>\n",
       "    <tr>\n",
       "      <th>1997</th>\n",
       "      <td>f8a89075dc6de14857561522e729f82c</td>\n",
       "      <td>14739821</td>\n",
       "      <td>436346cde89624897615cb050701fa1e</td>\n",
       "      <td>False</td>\n",
       "      <td>0</td>\n",
       "      <td></td>\n",
       "      <td>Tue Feb 26 17:46:37 -0800 2013</td>\n",
       "      <td>Tue Feb 26 17:46:37 -0800 2013</td>\n",
       "      <td></td>\n",
       "      <td></td>\n",
       "    </tr>\n",
       "    <tr>\n",
       "      <th>1998</th>\n",
       "      <td>f8a89075dc6de14857561522e729f82c</td>\n",
       "      <td>7849034</td>\n",
       "      <td>c94f1d483d5649c4c19b080a55700f62</td>\n",
       "      <td>False</td>\n",
       "      <td>0</td>\n",
       "      <td></td>\n",
       "      <td>Tue Feb 26 17:43:15 -0800 2013</td>\n",
       "      <td>Tue Feb 26 17:43:15 -0800 2013</td>\n",
       "      <td></td>\n",
       "      <td></td>\n",
       "    </tr>\n",
       "    <tr>\n",
       "      <th>1999</th>\n",
       "      <td>f8a89075dc6de14857561522e729f82c</td>\n",
       "      <td>12995284</td>\n",
       "      <td>d815db791154be1bd1fa6d200625eb1b</td>\n",
       "      <td>False</td>\n",
       "      <td>0</td>\n",
       "      <td></td>\n",
       "      <td>Tue Feb 26 17:43:13 -0800 2013</td>\n",
       "      <td>Tue Feb 26 17:43:13 -0800 2013</td>\n",
       "      <td></td>\n",
       "      <td></td>\n",
       "    </tr>\n",
       "  </tbody>\n",
       "</table>\n",
       "<p>2000 rows × 10 columns</p>\n",
       "</div>"
      ],
      "text/plain": [
       "                               user_id   book_id  \\\n",
       "0     8842281e1d1347389f2ab93d60773d4d  18667753   \n",
       "1     8842281e1d1347389f2ab93d60773d4d    428263   \n",
       "2     8842281e1d1347389f2ab93d60773d4d  11387515   \n",
       "3     8842281e1d1347389f2ab93d60773d4d   8684868   \n",
       "4     8842281e1d1347389f2ab93d60773d4d   8423493   \n",
       "...                                ...       ...   \n",
       "1995  f8a89075dc6de14857561522e729f82c  10429092   \n",
       "1996  f8a89075dc6de14857561522e729f82c  16148644   \n",
       "1997  f8a89075dc6de14857561522e729f82c  14739821   \n",
       "1998  f8a89075dc6de14857561522e729f82c   7849034   \n",
       "1999  f8a89075dc6de14857561522e729f82c  12995284   \n",
       "\n",
       "                             review_id  is_read  rating  \\\n",
       "0     be53fe83a6fc83474052f84692f6e90a    False       0   \n",
       "1     2030f56879ebcc307a4b9cd8c83200e8    False       0   \n",
       "2     2fd3cd1acb30b099c135e358669639da    False       0   \n",
       "3     d29b8238762d70b7c2b67941bc81fbe0     True       3   \n",
       "4     357c8c178fd0e06cff5c025649231672     True       2   \n",
       "...                                ...      ...     ...   \n",
       "1995  a84fe4c0b491547bd41da90d60c66875    False       0   \n",
       "1996  cc0f19a7125193c7af40991dad7acad9    False       0   \n",
       "1997  436346cde89624897615cb050701fa1e    False       0   \n",
       "1998  c94f1d483d5649c4c19b080a55700f62    False       0   \n",
       "1999  d815db791154be1bd1fa6d200625eb1b    False       0   \n",
       "\n",
       "     review_text_incomplete                      date_added  \\\n",
       "0                            Wed Mar 29 00:12:52 -0700 2017   \n",
       "1                            Mon Mar 27 22:01:42 -0700 2017   \n",
       "2                            Thu Jan 26 13:35:10 -0800 2017   \n",
       "3                            Tue Dec 17 13:42:25 -0800 2013   \n",
       "4                            Sun Dec 08 01:26:12 -0800 2013   \n",
       "...                     ...                             ...   \n",
       "1995                         Tue Feb 26 17:46:41 -0800 2013   \n",
       "1996                         Tue Feb 26 17:46:40 -0800 2013   \n",
       "1997                         Tue Feb 26 17:46:37 -0800 2013   \n",
       "1998                         Tue Feb 26 17:43:15 -0800 2013   \n",
       "1999                         Tue Feb 26 17:43:13 -0800 2013   \n",
       "\n",
       "                        date_updated                         read_at  \\\n",
       "0     Wed Mar 29 00:12:52 -0700 2017                                   \n",
       "1     Mon Mar 27 22:01:42 -0700 2017                                   \n",
       "2     Thu Jan 26 13:35:10 -0800 2017                                   \n",
       "3     Tue Dec 17 13:47:26 -0800 2013  Sun Dec 15 00:00:00 -0800 2013   \n",
       "4     Tue Dec 27 05:37:48 -0800 2016  Tue Dec 10 00:00:00 -0800 2013   \n",
       "...                              ...                             ...   \n",
       "1995  Tue Feb 26 17:46:41 -0800 2013                                   \n",
       "1996  Tue Feb 26 17:46:40 -0800 2013                                   \n",
       "1997  Tue Feb 26 17:46:37 -0800 2013                                   \n",
       "1998  Tue Feb 26 17:43:15 -0800 2013                                   \n",
       "1999  Tue Feb 26 17:43:13 -0800 2013                                   \n",
       "\n",
       "                          started_at  \n",
       "0                                     \n",
       "1                                     \n",
       "2                                     \n",
       "3     Sat Dec 14 00:00:00 -0800 2013  \n",
       "4                                     \n",
       "...                              ...  \n",
       "1995                                  \n",
       "1996                                  \n",
       "1997                                  \n",
       "1998                                  \n",
       "1999                                  \n",
       "\n",
       "[2000 rows x 10 columns]"
      ]
     },
     "execution_count": 4,
     "metadata": {},
     "output_type": "execute_result"
    }
   ],
   "source": [
    "ya_interactions"
   ]
  },
  {
   "cell_type": "code",
   "execution_count": 5,
   "metadata": {},
   "outputs": [
    {
     "data": {
      "text/plain": [
       "Index(['user_id', 'book_id', 'review_id', 'is_read', 'rating',\n",
       "       'review_text_incomplete', 'date_added', 'date_updated', 'read_at',\n",
       "       'started_at'],\n",
       "      dtype='object')"
      ]
     },
     "execution_count": 5,
     "metadata": {},
     "output_type": "execute_result"
    }
   ],
   "source": [
    "ya_interactions.columns"
   ]
  },
  {
   "cell_type": "markdown",
   "metadata": {},
   "source": [
    "ya_interactions keep: ['user_id', 'book_id', 'review_id', 'is_read', 'rating']"
   ]
  },
  {
   "cell_type": "code",
   "execution_count": 6,
   "metadata": {},
   "outputs": [
    {
     "name": "stdout",
     "output_type": "stream",
     "text": [
      "<class 'pandas.core.frame.DataFrame'>\n",
      "RangeIndex: 34919254 entries, 0 to 34919253\n",
      "Data columns (total 4 columns):\n",
      " #   Column   Dtype \n",
      "---  ------   ----- \n",
      " 0   user_id  object\n",
      " 1   book_id  int64 \n",
      " 2   is_read  bool  \n",
      " 3   rating   int64 \n",
      "dtypes: bool(1), int64(2), object(1)\n",
      "memory usage: 832.5+ MB\n"
     ]
    }
   ],
   "source": [
    "ya_interactions = load_data(DIR + 'goodreads_interactions_young_adult.json.gz', columns = ['user_id', 'book_id', 'is_read', 'rating'])\n",
    "ya_interactions.info()"
   ]
  },
  {
   "cell_type": "code",
   "execution_count": 7,
   "metadata": {},
   "outputs": [
    {
     "name": "stdout",
     "output_type": "stream",
     "text": [
      "50 36524503 book_id\n",
      "0 5 rating\n"
     ]
    }
   ],
   "source": [
    "#for int and float types, print out the min and max, followed by the column name\n",
    "for col in ya_interactions.columns:\n",
    "    if ya_interactions[col].dtype == 'int64' or ya_interactions[col].dtype == 'float64':\n",
    "        print(ya_interactions[col].min(), ya_interactions[col].max(), col)"
   ]
  },
  {
   "cell_type": "code",
   "execution_count": 8,
   "metadata": {},
   "outputs": [],
   "source": [
    "ya_interactions['book_id'] = ya_interactions['book_id'].astype('int32')\n",
    "ya_interactions['rating'] = ya_interactions['rating'].astype('int8')"
   ]
  },
  {
   "cell_type": "code",
   "execution_count": 9,
   "metadata": {},
   "outputs": [
    {
     "data": {
      "text/plain": [
       "0"
      ]
     },
     "execution_count": 9,
     "metadata": {},
     "output_type": "execute_result"
    }
   ],
   "source": [
    "#check for duplicate book_id, user_id in ya_interactions\n",
    "ya_interactions[['book_id', 'user_id']].duplicated().sum()"
   ]
  },
  {
   "cell_type": "code",
   "execution_count": 10,
   "metadata": {},
   "outputs": [],
   "source": [
    "ya_interactions.replace('', np.nan, inplace=True)"
   ]
  },
  {
   "cell_type": "code",
   "execution_count": 11,
   "metadata": {},
   "outputs": [
    {
     "data": {
      "text/plain": [
       "0"
      ]
     },
     "execution_count": 11,
     "metadata": {},
     "output_type": "execute_result"
    }
   ],
   "source": [
    "#check for duplicate book_id, user_id in ya_interactions\n",
    "ya_interactions[['book_id', 'user_id']].duplicated().sum()"
   ]
  },
  {
   "cell_type": "code",
   "execution_count": 12,
   "metadata": {},
   "outputs": [
    {
     "name": "stdout",
     "output_type": "stream",
     "text": [
      "<class 'pandas.core.frame.DataFrame'>\n",
      "RangeIndex: 34919254 entries, 0 to 34919253\n",
      "Data columns (total 4 columns):\n",
      " #   Column   Dtype \n",
      "---  ------   ----- \n",
      " 0   user_id  object\n",
      " 1   book_id  int32 \n",
      " 2   is_read  bool  \n",
      " 3   rating   int8  \n",
      "dtypes: bool(1), int32(1), int8(1), object(1)\n",
      "memory usage: 466.2+ MB\n"
     ]
    }
   ],
   "source": [
    "ya_interactions.info()"
   ]
  },
  {
   "cell_type": "markdown",
   "metadata": {},
   "source": [
    "no nulls either"
   ]
  },
  {
   "cell_type": "code",
   "execution_count": 13,
   "metadata": {},
   "outputs": [
    {
     "data": {
      "text/plain": [
       "is_read\n",
       "False    19196505\n",
       "True     15722749\n",
       "Name: count, dtype: int64"
      ]
     },
     "execution_count": 13,
     "metadata": {},
     "output_type": "execute_result"
    }
   ],
   "source": [
    "#how many false values are there in ya_interactions['is_read']?\n",
    "ya_interactions['is_read'].value_counts()"
   ]
  },
  {
   "cell_type": "markdown",
   "metadata": {},
   "source": [
    "More than half of the interactions involve books that the users haven't read yet -- in some way they are expressing interest in them though, likely as to-read options"
   ]
  },
  {
   "cell_type": "code",
   "execution_count": null,
   "metadata": {},
   "outputs": [],
   "source": [
    "ya_interactions = ya_interactions.drop(columns=['review_text_incomplete', 'date_added', 'date_updated', 'read_at', 'started_at'])"
   ]
  },
  {
   "cell_type": "code",
   "execution_count": null,
   "metadata": {},
   "outputs": [
    {
     "name": "stdout",
     "output_type": "stream",
     "text": [
      "<class 'pandas.core.frame.DataFrame'>\n",
      "RangeIndex: 34919254 entries, 0 to 34919253\n",
      "Data columns (total 5 columns):\n",
      " #   Column     Dtype \n",
      "---  ------     ----- \n",
      " 0   user_id    object\n",
      " 1   book_id    int64 \n",
      " 2   review_id  object\n",
      " 3   is_read    bool  \n",
      " 4   rating     int64 \n",
      "dtypes: bool(1), int64(2), object(2)\n",
      "memory usage: 1.1+ GB\n"
     ]
    }
   ],
   "source": [
    "ya_interactions.info()"
   ]
  },
  {
   "cell_type": "code",
   "execution_count": null,
   "metadata": {},
   "outputs": [
    {
     "name": "stdout",
     "output_type": "stream",
     "text": [
      "<class 'pandas.core.frame.DataFrame'>\n",
      "Index: 15722749 entries, 3 to 34919253\n",
      "Data columns (total 5 columns):\n",
      " #   Column     Dtype \n",
      "---  ------     ----- \n",
      " 0   user_id    object\n",
      " 1   book_id    int64 \n",
      " 2   review_id  object\n",
      " 3   is_read    bool  \n",
      " 4   rating     int64 \n",
      "dtypes: bool(1), int64(2), object(2)\n",
      "memory usage: 614.8+ MB\n"
     ]
    }
   ],
   "source": [
    "interactions_read = ya_interactions[ya_interactions['is_read'] == True]\n",
    "interactions_read.info()"
   ]
  },
  {
   "cell_type": "code",
   "execution_count": null,
   "metadata": {},
   "outputs": [],
   "source": [
    "interactions_interested= ya_interactions[ya_interactions['is_read'] == False]"
   ]
  },
  {
   "cell_type": "code",
   "execution_count": null,
   "metadata": {},
   "outputs": [],
   "source": [
    "#export to parquet\n",
    "interactions_interested.to_parquet('C:\\\\Users\\\\jesse\\\\Desktop\\\\Honors Project\\\\ya_interactions_interested.parquet')"
   ]
  }
 ],
 "metadata": {
  "kernelspec": {
   "display_name": "base",
   "language": "python",
   "name": "python3"
  },
  "language_info": {
   "codemirror_mode": {
    "name": "ipython",
    "version": 3
   },
   "file_extension": ".py",
   "mimetype": "text/x-python",
   "name": "python",
   "nbconvert_exporter": "python",
   "pygments_lexer": "ipython3",
   "version": "3.11.7"
  }
 },
 "nbformat": 4,
 "nbformat_minor": 2
}
